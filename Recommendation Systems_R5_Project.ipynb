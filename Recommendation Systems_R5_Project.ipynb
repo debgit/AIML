{
 "cells": [
  {
   "cell_type": "markdown",
   "metadata": {},
   "source": [
    "# Building a Electronics Product recommender"
   ]
  },
  {
   "cell_type": "code",
   "execution_count": null,
   "metadata": {},
   "outputs": [],
   "source": [
    "%matplotlib inline\n",
    "\n",
    "import pandas as pd\n",
    "import matplotlib.pyplot as plt\n",
    "import seaborn as sb\n",
    "from sklearn.cross_validation import train_test_split\n",
    "import numpy as np\n",
    "import time\n",
    "from sklearn.externals import joblib\n"
   ]
  },
  {
   "cell_type": "code",
   "execution_count": null,
   "metadata": {},
   "outputs": [],
   "source": [
    "import Recommenders as Recommenders\n",
    "import Evaluation as Evaluation"
   ]
  },
  {
   "cell_type": "markdown",
   "metadata": {},
   "source": [
    "# Load Product data"
   ]
  },
  {
   "cell_type": "code",
   "execution_count": 3,
   "metadata": {},
   "outputs": [],
   "source": [
    "df=pd.read_csv(\"ratings_Electronics.csv\", names=[\"user_id\", \"productId\", \"ratings\",\"timestamp\"])"
   ]
  },
  {
   "cell_type": "code",
   "execution_count": 4,
   "metadata": {},
   "outputs": [
    {
     "data": {
      "text/html": [
       "<div>\n",
       "<style scoped>\n",
       "    .dataframe tbody tr th:only-of-type {\n",
       "        vertical-align: middle;\n",
       "    }\n",
       "\n",
       "    .dataframe tbody tr th {\n",
       "        vertical-align: top;\n",
       "    }\n",
       "\n",
       "    .dataframe thead th {\n",
       "        text-align: right;\n",
       "    }\n",
       "</style>\n",
       "<table border=\"1\" class=\"dataframe\">\n",
       "  <thead>\n",
       "    <tr style=\"text-align: right;\">\n",
       "      <th></th>\n",
       "      <th>user_id</th>\n",
       "      <th>productId</th>\n",
       "      <th>ratings</th>\n",
       "      <th>timestamp</th>\n",
       "    </tr>\n",
       "  </thead>\n",
       "  <tbody>\n",
       "    <tr>\n",
       "      <th>0</th>\n",
       "      <td>AKM1MP6P0OYPR</td>\n",
       "      <td>0132793040</td>\n",
       "      <td>5.0</td>\n",
       "      <td>1365811200</td>\n",
       "    </tr>\n",
       "    <tr>\n",
       "      <th>1</th>\n",
       "      <td>A2CX7LUOHB2NDG</td>\n",
       "      <td>0321732944</td>\n",
       "      <td>5.0</td>\n",
       "      <td>1341100800</td>\n",
       "    </tr>\n",
       "    <tr>\n",
       "      <th>2</th>\n",
       "      <td>A2NWSAGRHCP8N5</td>\n",
       "      <td>0439886341</td>\n",
       "      <td>1.0</td>\n",
       "      <td>1367193600</td>\n",
       "    </tr>\n",
       "    <tr>\n",
       "      <th>3</th>\n",
       "      <td>A2WNBOD3WNDNKT</td>\n",
       "      <td>0439886341</td>\n",
       "      <td>3.0</td>\n",
       "      <td>1374451200</td>\n",
       "    </tr>\n",
       "    <tr>\n",
       "      <th>4</th>\n",
       "      <td>A1GI0U4ZRJA8WN</td>\n",
       "      <td>0439886341</td>\n",
       "      <td>1.0</td>\n",
       "      <td>1334707200</td>\n",
       "    </tr>\n",
       "  </tbody>\n",
       "</table>\n",
       "</div>"
      ],
      "text/plain": [
       "          user_id   productId  ratings   timestamp\n",
       "0   AKM1MP6P0OYPR  0132793040      5.0  1365811200\n",
       "1  A2CX7LUOHB2NDG  0321732944      5.0  1341100800\n",
       "2  A2NWSAGRHCP8N5  0439886341      1.0  1367193600\n",
       "3  A2WNBOD3WNDNKT  0439886341      3.0  1374451200\n",
       "4  A1GI0U4ZRJA8WN  0439886341      1.0  1334707200"
      ]
     },
     "execution_count": 4,
     "metadata": {},
     "output_type": "execute_result"
    }
   ],
   "source": [
    "df.head()"
   ]
  },
  {
   "cell_type": "code",
   "execution_count": 5,
   "metadata": {},
   "outputs": [],
   "source": [
    "df=df.drop(columns=\"timestamp\")"
   ]
  },
  {
   "cell_type": "code",
   "execution_count": 6,
   "metadata": {},
   "outputs": [
    {
     "data": {
      "text/html": [
       "<div>\n",
       "<style scoped>\n",
       "    .dataframe tbody tr th:only-of-type {\n",
       "        vertical-align: middle;\n",
       "    }\n",
       "\n",
       "    .dataframe tbody tr th {\n",
       "        vertical-align: top;\n",
       "    }\n",
       "\n",
       "    .dataframe thead th {\n",
       "        text-align: right;\n",
       "    }\n",
       "</style>\n",
       "<table border=\"1\" class=\"dataframe\">\n",
       "  <thead>\n",
       "    <tr style=\"text-align: right;\">\n",
       "      <th></th>\n",
       "      <th>user_id</th>\n",
       "      <th>productId</th>\n",
       "      <th>ratings</th>\n",
       "    </tr>\n",
       "  </thead>\n",
       "  <tbody>\n",
       "    <tr>\n",
       "      <th>0</th>\n",
       "      <td>AKM1MP6P0OYPR</td>\n",
       "      <td>0132793040</td>\n",
       "      <td>5.0</td>\n",
       "    </tr>\n",
       "    <tr>\n",
       "      <th>1</th>\n",
       "      <td>A2CX7LUOHB2NDG</td>\n",
       "      <td>0321732944</td>\n",
       "      <td>5.0</td>\n",
       "    </tr>\n",
       "    <tr>\n",
       "      <th>2</th>\n",
       "      <td>A2NWSAGRHCP8N5</td>\n",
       "      <td>0439886341</td>\n",
       "      <td>1.0</td>\n",
       "    </tr>\n",
       "    <tr>\n",
       "      <th>3</th>\n",
       "      <td>A2WNBOD3WNDNKT</td>\n",
       "      <td>0439886341</td>\n",
       "      <td>3.0</td>\n",
       "    </tr>\n",
       "    <tr>\n",
       "      <th>4</th>\n",
       "      <td>A1GI0U4ZRJA8WN</td>\n",
       "      <td>0439886341</td>\n",
       "      <td>1.0</td>\n",
       "    </tr>\n",
       "  </tbody>\n",
       "</table>\n",
       "</div>"
      ],
      "text/plain": [
       "          user_id   productId  ratings\n",
       "0   AKM1MP6P0OYPR  0132793040      5.0\n",
       "1  A2CX7LUOHB2NDG  0321732944      5.0\n",
       "2  A2NWSAGRHCP8N5  0439886341      1.0\n",
       "3  A2WNBOD3WNDNKT  0439886341      3.0\n",
       "4  A1GI0U4ZRJA8WN  0439886341      1.0"
      ]
     },
     "execution_count": 6,
     "metadata": {},
     "output_type": "execute_result"
    }
   ],
   "source": [
    "df.head()"
   ]
  },
  {
   "cell_type": "code",
   "execution_count": 7,
   "metadata": {},
   "outputs": [
    {
     "data": {
      "text/plain": [
       "(7824482, 3)"
      ]
     },
     "execution_count": 7,
     "metadata": {},
     "output_type": "execute_result"
    }
   ],
   "source": [
    "df.shape"
   ]
  },
  {
   "cell_type": "code",
   "execution_count": 8,
   "metadata": {},
   "outputs": [
    {
     "data": {
      "text/html": [
       "<div>\n",
       "<style scoped>\n",
       "    .dataframe tbody tr th:only-of-type {\n",
       "        vertical-align: middle;\n",
       "    }\n",
       "\n",
       "    .dataframe tbody tr th {\n",
       "        vertical-align: top;\n",
       "    }\n",
       "\n",
       "    .dataframe thead th {\n",
       "        text-align: right;\n",
       "    }\n",
       "</style>\n",
       "<table border=\"1\" class=\"dataframe\">\n",
       "  <thead>\n",
       "    <tr style=\"text-align: right;\">\n",
       "      <th></th>\n",
       "      <th>user_id</th>\n",
       "      <th>productId</th>\n",
       "      <th>ratings</th>\n",
       "    </tr>\n",
       "  </thead>\n",
       "  <tbody>\n",
       "    <tr>\n",
       "      <th>0</th>\n",
       "      <td>AKM1MP6P0OYPR</td>\n",
       "      <td>0132793040</td>\n",
       "      <td>5.0</td>\n",
       "    </tr>\n",
       "    <tr>\n",
       "      <th>1</th>\n",
       "      <td>A2CX7LUOHB2NDG</td>\n",
       "      <td>0321732944</td>\n",
       "      <td>5.0</td>\n",
       "    </tr>\n",
       "    <tr>\n",
       "      <th>2</th>\n",
       "      <td>A2NWSAGRHCP8N5</td>\n",
       "      <td>0439886341</td>\n",
       "      <td>1.0</td>\n",
       "    </tr>\n",
       "    <tr>\n",
       "      <th>3</th>\n",
       "      <td>A2WNBOD3WNDNKT</td>\n",
       "      <td>0439886341</td>\n",
       "      <td>3.0</td>\n",
       "    </tr>\n",
       "    <tr>\n",
       "      <th>4</th>\n",
       "      <td>A1GI0U4ZRJA8WN</td>\n",
       "      <td>0439886341</td>\n",
       "      <td>1.0</td>\n",
       "    </tr>\n",
       "  </tbody>\n",
       "</table>\n",
       "</div>"
      ],
      "text/plain": [
       "          user_id   productId  ratings\n",
       "0   AKM1MP6P0OYPR  0132793040      5.0\n",
       "1  A2CX7LUOHB2NDG  0321732944      5.0\n",
       "2  A2NWSAGRHCP8N5  0439886341      1.0\n",
       "3  A2WNBOD3WNDNKT  0439886341      3.0\n",
       "4  A1GI0U4ZRJA8WN  0439886341      1.0"
      ]
     },
     "execution_count": 8,
     "metadata": {},
     "output_type": "execute_result"
    }
   ],
   "source": [
    "df.head()"
   ]
  },
  {
   "cell_type": "code",
   "execution_count": 9,
   "metadata": {},
   "outputs": [],
   "source": [
    "df[\"eY\"]=df.groupby(\"user_id\")[\"productId\"].transform(\"count\")"
   ]
  },
  {
   "cell_type": "code",
   "execution_count": 10,
   "metadata": {},
   "outputs": [
    {
     "data": {
      "text/html": [
       "<div>\n",
       "<style scoped>\n",
       "    .dataframe tbody tr th:only-of-type {\n",
       "        vertical-align: middle;\n",
       "    }\n",
       "\n",
       "    .dataframe tbody tr th {\n",
       "        vertical-align: top;\n",
       "    }\n",
       "\n",
       "    .dataframe thead th {\n",
       "        text-align: right;\n",
       "    }\n",
       "</style>\n",
       "<table border=\"1\" class=\"dataframe\">\n",
       "  <thead>\n",
       "    <tr style=\"text-align: right;\">\n",
       "      <th></th>\n",
       "      <th>user_id</th>\n",
       "      <th>productId</th>\n",
       "      <th>ratings</th>\n",
       "      <th>eY</th>\n",
       "    </tr>\n",
       "  </thead>\n",
       "  <tbody>\n",
       "    <tr>\n",
       "      <th>0</th>\n",
       "      <td>AKM1MP6P0OYPR</td>\n",
       "      <td>0132793040</td>\n",
       "      <td>5.0</td>\n",
       "      <td>2</td>\n",
       "    </tr>\n",
       "    <tr>\n",
       "      <th>1</th>\n",
       "      <td>A2CX7LUOHB2NDG</td>\n",
       "      <td>0321732944</td>\n",
       "      <td>5.0</td>\n",
       "      <td>4</td>\n",
       "    </tr>\n",
       "    <tr>\n",
       "      <th>2</th>\n",
       "      <td>A2NWSAGRHCP8N5</td>\n",
       "      <td>0439886341</td>\n",
       "      <td>1.0</td>\n",
       "      <td>1</td>\n",
       "    </tr>\n",
       "    <tr>\n",
       "      <th>3</th>\n",
       "      <td>A2WNBOD3WNDNKT</td>\n",
       "      <td>0439886341</td>\n",
       "      <td>3.0</td>\n",
       "      <td>1</td>\n",
       "    </tr>\n",
       "    <tr>\n",
       "      <th>4</th>\n",
       "      <td>A1GI0U4ZRJA8WN</td>\n",
       "      <td>0439886341</td>\n",
       "      <td>1.0</td>\n",
       "      <td>1</td>\n",
       "    </tr>\n",
       "  </tbody>\n",
       "</table>\n",
       "</div>"
      ],
      "text/plain": [
       "          user_id   productId  ratings  eY\n",
       "0   AKM1MP6P0OYPR  0132793040      5.0   2\n",
       "1  A2CX7LUOHB2NDG  0321732944      5.0   4\n",
       "2  A2NWSAGRHCP8N5  0439886341      1.0   1\n",
       "3  A2WNBOD3WNDNKT  0439886341      3.0   1\n",
       "4  A1GI0U4ZRJA8WN  0439886341      1.0   1"
      ]
     },
     "execution_count": 10,
     "metadata": {},
     "output_type": "execute_result"
    }
   ],
   "source": [
    "df.head()"
   ]
  },
  {
   "cell_type": "code",
   "execution_count": 11,
   "metadata": {},
   "outputs": [],
   "source": [
    "df_a=df[df[\"eY\"]>=50]"
   ]
  },
  {
   "cell_type": "code",
   "execution_count": 12,
   "metadata": {},
   "outputs": [
    {
     "name": "stderr",
     "output_type": "stream",
     "text": [
      "C:\\Users\\desatapa\\AppData\\Local\\Continuum\\anaconda3\\lib\\site-packages\\pandas\\core\\frame.py:3697: SettingWithCopyWarning: \n",
      "A value is trying to be set on a copy of a slice from a DataFrame\n",
      "\n",
      "See the caveats in the documentation: http://pandas.pydata.org/pandas-docs/stable/indexing.html#indexing-view-versus-copy\n",
      "  errors=errors)\n"
     ]
    }
   ],
   "source": [
    "df_a.drop(columns=\"eY\",inplace=True)"
   ]
  },
  {
   "cell_type": "code",
   "execution_count": 13,
   "metadata": {},
   "outputs": [
    {
     "data": {
      "text/html": [
       "<div>\n",
       "<style scoped>\n",
       "    .dataframe tbody tr th:only-of-type {\n",
       "        vertical-align: middle;\n",
       "    }\n",
       "\n",
       "    .dataframe tbody tr th {\n",
       "        vertical-align: top;\n",
       "    }\n",
       "\n",
       "    .dataframe thead th {\n",
       "        text-align: right;\n",
       "    }\n",
       "</style>\n",
       "<table border=\"1\" class=\"dataframe\">\n",
       "  <thead>\n",
       "    <tr style=\"text-align: right;\">\n",
       "      <th></th>\n",
       "      <th>user_id</th>\n",
       "      <th>productId</th>\n",
       "      <th>ratings</th>\n",
       "    </tr>\n",
       "  </thead>\n",
       "  <tbody>\n",
       "    <tr>\n",
       "      <th>94</th>\n",
       "      <td>A3BY5KCNQZXV5U</td>\n",
       "      <td>0594451647</td>\n",
       "      <td>5.0</td>\n",
       "    </tr>\n",
       "    <tr>\n",
       "      <th>118</th>\n",
       "      <td>AT09WGFUM934H</td>\n",
       "      <td>0594481813</td>\n",
       "      <td>3.0</td>\n",
       "    </tr>\n",
       "    <tr>\n",
       "      <th>177</th>\n",
       "      <td>A32HSNCNPRUMTR</td>\n",
       "      <td>0970407998</td>\n",
       "      <td>1.0</td>\n",
       "    </tr>\n",
       "    <tr>\n",
       "      <th>178</th>\n",
       "      <td>A17HMM1M7T9PJ1</td>\n",
       "      <td>0970407998</td>\n",
       "      <td>4.0</td>\n",
       "    </tr>\n",
       "    <tr>\n",
       "      <th>492</th>\n",
       "      <td>A3CLWR1UUZT6TG</td>\n",
       "      <td>0972683275</td>\n",
       "      <td>5.0</td>\n",
       "    </tr>\n",
       "  </tbody>\n",
       "</table>\n",
       "</div>"
      ],
      "text/plain": [
       "            user_id   productId  ratings\n",
       "94   A3BY5KCNQZXV5U  0594451647      5.0\n",
       "118   AT09WGFUM934H  0594481813      3.0\n",
       "177  A32HSNCNPRUMTR  0970407998      1.0\n",
       "178  A17HMM1M7T9PJ1  0970407998      4.0\n",
       "492  A3CLWR1UUZT6TG  0972683275      5.0"
      ]
     },
     "execution_count": 13,
     "metadata": {},
     "output_type": "execute_result"
    }
   ],
   "source": [
    "df_a.head()"
   ]
  },
  {
   "cell_type": "code",
   "execution_count": 14,
   "metadata": {},
   "outputs": [
    {
     "data": {
      "text/plain": [
       "(125871, 3)"
      ]
     },
     "execution_count": 14,
     "metadata": {},
     "output_type": "execute_result"
    }
   ],
   "source": [
    "df_a.shape"
   ]
  },
  {
   "cell_type": "markdown",
   "metadata": {},
   "source": [
    "## Count number of unique users in the dataset"
   ]
  },
  {
   "cell_type": "code",
   "execution_count": 15,
   "metadata": {},
   "outputs": [],
   "source": [
    "users = df_a['user_id'].unique()"
   ]
  },
  {
   "cell_type": "code",
   "execution_count": 16,
   "metadata": {},
   "outputs": [
    {
     "data": {
      "text/plain": [
       "1540"
      ]
     },
     "execution_count": 16,
     "metadata": {},
     "output_type": "execute_result"
    }
   ],
   "source": [
    "len(users)"
   ]
  },
  {
   "cell_type": "markdown",
   "metadata": {},
   "source": [
    "## Quiz 1. Count the number of unique Products in the dataset"
   ]
  },
  {
   "cell_type": "code",
   "execution_count": 17,
   "metadata": {},
   "outputs": [
    {
     "data": {
      "text/plain": [
       "48190"
      ]
     },
     "execution_count": 17,
     "metadata": {},
     "output_type": "execute_result"
    }
   ],
   "source": [
    "###Fill in the code here\n",
    "products = df_a['productId'].unique()\n",
    "len(products)"
   ]
  },
  {
   "cell_type": "code",
   "execution_count": 18,
   "metadata": {},
   "outputs": [
    {
     "data": {
      "text/plain": [
       "<matplotlib.axes._subplots.AxesSubplot at 0xaa52940>"
      ]
     },
     "execution_count": 18,
     "metadata": {},
     "output_type": "execute_result"
    },
    {
     "data": {
      "image/png": "[encoded data removed]",
      "text/plain": [
       "<Figure size 432x288 with 1 Axes>"
      ]
     },
     "metadata": {
      "needs_background": "light"
     },
     "output_type": "display_data"
    }
   ],
   "source": [
    "df_a['ratings'].hist(bins=60)"
   ]
  },
  {
   "cell_type": "code",
   "execution_count": 19,
   "metadata": {},
   "outputs": [],
   "source": [
    "#From the above histogram it is clear that ratings 5 has more frequency."
   ]
  },
  {
   "cell_type": "markdown",
   "metadata": {},
   "source": [
    "# Create a Electronics Product recommender"
   ]
  },
  {
   "cell_type": "code",
   "execution_count": 20,
   "metadata": {},
   "outputs": [
    {
     "name": "stdout",
     "output_type": "stream",
     "text": [
      "                user_id   productId  ratings\n",
      "6595853  A2BYV7S1QP2YIG  B009EAHVTA      5.0\n",
      "4738241   AB094YABX21WQ  B0056XCEAA      1.0\n",
      "4175596  A3D0UM4ZD2CMAW  B004I763AW      5.0\n",
      "3753016   AATWFX0ZZSE6C  B0040NPHMO      3.0\n",
      "1734767  A1NNMOD9H36Q8E  B0015VW3BM      4.0\n"
     ]
    }
   ],
   "source": [
    "train_data, test_data = train_test_split(df_a, test_size = 0.30, random_state=0)\n",
    "print(train_data.head(5))"
   ]
  },
  {
   "cell_type": "markdown",
   "metadata": {},
   "source": [
    "### Create an instance of popularity based recommender class"
   ]
  },
  {
   "cell_type": "code",
   "execution_count": 21,
   "metadata": {},
   "outputs": [],
   "source": [
    "pm = Recommenders.popularity_recommender_py()\n",
    "pm.create(train_data, 'user_id', 'productId')"
   ]
  },
  {
   "cell_type": "markdown",
   "metadata": {},
   "source": [
    "### Use the popularity model to make some predictions"
   ]
  },
  {
   "cell_type": "code",
   "execution_count": 22,
   "metadata": {},
   "outputs": [
    {
     "data": {
      "text/html": [
       "<div>\n",
       "<style scoped>\n",
       "    .dataframe tbody tr th:only-of-type {\n",
       "        vertical-align: middle;\n",
       "    }\n",
       "\n",
       "    .dataframe tbody tr th {\n",
       "        vertical-align: top;\n",
       "    }\n",
       "\n",
       "    .dataframe thead th {\n",
       "        text-align: right;\n",
       "    }\n",
       "</style>\n",
       "<table border=\"1\" class=\"dataframe\">\n",
       "  <thead>\n",
       "    <tr style=\"text-align: right;\">\n",
       "      <th></th>\n",
       "      <th>user_id</th>\n",
       "      <th>productId</th>\n",
       "      <th>score</th>\n",
       "      <th>Rank</th>\n",
       "    </tr>\n",
       "  </thead>\n",
       "  <tbody>\n",
       "    <tr>\n",
       "      <th>30847</th>\n",
       "      <td>A341HCMGNZCBIT</td>\n",
       "      <td>B0088CJT4U</td>\n",
       "      <td>133</td>\n",
       "      <td>1.0</td>\n",
       "    </tr>\n",
       "    <tr>\n",
       "      <th>30287</th>\n",
       "      <td>A341HCMGNZCBIT</td>\n",
       "      <td>B007WTAJTO</td>\n",
       "      <td>124</td>\n",
       "      <td>2.0</td>\n",
       "    </tr>\n",
       "    <tr>\n",
       "      <th>19647</th>\n",
       "      <td>A341HCMGNZCBIT</td>\n",
       "      <td>B003ES5ZUU</td>\n",
       "      <td>122</td>\n",
       "      <td>3.0</td>\n",
       "    </tr>\n",
       "    <tr>\n",
       "      <th>8752</th>\n",
       "      <td>A341HCMGNZCBIT</td>\n",
       "      <td>B000N99BBC</td>\n",
       "      <td>114</td>\n",
       "      <td>4.0</td>\n",
       "    </tr>\n",
       "    <tr>\n",
       "      <th>30555</th>\n",
       "      <td>A341HCMGNZCBIT</td>\n",
       "      <td>B00829THK0</td>\n",
       "      <td>97</td>\n",
       "      <td>5.0</td>\n",
       "    </tr>\n",
       "    <tr>\n",
       "      <th>30559</th>\n",
       "      <td>A341HCMGNZCBIT</td>\n",
       "      <td>B00829TIEK</td>\n",
       "      <td>97</td>\n",
       "      <td>6.0</td>\n",
       "    </tr>\n",
       "    <tr>\n",
       "      <th>17384</th>\n",
       "      <td>A341HCMGNZCBIT</td>\n",
       "      <td>B002R5AM7C</td>\n",
       "      <td>94</td>\n",
       "      <td>7.0</td>\n",
       "    </tr>\n",
       "    <tr>\n",
       "      <th>31107</th>\n",
       "      <td>A341HCMGNZCBIT</td>\n",
       "      <td>B008DWCRQW</td>\n",
       "      <td>91</td>\n",
       "      <td>8.0</td>\n",
       "    </tr>\n",
       "    <tr>\n",
       "      <th>17573</th>\n",
       "      <td>A341HCMGNZCBIT</td>\n",
       "      <td>B002SZEOLG</td>\n",
       "      <td>84</td>\n",
       "      <td>9.0</td>\n",
       "    </tr>\n",
       "    <tr>\n",
       "      <th>22744</th>\n",
       "      <td>A341HCMGNZCBIT</td>\n",
       "      <td>B004CLYEDC</td>\n",
       "      <td>82</td>\n",
       "      <td>10.0</td>\n",
       "    </tr>\n",
       "  </tbody>\n",
       "</table>\n",
       "</div>"
      ],
      "text/plain": [
       "              user_id   productId  score  Rank\n",
       "30847  A341HCMGNZCBIT  B0088CJT4U    133   1.0\n",
       "30287  A341HCMGNZCBIT  B007WTAJTO    124   2.0\n",
       "19647  A341HCMGNZCBIT  B003ES5ZUU    122   3.0\n",
       "8752   A341HCMGNZCBIT  B000N99BBC    114   4.0\n",
       "30555  A341HCMGNZCBIT  B00829THK0     97   5.0\n",
       "30559  A341HCMGNZCBIT  B00829TIEK     97   6.0\n",
       "17384  A341HCMGNZCBIT  B002R5AM7C     94   7.0\n",
       "31107  A341HCMGNZCBIT  B008DWCRQW     91   8.0\n",
       "17573  A341HCMGNZCBIT  B002SZEOLG     84   9.0\n",
       "22744  A341HCMGNZCBIT  B004CLYEDC     82  10.0"
      ]
     },
     "execution_count": 22,
     "metadata": {},
     "output_type": "execute_result"
    }
   ],
   "source": [
    "user_id = users[20]\n",
    "pm.recommend(user_id)"
   ]
  },
  {
   "cell_type": "code",
   "execution_count": 23,
   "metadata": {},
   "outputs": [
    {
     "data": {
      "text/html": [
       "<div>\n",
       "<style scoped>\n",
       "    .dataframe tbody tr th:only-of-type {\n",
       "        vertical-align: middle;\n",
       "    }\n",
       "\n",
       "    .dataframe tbody tr th {\n",
       "        vertical-align: top;\n",
       "    }\n",
       "\n",
       "    .dataframe thead th {\n",
       "        text-align: right;\n",
       "    }\n",
       "</style>\n",
       "<table border=\"1\" class=\"dataframe\">\n",
       "  <thead>\n",
       "    <tr style=\"text-align: right;\">\n",
       "      <th></th>\n",
       "      <th>user_id</th>\n",
       "      <th>productId</th>\n",
       "      <th>score</th>\n",
       "      <th>Rank</th>\n",
       "    </tr>\n",
       "  </thead>\n",
       "  <tbody>\n",
       "    <tr>\n",
       "      <th>30847</th>\n",
       "      <td>A25RTRAPQAJBDJ</td>\n",
       "      <td>B0088CJT4U</td>\n",
       "      <td>133</td>\n",
       "      <td>1.0</td>\n",
       "    </tr>\n",
       "    <tr>\n",
       "      <th>30287</th>\n",
       "      <td>A25RTRAPQAJBDJ</td>\n",
       "      <td>B007WTAJTO</td>\n",
       "      <td>124</td>\n",
       "      <td>2.0</td>\n",
       "    </tr>\n",
       "    <tr>\n",
       "      <th>19647</th>\n",
       "      <td>A25RTRAPQAJBDJ</td>\n",
       "      <td>B003ES5ZUU</td>\n",
       "      <td>122</td>\n",
       "      <td>3.0</td>\n",
       "    </tr>\n",
       "    <tr>\n",
       "      <th>8752</th>\n",
       "      <td>A25RTRAPQAJBDJ</td>\n",
       "      <td>B000N99BBC</td>\n",
       "      <td>114</td>\n",
       "      <td>4.0</td>\n",
       "    </tr>\n",
       "    <tr>\n",
       "      <th>30555</th>\n",
       "      <td>A25RTRAPQAJBDJ</td>\n",
       "      <td>B00829THK0</td>\n",
       "      <td>97</td>\n",
       "      <td>5.0</td>\n",
       "    </tr>\n",
       "    <tr>\n",
       "      <th>30559</th>\n",
       "      <td>A25RTRAPQAJBDJ</td>\n",
       "      <td>B00829TIEK</td>\n",
       "      <td>97</td>\n",
       "      <td>6.0</td>\n",
       "    </tr>\n",
       "    <tr>\n",
       "      <th>17384</th>\n",
       "      <td>A25RTRAPQAJBDJ</td>\n",
       "      <td>B002R5AM7C</td>\n",
       "      <td>94</td>\n",
       "      <td>7.0</td>\n",
       "    </tr>\n",
       "    <tr>\n",
       "      <th>31107</th>\n",
       "      <td>A25RTRAPQAJBDJ</td>\n",
       "      <td>B008DWCRQW</td>\n",
       "      <td>91</td>\n",
       "      <td>8.0</td>\n",
       "    </tr>\n",
       "    <tr>\n",
       "      <th>17573</th>\n",
       "      <td>A25RTRAPQAJBDJ</td>\n",
       "      <td>B002SZEOLG</td>\n",
       "      <td>84</td>\n",
       "      <td>9.0</td>\n",
       "    </tr>\n",
       "    <tr>\n",
       "      <th>22744</th>\n",
       "      <td>A25RTRAPQAJBDJ</td>\n",
       "      <td>B004CLYEDC</td>\n",
       "      <td>82</td>\n",
       "      <td>10.0</td>\n",
       "    </tr>\n",
       "  </tbody>\n",
       "</table>\n",
       "</div>"
      ],
      "text/plain": [
       "              user_id   productId  score  Rank\n",
       "30847  A25RTRAPQAJBDJ  B0088CJT4U    133   1.0\n",
       "30287  A25RTRAPQAJBDJ  B007WTAJTO    124   2.0\n",
       "19647  A25RTRAPQAJBDJ  B003ES5ZUU    122   3.0\n",
       "8752   A25RTRAPQAJBDJ  B000N99BBC    114   4.0\n",
       "30555  A25RTRAPQAJBDJ  B00829THK0     97   5.0\n",
       "30559  A25RTRAPQAJBDJ  B00829TIEK     97   6.0\n",
       "17384  A25RTRAPQAJBDJ  B002R5AM7C     94   7.0\n",
       "31107  A25RTRAPQAJBDJ  B008DWCRQW     91   8.0\n",
       "17573  A25RTRAPQAJBDJ  B002SZEOLG     84   9.0\n",
       "22744  A25RTRAPQAJBDJ  B004CLYEDC     82  10.0"
      ]
     },
     "execution_count": 23,
     "metadata": {},
     "output_type": "execute_result"
    }
   ],
   "source": [
    "user_id = users[7]\n",
    "pm.recommend(user_id)"
   ]
  },
  {
   "cell_type": "markdown",
   "metadata": {},
   "source": [
    "### Quiz 2: Use the popularity based model to make predictions for the following user id (Note the difference in recommendations from the first user id)."
   ]
  },
  {
   "cell_type": "code",
   "execution_count": 24,
   "metadata": {},
   "outputs": [
    {
     "data": {
      "text/html": [
       "<div>\n",
       "<style scoped>\n",
       "    .dataframe tbody tr th:only-of-type {\n",
       "        vertical-align: middle;\n",
       "    }\n",
       "\n",
       "    .dataframe tbody tr th {\n",
       "        vertical-align: top;\n",
       "    }\n",
       "\n",
       "    .dataframe thead th {\n",
       "        text-align: right;\n",
       "    }\n",
       "</style>\n",
       "<table border=\"1\" class=\"dataframe\">\n",
       "  <thead>\n",
       "    <tr style=\"text-align: right;\">\n",
       "      <th></th>\n",
       "      <th>user_id</th>\n",
       "      <th>productId</th>\n",
       "      <th>score</th>\n",
       "      <th>Rank</th>\n",
       "    </tr>\n",
       "  </thead>\n",
       "  <tbody>\n",
       "    <tr>\n",
       "      <th>30847</th>\n",
       "      <td>A3LDPF5FMB782Z</td>\n",
       "      <td>B0088CJT4U</td>\n",
       "      <td>133</td>\n",
       "      <td>1.0</td>\n",
       "    </tr>\n",
       "    <tr>\n",
       "      <th>30287</th>\n",
       "      <td>A3LDPF5FMB782Z</td>\n",
       "      <td>B007WTAJTO</td>\n",
       "      <td>124</td>\n",
       "      <td>2.0</td>\n",
       "    </tr>\n",
       "    <tr>\n",
       "      <th>19647</th>\n",
       "      <td>A3LDPF5FMB782Z</td>\n",
       "      <td>B003ES5ZUU</td>\n",
       "      <td>122</td>\n",
       "      <td>3.0</td>\n",
       "    </tr>\n",
       "    <tr>\n",
       "      <th>8752</th>\n",
       "      <td>A3LDPF5FMB782Z</td>\n",
       "      <td>B000N99BBC</td>\n",
       "      <td>114</td>\n",
       "      <td>4.0</td>\n",
       "    </tr>\n",
       "    <tr>\n",
       "      <th>30555</th>\n",
       "      <td>A3LDPF5FMB782Z</td>\n",
       "      <td>B00829THK0</td>\n",
       "      <td>97</td>\n",
       "      <td>5.0</td>\n",
       "    </tr>\n",
       "    <tr>\n",
       "      <th>30559</th>\n",
       "      <td>A3LDPF5FMB782Z</td>\n",
       "      <td>B00829TIEK</td>\n",
       "      <td>97</td>\n",
       "      <td>6.0</td>\n",
       "    </tr>\n",
       "    <tr>\n",
       "      <th>17384</th>\n",
       "      <td>A3LDPF5FMB782Z</td>\n",
       "      <td>B002R5AM7C</td>\n",
       "      <td>94</td>\n",
       "      <td>7.0</td>\n",
       "    </tr>\n",
       "    <tr>\n",
       "      <th>31107</th>\n",
       "      <td>A3LDPF5FMB782Z</td>\n",
       "      <td>B008DWCRQW</td>\n",
       "      <td>91</td>\n",
       "      <td>8.0</td>\n",
       "    </tr>\n",
       "    <tr>\n",
       "      <th>17573</th>\n",
       "      <td>A3LDPF5FMB782Z</td>\n",
       "      <td>B002SZEOLG</td>\n",
       "      <td>84</td>\n",
       "      <td>9.0</td>\n",
       "    </tr>\n",
       "    <tr>\n",
       "      <th>22744</th>\n",
       "      <td>A3LDPF5FMB782Z</td>\n",
       "      <td>B004CLYEDC</td>\n",
       "      <td>82</td>\n",
       "      <td>10.0</td>\n",
       "    </tr>\n",
       "  </tbody>\n",
       "</table>\n",
       "</div>"
      ],
      "text/plain": [
       "              user_id   productId  score  Rank\n",
       "30847  A3LDPF5FMB782Z  B0088CJT4U    133   1.0\n",
       "30287  A3LDPF5FMB782Z  B007WTAJTO    124   2.0\n",
       "19647  A3LDPF5FMB782Z  B003ES5ZUU    122   3.0\n",
       "8752   A3LDPF5FMB782Z  B000N99BBC    114   4.0\n",
       "30555  A3LDPF5FMB782Z  B00829THK0     97   5.0\n",
       "30559  A3LDPF5FMB782Z  B00829TIEK     97   6.0\n",
       "17384  A3LDPF5FMB782Z  B002R5AM7C     94   7.0\n",
       "31107  A3LDPF5FMB782Z  B008DWCRQW     91   8.0\n",
       "17573  A3LDPF5FMB782Z  B002SZEOLG     84   9.0\n",
       "22744  A3LDPF5FMB782Z  B004CLYEDC     82  10.0"
      ]
     },
     "execution_count": 24,
     "metadata": {},
     "output_type": "execute_result"
    }
   ],
   "source": [
    "###Fill in the code here\n",
    "user_id = users[8]\n",
    "pm.recommend(user_id)\n"
   ]
  },
  {
   "cell_type": "markdown",
   "metadata": {},
   "source": [
    "## Build a products recommender with personalization\n",
    "\n",
    "We now create an item similarity based collaborative filtering model that allows us to make personalized recommendations to each user. "
   ]
  },
  {
   "cell_type": "markdown",
   "metadata": {},
   "source": [
    "## Class for an item similarity based personalized recommender system"
   ]
  },
  {
   "cell_type": "markdown",
   "metadata": {},
   "source": [
    "### Create an instance of item similarity based recommender class"
   ]
  },
  {
   "cell_type": "code",
   "execution_count": 25,
   "metadata": {},
   "outputs": [],
   "source": [
    "is_model = Recommenders.item_similarity_recommender_py()\n",
    "is_model.create(train_data, 'user_id', 'productId')"
   ]
  },
  {
   "cell_type": "code",
   "execution_count": 26,
   "metadata": {},
   "outputs": [
    {
     "data": {
      "text/html": [
       "<div>\n",
       "<style scoped>\n",
       "    .dataframe tbody tr th:only-of-type {\n",
       "        vertical-align: middle;\n",
       "    }\n",
       "\n",
       "    .dataframe tbody tr th {\n",
       "        vertical-align: top;\n",
       "    }\n",
       "\n",
       "    .dataframe thead th {\n",
       "        text-align: right;\n",
       "    }\n",
       "</style>\n",
       "<table border=\"1\" class=\"dataframe\">\n",
       "  <thead>\n",
       "    <tr style=\"text-align: right;\">\n",
       "      <th></th>\n",
       "      <th>user_id</th>\n",
       "      <th>productId</th>\n",
       "      <th>ratings</th>\n",
       "    </tr>\n",
       "  </thead>\n",
       "  <tbody>\n",
       "    <tr>\n",
       "      <th>6595853</th>\n",
       "      <td>A2BYV7S1QP2YIG</td>\n",
       "      <td>B009EAHVTA</td>\n",
       "      <td>5.0</td>\n",
       "    </tr>\n",
       "    <tr>\n",
       "      <th>4738241</th>\n",
       "      <td>AB094YABX21WQ</td>\n",
       "      <td>B0056XCEAA</td>\n",
       "      <td>1.0</td>\n",
       "    </tr>\n",
       "    <tr>\n",
       "      <th>4175596</th>\n",
       "      <td>A3D0UM4ZD2CMAW</td>\n",
       "      <td>B004I763AW</td>\n",
       "      <td>5.0</td>\n",
       "    </tr>\n",
       "    <tr>\n",
       "      <th>3753016</th>\n",
       "      <td>AATWFX0ZZSE6C</td>\n",
       "      <td>B0040NPHMO</td>\n",
       "      <td>3.0</td>\n",
       "    </tr>\n",
       "    <tr>\n",
       "      <th>1734767</th>\n",
       "      <td>A1NNMOD9H36Q8E</td>\n",
       "      <td>B0015VW3BM</td>\n",
       "      <td>4.0</td>\n",
       "    </tr>\n",
       "  </tbody>\n",
       "</table>\n",
       "</div>"
      ],
      "text/plain": [
       "                user_id   productId  ratings\n",
       "6595853  A2BYV7S1QP2YIG  B009EAHVTA      5.0\n",
       "4738241   AB094YABX21WQ  B0056XCEAA      1.0\n",
       "4175596  A3D0UM4ZD2CMAW  B004I763AW      5.0\n",
       "3753016   AATWFX0ZZSE6C  B0040NPHMO      3.0\n",
       "1734767  A1NNMOD9H36Q8E  B0015VW3BM      4.0"
      ]
     },
     "execution_count": 26,
     "metadata": {},
     "output_type": "execute_result"
    }
   ],
   "source": [
    "train_data.head()"
   ]
  },
  {
   "cell_type": "code",
   "execution_count": 27,
   "metadata": {},
   "outputs": [],
   "source": [
    "#Print the products for the user in training data\n",
    "user_id = users[5]\n",
    "user_items = is_model.get_user_items(user_id)"
   ]
  },
  {
   "cell_type": "code",
   "execution_count": 28,
   "metadata": {},
   "outputs": [
    {
     "name": "stdout",
     "output_type": "stream",
     "text": [
      "B000S5Q9CA\n",
      "B009D79VH4\n",
      "B00D4MFPLA\n",
      "B004T9RR0E\n",
      "B000HPV3RW\n",
      "B00APUQPHW\n",
      "B001F7HLRC\n",
      "B00EVNVRM2\n",
      "B0067WUVF4\n",
      "B003GTSHY8\n",
      "B00DQZQCUI\n",
      "B00BAEVR4I\n",
      "B00JXECZIY\n",
      "B002WE6D44\n",
      "B001VKQR5U\n",
      "B003YKG2UK\n",
      "B008S4TSAI\n",
      "B007IO38MI\n",
      "B00G6CLN3Y\n",
      "B00HWMPSF6\n",
      "B00JZAB8OI\n",
      "B0009SHDGC\n",
      "B0063705PE\n",
      "B0001OHH0Q\n",
      "B007HOHV9U\n",
      "B00002EQC2\n",
      "B00A1DJO12\n",
      "B00ATZ9I9U\n",
      "B007ZTKWFM\n",
      "B001KN6WL2\n",
      "B001963NZI\n",
      "B00DT04I9W\n",
      "B009SG71MC\n",
      "B003X26PMO\n",
      "B00CBCUS1G\n",
      "0972683275\n",
      "B00006I5NE\n",
      "B001M4XCHQ\n",
      "B002MAPRYU\n",
      "B0073FE1F0\n",
      "B00IWQ3Y20\n",
      "B00HRQB28Y\n",
      "B008LHUTKA\n",
      "B0055TEQH4\n",
      "B004LEAYXY\n",
      "B00603RTC8\n",
      "B00IVPU6AA\n",
      "B00894YWD0\n",
      "B001U5R9RG\n",
      "B0090CVJZ4\n",
      "B008X9Z528\n",
      "B004NBL9WK\n",
      "B004HW67MW\n",
      "B00A6YOUWE\n",
      "B0019HGU0M\n",
      "B00HF3X5RU\n",
      "B003ES5ZUU\n",
      "B004LSNF04\n",
      "B00C97AF16\n",
      "B005CG2AX2\n",
      "B009NHWVIA\n",
      "B003CIBCX6\n",
      "B00934CQ56\n",
      "B00D6HBVIO\n",
      "B0061S1INS\n",
      "B000X23I22\n",
      "B0011NVMO8\n",
      "B00A750SCI\n",
      "B000VZS2EU\n",
      "B001PI09SE\n",
      "B0028BBEBI\n",
      "B006GWO5WK\n",
      "B00D8X9FSY\n",
      "B003ELYQGG\n",
      "B0097CZHAU\n",
      "B004J1G2MQ\n",
      "B001F51G16\n",
      "B00CALM17C\n",
      "B000WYVBR0\n",
      "B00005OOJZ\n",
      "B0097CXWUW\n",
      "B00000K0JC\n",
      "B000I68BD4\n",
      "B006DY3CRK\n",
      "B004Q61H6A\n",
      "B00752RAWW\n",
      "B000GW5J58\n",
      "B00DY9UFB8\n",
      "B009RQW3BC\n",
      "B002IW99AU\n",
      "B003IBB9CG\n",
      "B00002EQCW\n",
      "B00B4OCWE8\n",
      "B0002KR0SI\n",
      "B00DOWCQL2\n",
      "B0002J2TLC\n",
      "B006ZP8UOW\n",
      "B00D6XW62I\n",
      "B002C97CAI\n",
      "B00634PLTW\n",
      "B003ZX8B3W\n",
      "B00681RUR6\n",
      "B004CLYEFK\n",
      "B004K1EOCA\n",
      "B005KGOMI0\n",
      "B0017AO5AS\n",
      "B008X9Z7N0\n",
      "B00BD7UXXS\n",
      "B00COF7DGS\n",
      "B0001VGFKW\n",
      "B00A7PPLP2\n",
      "B00EU9V3S0\n",
      "B005CLMJLU\n",
      "B007AHJNF4\n",
      "B001542X64\n",
      "B0079UAT0A\n",
      "B003GZDB1Q\n"
     ]
    }
   ],
   "source": [
    "\n",
    "for user_item in user_items:\n",
    "    print(user_item)"
   ]
  },
  {
   "cell_type": "code",
   "execution_count": 29,
   "metadata": {},
   "outputs": [
    {
     "name": "stdout",
     "output_type": "stream",
     "text": [
      "----------------------------------------------------------------------\n",
      "Recommendation process going on:\n",
      "----------------------------------------------------------------------\n",
      "No. of unique Products for the user: 117\n",
      "no. of unique Products in the training set: 38226\n",
      "Non zero values in cooccurence_matrix :97609\n"
     ]
    },
    {
     "data": {
      "text/html": [
       "<div>\n",
       "<style scoped>\n",
       "    .dataframe tbody tr th:only-of-type {\n",
       "        vertical-align: middle;\n",
       "    }\n",
       "\n",
       "    .dataframe tbody tr th {\n",
       "        vertical-align: top;\n",
       "    }\n",
       "\n",
       "    .dataframe thead th {\n",
       "        text-align: right;\n",
       "    }\n",
       "</style>\n",
       "<table border=\"1\" class=\"dataframe\">\n",
       "  <thead>\n",
       "    <tr style=\"text-align: right;\">\n",
       "      <th></th>\n",
       "      <th>user_id</th>\n",
       "      <th>productId</th>\n",
       "      <th>score</th>\n",
       "      <th>rank</th>\n",
       "    </tr>\n",
       "  </thead>\n",
       "  <tbody>\n",
       "    <tr>\n",
       "      <th>0</th>\n",
       "      <td>A3TAS1AG6FMBQW</td>\n",
       "      <td>B008ULPE70</td>\n",
       "      <td>0.014947</td>\n",
       "      <td>1</td>\n",
       "    </tr>\n",
       "    <tr>\n",
       "      <th>1</th>\n",
       "      <td>A3TAS1AG6FMBQW</td>\n",
       "      <td>B008X9Z3UC</td>\n",
       "      <td>0.014423</td>\n",
       "      <td>2</td>\n",
       "    </tr>\n",
       "    <tr>\n",
       "      <th>2</th>\n",
       "      <td>A3TAS1AG6FMBQW</td>\n",
       "      <td>B008ULPCB8</td>\n",
       "      <td>0.014296</td>\n",
       "      <td>3</td>\n",
       "    </tr>\n",
       "    <tr>\n",
       "      <th>3</th>\n",
       "      <td>A3TAS1AG6FMBQW</td>\n",
       "      <td>B008X9ZBVI</td>\n",
       "      <td>0.013497</td>\n",
       "      <td>4</td>\n",
       "    </tr>\n",
       "    <tr>\n",
       "      <th>4</th>\n",
       "      <td>A3TAS1AG6FMBQW</td>\n",
       "      <td>B008ULPAT2</td>\n",
       "      <td>0.013336</td>\n",
       "      <td>5</td>\n",
       "    </tr>\n",
       "    <tr>\n",
       "      <th>5</th>\n",
       "      <td>A3TAS1AG6FMBQW</td>\n",
       "      <td>B009WZRCO6</td>\n",
       "      <td>0.013163</td>\n",
       "      <td>6</td>\n",
       "    </tr>\n",
       "    <tr>\n",
       "      <th>6</th>\n",
       "      <td>A3TAS1AG6FMBQW</td>\n",
       "      <td>B009YQ8BTI</td>\n",
       "      <td>0.012860</td>\n",
       "      <td>7</td>\n",
       "    </tr>\n",
       "    <tr>\n",
       "      <th>7</th>\n",
       "      <td>A3TAS1AG6FMBQW</td>\n",
       "      <td>B005QCDY50</td>\n",
       "      <td>0.012751</td>\n",
       "      <td>8</td>\n",
       "    </tr>\n",
       "    <tr>\n",
       "      <th>8</th>\n",
       "      <td>A3TAS1AG6FMBQW</td>\n",
       "      <td>B0057UUB1G</td>\n",
       "      <td>0.012215</td>\n",
       "      <td>9</td>\n",
       "    </tr>\n",
       "    <tr>\n",
       "      <th>9</th>\n",
       "      <td>A3TAS1AG6FMBQW</td>\n",
       "      <td>B008X9Z8NE</td>\n",
       "      <td>0.011844</td>\n",
       "      <td>10</td>\n",
       "    </tr>\n",
       "  </tbody>\n",
       "</table>\n",
       "</div>"
      ],
      "text/plain": [
       "          user_id   productId     score rank\n",
       "0  A3TAS1AG6FMBQW  B008ULPE70  0.014947    1\n",
       "1  A3TAS1AG6FMBQW  B008X9Z3UC  0.014423    2\n",
       "2  A3TAS1AG6FMBQW  B008ULPCB8  0.014296    3\n",
       "3  A3TAS1AG6FMBQW  B008X9ZBVI  0.013497    4\n",
       "4  A3TAS1AG6FMBQW  B008ULPAT2  0.013336    5\n",
       "5  A3TAS1AG6FMBQW  B009WZRCO6  0.013163    6\n",
       "6  A3TAS1AG6FMBQW  B009YQ8BTI  0.012860    7\n",
       "7  A3TAS1AG6FMBQW  B005QCDY50  0.012751    8\n",
       "8  A3TAS1AG6FMBQW  B0057UUB1G  0.012215    9\n",
       "9  A3TAS1AG6FMBQW  B008X9Z8NE  0.011844   10"
      ]
     },
     "execution_count": 29,
     "metadata": {},
     "output_type": "execute_result"
    }
   ],
   "source": [
    "\n",
    "print(\"----------------------------------------------------------------------\")\n",
    "print(\"Recommendation process going on:\")\n",
    "print(\"----------------------------------------------------------------------\")\n",
    "\n",
    "#Recommend products for the user using personalized model\n",
    "is_model.recommend(user_id)"
   ]
  },
  {
   "cell_type": "markdown",
   "metadata": {},
   "source": [
    "### Use the personalized model to make some products recommendations"
   ]
  },
  {
   "cell_type": "code",
   "execution_count": 30,
   "metadata": {},
   "outputs": [
    {
     "name": "stdout",
     "output_type": "stream",
     "text": [
      "------------------------------------------------------------------------------------\n",
      "Training data products for the user userid: A3TAS1AG6FMBQW:\n",
      "------------------------------------------------------------------------------------\n",
      "B000S5Q9CA\n",
      "B009D79VH4\n",
      "B00D4MFPLA\n",
      "B004T9RR0E\n",
      "B000HPV3RW\n",
      "B00APUQPHW\n",
      "B001F7HLRC\n",
      "B00EVNVRM2\n",
      "B0067WUVF4\n",
      "B003GTSHY8\n",
      "B00DQZQCUI\n",
      "B00BAEVR4I\n",
      "B00JXECZIY\n",
      "B002WE6D44\n",
      "B001VKQR5U\n",
      "B003YKG2UK\n",
      "B008S4TSAI\n",
      "B007IO38MI\n",
      "B00G6CLN3Y\n",
      "B00HWMPSF6\n",
      "B00JZAB8OI\n",
      "B0009SHDGC\n",
      "B0063705PE\n",
      "B0001OHH0Q\n",
      "B007HOHV9U\n",
      "B00002EQC2\n",
      "B00A1DJO12\n",
      "B00ATZ9I9U\n",
      "B007ZTKWFM\n",
      "B001KN6WL2\n",
      "B001963NZI\n",
      "B00DT04I9W\n",
      "B009SG71MC\n",
      "B003X26PMO\n",
      "B00CBCUS1G\n",
      "0972683275\n",
      "B00006I5NE\n",
      "B001M4XCHQ\n",
      "B002MAPRYU\n",
      "B0073FE1F0\n",
      "B00IWQ3Y20\n",
      "B00HRQB28Y\n",
      "B008LHUTKA\n",
      "B0055TEQH4\n",
      "B004LEAYXY\n",
      "B00603RTC8\n",
      "B00IVPU6AA\n",
      "B00894YWD0\n",
      "B001U5R9RG\n",
      "B0090CVJZ4\n",
      "B008X9Z528\n",
      "B004NBL9WK\n",
      "B004HW67MW\n",
      "B00A6YOUWE\n",
      "B0019HGU0M\n",
      "B00HF3X5RU\n",
      "B003ES5ZUU\n",
      "B004LSNF04\n",
      "B00C97AF16\n",
      "B005CG2AX2\n",
      "B009NHWVIA\n",
      "B003CIBCX6\n",
      "B00934CQ56\n",
      "B00D6HBVIO\n",
      "B0061S1INS\n",
      "B000X23I22\n",
      "B0011NVMO8\n",
      "B00A750SCI\n",
      "B000VZS2EU\n",
      "B001PI09SE\n",
      "B0028BBEBI\n",
      "B006GWO5WK\n",
      "B00D8X9FSY\n",
      "B003ELYQGG\n",
      "B0097CZHAU\n",
      "B004J1G2MQ\n",
      "B001F51G16\n",
      "B00CALM17C\n",
      "B000WYVBR0\n",
      "B00005OOJZ\n",
      "B0097CXWUW\n",
      "B00000K0JC\n",
      "B000I68BD4\n",
      "B006DY3CRK\n",
      "B004Q61H6A\n",
      "B00752RAWW\n",
      "B000GW5J58\n",
      "B00DY9UFB8\n",
      "B009RQW3BC\n",
      "B002IW99AU\n",
      "B003IBB9CG\n",
      "B00002EQCW\n",
      "B00B4OCWE8\n",
      "B0002KR0SI\n",
      "B00DOWCQL2\n",
      "B0002J2TLC\n",
      "B006ZP8UOW\n",
      "B00D6XW62I\n",
      "B002C97CAI\n",
      "B00634PLTW\n",
      "B003ZX8B3W\n",
      "B00681RUR6\n",
      "B004CLYEFK\n",
      "B004K1EOCA\n",
      "B005KGOMI0\n",
      "B0017AO5AS\n",
      "B008X9Z7N0\n",
      "B00BD7UXXS\n",
      "B00COF7DGS\n",
      "B0001VGFKW\n",
      "B00A7PPLP2\n",
      "B00EU9V3S0\n",
      "B005CLMJLU\n",
      "B007AHJNF4\n",
      "B001542X64\n",
      "B0079UAT0A\n",
      "B003GZDB1Q\n",
      "----------------------------------------------------------------------\n",
      "Recommendation process going on:\n",
      "----------------------------------------------------------------------\n",
      "No. of unique Products for the user: 117\n",
      "no. of unique Products in the training set: 38226\n",
      "Non zero values in cooccurence_matrix :97609\n"
     ]
    },
    {
     "data": {
      "text/html": [
       "<div>\n",
       "<style scoped>\n",
       "    .dataframe tbody tr th:only-of-type {\n",
       "        vertical-align: middle;\n",
       "    }\n",
       "\n",
       "    .dataframe tbody tr th {\n",
       "        vertical-align: top;\n",
       "    }\n",
       "\n",
       "    .dataframe thead th {\n",
       "        text-align: right;\n",
       "    }\n",
       "</style>\n",
       "<table border=\"1\" class=\"dataframe\">\n",
       "  <thead>\n",
       "    <tr style=\"text-align: right;\">\n",
       "      <th></th>\n",
       "      <th>user_id</th>\n",
       "      <th>productId</th>\n",
       "      <th>score</th>\n",
       "      <th>rank</th>\n",
       "    </tr>\n",
       "  </thead>\n",
       "  <tbody>\n",
       "    <tr>\n",
       "      <th>0</th>\n",
       "      <td>A3TAS1AG6FMBQW</td>\n",
       "      <td>B008ULPE70</td>\n",
       "      <td>0.014947</td>\n",
       "      <td>1</td>\n",
       "    </tr>\n",
       "    <tr>\n",
       "      <th>1</th>\n",
       "      <td>A3TAS1AG6FMBQW</td>\n",
       "      <td>B008X9Z3UC</td>\n",
       "      <td>0.014423</td>\n",
       "      <td>2</td>\n",
       "    </tr>\n",
       "    <tr>\n",
       "      <th>2</th>\n",
       "      <td>A3TAS1AG6FMBQW</td>\n",
       "      <td>B008ULPCB8</td>\n",
       "      <td>0.014296</td>\n",
       "      <td>3</td>\n",
       "    </tr>\n",
       "    <tr>\n",
       "      <th>3</th>\n",
       "      <td>A3TAS1AG6FMBQW</td>\n",
       "      <td>B008X9ZBVI</td>\n",
       "      <td>0.013497</td>\n",
       "      <td>4</td>\n",
       "    </tr>\n",
       "    <tr>\n",
       "      <th>4</th>\n",
       "      <td>A3TAS1AG6FMBQW</td>\n",
       "      <td>B008ULPAT2</td>\n",
       "      <td>0.013336</td>\n",
       "      <td>5</td>\n",
       "    </tr>\n",
       "    <tr>\n",
       "      <th>5</th>\n",
       "      <td>A3TAS1AG6FMBQW</td>\n",
       "      <td>B009WZRCO6</td>\n",
       "      <td>0.013163</td>\n",
       "      <td>6</td>\n",
       "    </tr>\n",
       "    <tr>\n",
       "      <th>6</th>\n",
       "      <td>A3TAS1AG6FMBQW</td>\n",
       "      <td>B009YQ8BTI</td>\n",
       "      <td>0.012860</td>\n",
       "      <td>7</td>\n",
       "    </tr>\n",
       "    <tr>\n",
       "      <th>7</th>\n",
       "      <td>A3TAS1AG6FMBQW</td>\n",
       "      <td>B005QCDY50</td>\n",
       "      <td>0.012751</td>\n",
       "      <td>8</td>\n",
       "    </tr>\n",
       "    <tr>\n",
       "      <th>8</th>\n",
       "      <td>A3TAS1AG6FMBQW</td>\n",
       "      <td>B0057UUB1G</td>\n",
       "      <td>0.012215</td>\n",
       "      <td>9</td>\n",
       "    </tr>\n",
       "    <tr>\n",
       "      <th>9</th>\n",
       "      <td>A3TAS1AG6FMBQW</td>\n",
       "      <td>B008X9Z8NE</td>\n",
       "      <td>0.011844</td>\n",
       "      <td>10</td>\n",
       "    </tr>\n",
       "  </tbody>\n",
       "</table>\n",
       "</div>"
      ],
      "text/plain": [
       "          user_id   productId     score rank\n",
       "0  A3TAS1AG6FMBQW  B008ULPE70  0.014947    1\n",
       "1  A3TAS1AG6FMBQW  B008X9Z3UC  0.014423    2\n",
       "2  A3TAS1AG6FMBQW  B008ULPCB8  0.014296    3\n",
       "3  A3TAS1AG6FMBQW  B008X9ZBVI  0.013497    4\n",
       "4  A3TAS1AG6FMBQW  B008ULPAT2  0.013336    5\n",
       "5  A3TAS1AG6FMBQW  B009WZRCO6  0.013163    6\n",
       "6  A3TAS1AG6FMBQW  B009YQ8BTI  0.012860    7\n",
       "7  A3TAS1AG6FMBQW  B005QCDY50  0.012751    8\n",
       "8  A3TAS1AG6FMBQW  B0057UUB1G  0.012215    9\n",
       "9  A3TAS1AG6FMBQW  B008X9Z8NE  0.011844   10"
      ]
     },
     "execution_count": 30,
     "metadata": {},
     "output_type": "execute_result"
    }
   ],
   "source": [
    "#Print the products for the user in training data\n",
    "user_id = users[5]\n",
    "user_items = is_model.get_user_items(user_id)\n",
    "#\n",
    "print(\"------------------------------------------------------------------------------------\")\n",
    "print(\"Training data products for the user userid: %s:\" % user_id)\n",
    "print(\"------------------------------------------------------------------------------------\")\n",
    "\n",
    "for user_item in user_items:\n",
    "    print(user_item)\n",
    "\n",
    "print(\"----------------------------------------------------------------------\")\n",
    "print(\"Recommendation process going on:\")\n",
    "print(\"----------------------------------------------------------------------\")\n",
    "\n",
    "#Recommend products for the user using personalized model\n",
    "is_model.recommend(user_id)"
   ]
  },
  {
   "cell_type": "markdown",
   "metadata": {},
   "source": [
    "### Quiz 3. Use the personalized model to make recommendations for the following user id. (Note the difference in recommendations from the first user id.)"
   ]
  },
  {
   "cell_type": "code",
   "execution_count": 31,
   "metadata": {},
   "outputs": [
    {
     "name": "stdout",
     "output_type": "stream",
     "text": [
      "------------------------------------------------------------------------------------\n",
      "Training data products for the user userid: A25RTRAPQAJBDJ:\n",
      "------------------------------------------------------------------------------------\n",
      "B003YNO0LA\n",
      "B000JLU2A8\n",
      "B007W66RCU\n",
      "B0009IG3U4\n",
      "B00902SFC4\n",
      "B00JC5Y6YA\n",
      "B0006FK400\n",
      "B00FXPL1XM\n",
      "B000PAS9IU\n",
      "B00JY4QCJQ\n",
      "B003PL0AME\n",
      "B000BMHERE\n",
      "B008R6WUZC\n",
      "B0002DFIOS\n",
      "B0001ZYAN2\n",
      "B000PH7X30\n",
      "B0006DPPW4\n",
      "B00017O6Q6\n",
      "B00A2T6X0K\n",
      "B000TJFEYO\n",
      "B00BCA41PW\n",
      "B004CZ9U96\n",
      "B00009ZOIZ\n",
      "B00BF9I0JI\n",
      "0972683275\n",
      "B005TDWVQY\n",
      "B000EHHOOE\n",
      "B0034CL2ZI\n",
      "B00026BQJ6\n",
      "B0002KRCHW\n",
      "B00009UH9J\n",
      "B005NCNDOU\n",
      "B0002ZPIXM\n",
      "B0002CNTU4\n",
      "B000782SLO\n",
      "----------------------------------------------------------------------\n",
      "Recommendation process going on:\n",
      "----------------------------------------------------------------------\n",
      "No. of unique Products for the user: 35\n",
      "no. of unique Products in the training set: 38226\n",
      "Non zero values in cooccurence_matrix :13679\n"
     ]
    },
    {
     "data": {
      "text/html": [
       "<div>\n",
       "<style scoped>\n",
       "    .dataframe tbody tr th:only-of-type {\n",
       "        vertical-align: middle;\n",
       "    }\n",
       "\n",
       "    .dataframe tbody tr th {\n",
       "        vertical-align: top;\n",
       "    }\n",
       "\n",
       "    .dataframe thead th {\n",
       "        text-align: right;\n",
       "    }\n",
       "</style>\n",
       "<table border=\"1\" class=\"dataframe\">\n",
       "  <thead>\n",
       "    <tr style=\"text-align: right;\">\n",
       "      <th></th>\n",
       "      <th>user_id</th>\n",
       "      <th>productId</th>\n",
       "      <th>score</th>\n",
       "      <th>rank</th>\n",
       "    </tr>\n",
       "  </thead>\n",
       "  <tbody>\n",
       "    <tr>\n",
       "      <th>0</th>\n",
       "      <td>A25RTRAPQAJBDJ</td>\n",
       "      <td>B0000E2XEB</td>\n",
       "      <td>0.014286</td>\n",
       "      <td>1</td>\n",
       "    </tr>\n",
       "    <tr>\n",
       "      <th>1</th>\n",
       "      <td>A25RTRAPQAJBDJ</td>\n",
       "      <td>B00KSBB84S</td>\n",
       "      <td>0.014286</td>\n",
       "      <td>2</td>\n",
       "    </tr>\n",
       "    <tr>\n",
       "      <th>2</th>\n",
       "      <td>A25RTRAPQAJBDJ</td>\n",
       "      <td>B004XJ64RM</td>\n",
       "      <td>0.014286</td>\n",
       "      <td>3</td>\n",
       "    </tr>\n",
       "    <tr>\n",
       "      <th>3</th>\n",
       "      <td>A25RTRAPQAJBDJ</td>\n",
       "      <td>B00B1V2FA0</td>\n",
       "      <td>0.014286</td>\n",
       "      <td>4</td>\n",
       "    </tr>\n",
       "    <tr>\n",
       "      <th>4</th>\n",
       "      <td>A25RTRAPQAJBDJ</td>\n",
       "      <td>B00029X21S</td>\n",
       "      <td>0.014286</td>\n",
       "      <td>5</td>\n",
       "    </tr>\n",
       "    <tr>\n",
       "      <th>5</th>\n",
       "      <td>A25RTRAPQAJBDJ</td>\n",
       "      <td>B001RB24LY</td>\n",
       "      <td>0.014286</td>\n",
       "      <td>6</td>\n",
       "    </tr>\n",
       "    <tr>\n",
       "      <th>6</th>\n",
       "      <td>A25RTRAPQAJBDJ</td>\n",
       "      <td>B00B11C6HW</td>\n",
       "      <td>0.014286</td>\n",
       "      <td>7</td>\n",
       "    </tr>\n",
       "    <tr>\n",
       "      <th>7</th>\n",
       "      <td>A25RTRAPQAJBDJ</td>\n",
       "      <td>B004556RMQ</td>\n",
       "      <td>0.014286</td>\n",
       "      <td>8</td>\n",
       "    </tr>\n",
       "    <tr>\n",
       "      <th>8</th>\n",
       "      <td>A25RTRAPQAJBDJ</td>\n",
       "      <td>B005ZCU4YK</td>\n",
       "      <td>0.014286</td>\n",
       "      <td>9</td>\n",
       "    </tr>\n",
       "    <tr>\n",
       "      <th>9</th>\n",
       "      <td>A25RTRAPQAJBDJ</td>\n",
       "      <td>B001VIPUFU</td>\n",
       "      <td>0.014286</td>\n",
       "      <td>10</td>\n",
       "    </tr>\n",
       "  </tbody>\n",
       "</table>\n",
       "</div>"
      ],
      "text/plain": [
       "          user_id   productId     score rank\n",
       "0  A25RTRAPQAJBDJ  B0000E2XEB  0.014286    1\n",
       "1  A25RTRAPQAJBDJ  B00KSBB84S  0.014286    2\n",
       "2  A25RTRAPQAJBDJ  B004XJ64RM  0.014286    3\n",
       "3  A25RTRAPQAJBDJ  B00B1V2FA0  0.014286    4\n",
       "4  A25RTRAPQAJBDJ  B00029X21S  0.014286    5\n",
       "5  A25RTRAPQAJBDJ  B001RB24LY  0.014286    6\n",
       "6  A25RTRAPQAJBDJ  B00B11C6HW  0.014286    7\n",
       "7  A25RTRAPQAJBDJ  B004556RMQ  0.014286    8\n",
       "8  A25RTRAPQAJBDJ  B005ZCU4YK  0.014286    9\n",
       "9  A25RTRAPQAJBDJ  B001VIPUFU  0.014286   10"
      ]
     },
     "execution_count": 31,
     "metadata": {},
     "output_type": "execute_result"
    }
   ],
   "source": [
    "user_id = users[7]\n",
    "#Fill in the code here\n",
    "user_items = is_model.get_user_items(user_id)\n",
    "#\n",
    "print(\"------------------------------------------------------------------------------------\")\n",
    "print(\"Training data products for the user userid: %s:\" % user_id)\n",
    "print(\"------------------------------------------------------------------------------------\")\n",
    "\n",
    "for user_item in user_items:\n",
    "    print(user_item)\n",
    "\n",
    "print(\"----------------------------------------------------------------------\")\n",
    "print(\"Recommendation process going on:\")\n",
    "print(\"----------------------------------------------------------------------\")\n",
    "\n",
    "#Recommend products for the user using personalized model\n",
    "is_model.recommend(user_id)\n"
   ]
  },
  {
   "cell_type": "markdown",
   "metadata": {},
   "source": [
    "## Quantitative comparison between the models"
   ]
  },
  {
   "cell_type": "code",
   "execution_count": 39,
   "metadata": {},
   "outputs": [
    {
     "name": "stdout",
     "output_type": "stream",
     "text": [
      "Length of user_test_and_training:1540\n",
      "Length of user sample:3\n",
      "Getting recommendations for user:A51OFQVC6O5YL\n",
      "No. of unique Products for the user: 41\n",
      "no. of unique Products in the training set: 38226\n",
      "Non zero values in cooccurence_matrix :20663\n",
      "Getting recommendations for user:A24RCBRDXRXR0Y\n",
      "No. of unique Products for the user: 38\n",
      "no. of unique Products in the training set: 38226\n",
      "Non zero values in cooccurence_matrix :40048\n",
      "Getting recommendations for user:A3U41ZL33SS92P\n",
      "No. of unique Products for the user: 128\n",
      "no. of unique Products in the training set: 38226\n",
      "Non zero values in cooccurence_matrix :100314\n",
      "1754.6699047088623\n"
     ]
    }
   ],
   "source": [
    "start = time.time()\n",
    "\n",
    "#Define what percentage of users to use for precision recall calculation\n",
    "user_sample = 0.004\n",
    "\n",
    "#Instantiate the precision_recall_calculator class\n",
    "pr = Evaluation.precision_recall_calculator(test_data, train_data, pm, is_model)\n",
    "\n",
    "#Call method to calculate precision and recall values\n",
    "(pm_avg_precision_list, pm_avg_recall_list, ism_avg_precision_list, ism_avg_recall_list) = pr.calculate_measures(user_sample)\n",
    "\n",
    "end = time.time()\n",
    "print(end - start)"
   ]
  },
  {
   "cell_type": "code",
   "execution_count": 40,
   "metadata": {},
   "outputs": [],
   "source": [
    "import pylab as pl\n",
    "\n",
    "#Method to generate precision and recall curve\n",
    "def plot_precision_recall(m1_precision_list, m1_recall_list, m1_label, m2_precision_list, m2_recall_list, m2_label):\n",
    "    pl.clf()    \n",
    "    pl.plot(m1_recall_list, m1_precision_list, label=m1_label)\n",
    "    pl.plot(m2_recall_list, m2_precision_list, label=m2_label)\n",
    "    pl.xlabel('Recall')\n",
    "    pl.ylabel('Precision')\n",
    "    pl.ylim([0.0, 0.2])\n",
    "    pl.xlim([0.0, 0.2])\n",
    "    pl.title('Precision-Recall curve')\n",
    "    #pl.legend(loc=\"upper right\")\n",
    "    pl.legend(loc=9, bbox_to_anchor=(0.5, -0.2))\n",
    "    pl.show()"
   ]
  },
  {
   "cell_type": "code",
   "execution_count": 41,
   "metadata": {},
   "outputs": [
    {
     "name": "stdout",
     "output_type": "stream",
     "text": [
      "Plotting precision recall curves.\n"
     ]
    },
    {
     "data": {
      "image/png": "[encoded data removed]",
      "text/plain": [
       "<Figure size 432x288 with 1 Axes>"
      ]
     },
     "metadata": {
      "needs_background": "light"
     },
     "output_type": "display_data"
    }
   ],
   "source": [
    "print(\"Plotting precision recall curves.\")\n",
    "\n",
    "plot_precision_recall(pm_avg_precision_list, pm_avg_recall_list, \"popularity_model\",\n",
    "                      ism_avg_precision_list, ism_avg_recall_list, \"item_similarity_model\")"
   ]
  },
  {
   "cell_type": "code",
   "execution_count": 48,
   "metadata": {},
   "outputs": [
    {
     "name": "stdout",
     "output_type": "stream",
     "text": [
      "Two precision-recall curves represent the performance levels of popularity and collaborative model. popularity mpdel clearly outperforms collaborative model.\n"
     ]
    }
   ],
   "source": [
    "print(\"Two precision-recall curves represent the performance levels of popularity and collaborative model. popularity mpdel clearly outperforms collaborative model.\")"
   ]
  },
  {
   "cell_type": "code",
   "execution_count": 42,
   "metadata": {},
   "outputs": [],
   "source": [
    "#Pros and Cons for Collaborative filtering are \n",
    "#Pros: Easy to implement.Context independent. Compared to other techniques, such as content-based, it is more accurate.\n",
    "#Cons: Sparsity:: The percentage of people who rate items is really low.\n",
    "#Scalability: The more K neighbors we consider (under a certain threshold), the better my classification should be. Nevertheless, the more users there are in the system, the greater the cost of finding the nearest K neighbors will be.\n",
    "#Cold-start: New users will have no to little information about them to be compared with other users.\n",
    "#New item: Just like the last point, new items will lack of ratings to create a solid ranking (More of this on ‘How to sort and rank items’)."
   ]
  },
  {
   "cell_type": "code",
   "execution_count": 43,
   "metadata": {},
   "outputs": [],
   "source": [
    "#We saw User-Based and Item-Based Collaborative Filtering. The first has a focus on filling an user-item matrix and recommending based on the users more similar to the active user. On the other hand, IB-CF fills a Item-Item matrix, and recommends based on similar items."
   ]
  },
  {
   "cell_type": "code",
   "execution_count": 44,
   "metadata": {},
   "outputs": [],
   "source": [
    "#In applications where user-base is large, user-based approaches face scalability issues, as their complexity grows linearly with number of users. Item-based approaches address these scalability concerns to recommend items based on item similarities."
   ]
  },
  {
   "cell_type": "code",
   "execution_count": 45,
   "metadata": {},
   "outputs": [],
   "source": [
    "#we studied what a recommender system is and how we can create it in Python using only the Pandas library. It is important to mention that the recommender system we created is very simple. Real-life recommender systems use very complex algorithms and will be discussed in a later article."
   ]
  },
  {
   "cell_type": "code",
   "execution_count": null,
   "metadata": {},
   "outputs": [],
   "source": []
  }
 ],
 "metadata": {
  "kernelspec": {
   "display_name": "Python 3",
   "language": "python",
   "name": "python3"
  },
  "language_info": {
   "codemirror_mode": {
    "name": "ipython",
    "version": 3
   },
   "file_extension": ".py",
   "mimetype": "text/x-python",
   "name": "python",
   "nbconvert_exporter": "python",
   "pygments_lexer": "ipython3",
   "version": "3.7.0"
  }
 },
 "nbformat": 4,
 "nbformat_minor": 1
}
