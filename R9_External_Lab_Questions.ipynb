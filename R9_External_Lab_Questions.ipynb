{
  "nbformat": 4,
  "nbformat_minor": 0,
  "metadata": {
    "colab": {
      "name": "R9_External_Lab_Questions.ipynb",
      "version": "0.3.2",
      "provenance": [],
      "collapsed_sections": []
    },
    "kernelspec": {
      "name": "python3",
      "display_name": "Python 3"
    },
    "language_info": {
      "codemirror_mode": {
        "name": "ipython",
        "version": 3
      },
      "file_extension": ".py",
      "mimetype": "text/x-python",
      "name": "python",
      "nbconvert_exporter": "python",
      "pygments_lexer": "ipython3",
      "version": "3.6.5"
    },
    "accelerator": "GPU"
  },
  "cells": [
    {
      "cell_type": "markdown",
      "metadata": {
        "colab_type": "text",
        "id": "WPJHV_CIn6Bg"
      },
      "source": [
        "# U - Net\n",
        "## Problem: \n",
        "\n",
        "Seismic data is collected using reflection seismology, or seismic reflection. The method requires a controlled seismic source of energy, such as compressed air or a seismic vibrator, and sensors record the reflection from rock interfaces within the subsurface. The recorded data is then processed to create a 3D view of earth’s interior. Reflection seismology is similar to X-ray, sonar and echolocation.\n",
        "\n",
        "A seismic image is produced from imaging the reflection coming from rock boundaries. The seismic image shows the boundaries between different rock types. In theory, the strength of reflection is directly proportional to the difference in the physical properties on either sides of the interface. While seismic images show rock boundaries, they don't say much about the rock themselves; some rocks are easy to identify while some are difficult.\n",
        "\n",
        "There are several areas of the world where there are vast quantities of salt in the subsurface. One of the challenges of seismic imaging is to identify the part of subsurface which is salt. Salt has characteristics that makes it both simple and hard to identify. Salt density is usually 2.14 g/cc which is lower than most surrounding rocks. The seismic velocity of salt is 4.5 km/sec, which is usually faster than its surrounding rocks. This difference creates a sharp reflection at the salt-sediment interface. Usually salt is an amorphous rock without much internal structure. This means that there is typically not much reflectivity inside the salt, unless there are sediments trapped inside it. The unusually high seismic velocity of salt can create problems with seismic imaging.\n",
        "\n",
        "### Data\n",
        "The data is a set of images chosen at various locations chosen at random in the subsurface. The images are 101 x 101 pixels and each pixel is classified as either salt or sediment. In addition to the seismic images, the depth of the imaged location is provided for each image. The goal of the competition is to segment regions that contain salt.\n",
        "\n",
        "#### Source: \n",
        "https://www.kaggle.com/c/tgs-salt-identification-challenge\n",
        "\n",
        "\n",
        "### Note: \n",
        "Accept the terms and download data from the above link"
      ]
    },
    {
      "cell_type": "markdown",
      "metadata": {
        "colab_type": "text",
        "id": "3OKrTNUtn-od"
      },
      "source": [
        "### Aim: \n",
        "\n",
        "Implement U-Net neural model architecture in keras to solve this problem.\n",
        "\n",
        "\n",
        "In this, you are asked to segment salt deposits beneath the Earth’s surface. Given a set of seismic images that are 101 x 101 pixels each and each pixel we need to classify as either salt or sediment. Our goal is to segment regions that contain salt. A seismic image is produced from imaging the reflection coming from rock boundaries. The seismic image shows the boundaries between different rock types. "
      ]
    },
    {
      "cell_type": "markdown",
      "metadata": {
        "colab_type": "text",
        "id": "ZUOAF8WWoA1x"
      },
      "source": [
        "### Broad Steps:\n",
        "\n",
        "1. Download the dataset\n",
        "2. Upload to Drive\n",
        "3. Import from drive to colab\n",
        "4. Load the images and create training data.\n",
        "5. Build U-net Model\n",
        "6. Train your model.\n",
        "7. Check the validation accuracy and plot sample."
      ]
    },
    {
      "cell_type": "code",
      "metadata": {
        "colab_type": "code",
        "id": "b7TLNzB6oDep",
        "colab": {}
      },
      "source": [
        "#Importing necessary libraries\n",
        "import os\n",
        "import random\n",
        "import pandas as pd\n",
        "import numpy as np\n",
        "import matplotlib.pyplot as plt\n",
        "plt.style.use(\"ggplot\")\n",
        "%matplotlib inline\n",
        "\n",
        "from tqdm import tqdm_notebook, tnrange\n",
        "from itertools import chain\n",
        "from skimage.io import imread, imshow, concatenate_images\n",
        "from skimage.transform import resize\n",
        "from skimage.morphology import label\n",
        "from sklearn.model_selection import train_test_split\n",
        "\n",
        "import tensorflow as tf\n",
        "from keras.models import Model, load_model\n",
        "from keras.layers import Input, BatchNormalization, Activation, Dense, Dropout\n",
        "from keras.layers.core import Lambda, RepeatVector, Reshape\n",
        "from keras.layers.convolutional import Conv2D, Conv2DTranspose\n",
        "from keras.layers.pooling import MaxPooling2D, GlobalMaxPool2D\n",
        "from keras.layers.merge import concatenate, add\n",
        "from keras.callbacks import EarlyStopping, ModelCheckpoint, ReduceLROnPlateau\n",
        "from keras.optimizers import Adam\n",
        "from keras.preprocessing.image import ImageDataGenerator, array_to_img, img_to_array, load_img"
      ],
      "execution_count": 0,
      "outputs": []
    },
    {
      "cell_type": "code",
      "metadata": {
        "colab_type": "code",
        "id": "6qiCvW9coD_E",
        "colab": {
          "base_uri": "https://localhost:8080/",
          "height": 35
        },
        "outputId": "703a12c4-19e5-4c31-a4d1-7645f766f151"
      },
      "source": [
        "#Mount drive\n",
        "from google.colab import drive\n",
        "drive.mount('/content/drive/')"
      ],
      "execution_count": 23,
      "outputs": [
        {
          "output_type": "stream",
          "text": [
            "Drive already mounted at /content/drive/; to attempt to forcibly remount, call drive.mount(\"/content/drive/\", force_remount=True).\n"
          ],
          "name": "stdout"
        }
      ]
    },
    {
      "cell_type": "markdown",
      "metadata": {
        "colab_type": "text",
        "id": "B4IaUgploION"
      },
      "source": [
        "### 1.Set your project path where you have your data and related files for this lab."
      ]
    },
    {
      "cell_type": "code",
      "metadata": {
        "colab_type": "code",
        "id": "0tPkbXWyoK-z",
        "colab": {}
      },
      "source": [
        ""
      ],
      "execution_count": 0,
      "outputs": []
    },
    {
      "cell_type": "code",
      "metadata": {
        "colab_type": "code",
        "id": "Kxy5LexhoLMT",
        "colab": {}
      },
      "source": [
        "project_path = '/content/drive/My Drive/Unet/'"
      ],
      "execution_count": 0,
      "outputs": []
    },
    {
      "cell_type": "markdown",
      "metadata": {
        "colab_type": "text",
        "id": "g15qSXZSoSuL"
      },
      "source": [
        "### 2. Set the necessary parameters"
      ]
    },
    {
      "cell_type": "markdown",
      "metadata": {
        "colab_type": "text",
        "id": "Dzrz2Or_HdxR"
      },
      "source": [
        "## Setup"
      ]
    },
    {
      "cell_type": "code",
      "metadata": {
        "colab_type": "code",
        "id": "3IEaEnuzoW2a",
        "colab": {}
      },
      "source": [
        "im_width = 128      #width of your train image\n",
        "im_height = 128     #hight of your train image\n",
        "#border =        \n",
        "path_train = project_path + 'train/'   #Path for your train data"
      ],
      "execution_count": 0,
      "outputs": []
    },
    {
      "cell_type": "code",
      "metadata": {
        "colab_type": "code",
        "id": "uZQyyn55oKW-",
        "colab": {}
      },
      "source": [
        ""
      ],
      "execution_count": 0,
      "outputs": []
    },
    {
      "cell_type": "markdown",
      "metadata": {
        "colab_type": "text",
        "id": "Q3IoS6RCoZPh"
      },
      "source": [
        "# 3. Make directory for train data at in your project/lab folder.\n",
        "\n",
        "Hint - use !mkdir function."
      ]
    },
    {
      "cell_type": "code",
      "metadata": {
        "colab_type": "code",
        "id": "MRPpQ2QrocBQ",
        "colab": {}
      },
      "source": [
        "!mkdir '/content/drive/My Drive/Unet/lab'"
      ],
      "execution_count": 0,
      "outputs": []
    },
    {
      "cell_type": "code",
      "metadata": {
        "colab_type": "code",
        "id": "RWATodbkocN9",
        "colab": {}
      },
      "source": [
        "!mkdir '/content/drive/My Drive/Unet/train'"
      ],
      "execution_count": 0,
      "outputs": []
    },
    {
      "cell_type": "markdown",
      "metadata": {
        "colab_type": "text",
        "id": "fRbC22DGoeb7"
      },
      "source": [
        "# 4. Extract your train images to the train directory you have just created above. \n",
        "train.zip and test.zip files available at your google drive/local system.\n",
        "\n",
        "As a good practice - Upload or copy the data at your project path folder.\n",
        "\n",
        "Make sure you are providing the right project_path."
      ]
    },
    {
      "cell_type": "code",
      "metadata": {
        "colab_type": "code",
        "id": "5BtPznFbogjG",
        "colab": {
          "base_uri": "https://localhost:8080/",
          "height": 35
        },
        "outputId": "c7da98b6-5c3e-4592-c771-b1f76e982c96"
      },
      "source": [
        "#For simplicity we have added the required code here.\n",
        "print(project_path + 'train.zip')\n",
        "from zipfile import ZipFile\n",
        "\n",
        "with ZipFile(project_path + 'train.zip', 'r') as zf:\n",
        "  zf.extractall('/content/drive/My Drive/Unet/train')\n"
      ],
      "execution_count": 30,
      "outputs": [
        {
          "output_type": "stream",
          "text": [
            "/content/drive/My Drive/Unet/train.zip\n"
          ],
          "name": "stdout"
        }
      ]
    },
    {
      "cell_type": "code",
      "metadata": {
        "colab_type": "code",
        "id": "7YZ2prb9oiX4",
        "colab": {}
      },
      "source": [
        "#The train file have both images and masks with the same names_ids."
      ],
      "execution_count": 0,
      "outputs": []
    },
    {
      "cell_type": "code",
      "metadata": {
        "colab_type": "code",
        "id": "zxQ1u8Bvoj1M",
        "colab": {}
      },
      "source": [
        ""
      ],
      "execution_count": 0,
      "outputs": []
    },
    {
      "cell_type": "markdown",
      "metadata": {
        "colab_type": "text",
        "id": "iwCH81ZWomLA"
      },
      "source": [
        "### 5. Get the list of names of images and masks and name the list imagelist and masklist.\n",
        "\n",
        "Hint - Use os.listdir() funtions."
      ]
    },
    {
      "cell_type": "code",
      "metadata": {
        "colab_type": "code",
        "id": "Clt5ya_JoplC",
        "colab": {}
      },
      "source": [
        "imagelist=os.listdir('/content/drive/My Drive/Unet/train/images')"
      ],
      "execution_count": 0,
      "outputs": []
    },
    {
      "cell_type": "code",
      "metadata": {
        "id": "rJNbphbDMS1z",
        "colab_type": "code",
        "colab": {}
      },
      "source": [
        "masklist=os.listdir('/content/drive/My Drive/Unet/train/masks')"
      ],
      "execution_count": 0,
      "outputs": []
    },
    {
      "cell_type": "code",
      "metadata": {
        "id": "5nM05rHTMcrf",
        "colab_type": "code",
        "colab": {
          "base_uri": "https://localhost:8080/",
          "height": 35
        },
        "outputId": "1580c494-40e0-4cac-dfdf-8b550a8dab26"
      },
      "source": [
        "len(imagelist)"
      ],
      "execution_count": 33,
      "outputs": [
        {
          "output_type": "execute_result",
          "data": {
            "text/plain": [
              "4000"
            ]
          },
          "metadata": {
            "tags": []
          },
          "execution_count": 33
        }
      ]
    },
    {
      "cell_type": "code",
      "metadata": {
        "id": "g3_1sQjhMgx6",
        "colab_type": "code",
        "colab": {
          "base_uri": "https://localhost:8080/",
          "height": 35
        },
        "outputId": "ba25a2d7-55e5-47c9-ba31-34e4f61c9963"
      },
      "source": [
        "len(masklist)"
      ],
      "execution_count": 34,
      "outputs": [
        {
          "output_type": "execute_result",
          "data": {
            "text/plain": [
              "4000"
            ]
          },
          "metadata": {
            "tags": []
          },
          "execution_count": 34
        }
      ]
    },
    {
      "cell_type": "code",
      "metadata": {
        "colab_type": "code",
        "id": "-vHPQoHVoppK",
        "colab": {
          "base_uri": "https://localhost:8080/",
          "height": 87
        },
        "outputId": "b5065548-33c1-4677-ed40-73ae0d8e76e1"
      },
      "source": [
        "#Test your list names by printing some of the names as given below.\n",
        "print(imagelist[-1])\n",
        "print(masklist[-1])\n",
        "print(imagelist[10])\n",
        "print(masklist[10])"
      ],
      "execution_count": 35,
      "outputs": [
        {
          "output_type": "stream",
          "text": [
            "7cc53fe88b.png\n",
            "7cc53fe88b.png\n",
            "de08c5a3b7.png\n",
            "de08c5a3b7.png\n"
          ],
          "name": "stdout"
        }
      ]
    },
    {
      "cell_type": "code",
      "metadata": {
        "colab_type": "code",
        "id": "WUZw-kSKoqIr",
        "colab": {}
      },
      "source": [
        ""
      ],
      "execution_count": 0,
      "outputs": []
    },
    {
      "cell_type": "markdown",
      "metadata": {
        "colab_type": "text",
        "id": "1t8raFq5ous8"
      },
      "source": [
        "# 6. Read and test your images and respective masks.\n",
        "\n",
        "Hint -\n",
        "\n",
        "import  matplotlib.pyplot as plt\n",
        "\n",
        "import cv2\n",
        "\n",
        "plt.imshow(cv2.imread('path of image'))\n",
        "\n",
        "plt.imshow(cv2.imread('path of mask'))\n"
      ]
    },
    {
      "cell_type": "code",
      "metadata": {
        "colab_type": "code",
        "id": "1gGpCSPpovvH",
        "colab": {}
      },
      "source": [
        "import matplotlib.pyplot as plt"
      ],
      "execution_count": 0,
      "outputs": []
    },
    {
      "cell_type": "code",
      "metadata": {
        "colab_type": "code",
        "id": "9E-McW2toyaR",
        "colab": {}
      },
      "source": [
        "import cv2"
      ],
      "execution_count": 0,
      "outputs": []
    },
    {
      "cell_type": "code",
      "metadata": {
        "id": "_OTwglf8MyFf",
        "colab_type": "code",
        "colab": {
          "base_uri": "https://localhost:8080/",
          "height": 287
        },
        "outputId": "a222072a-4569-42ab-96ec-ae3f5e0410fc"
      },
      "source": [
        "plt.imshow(cv2.imread('/content/drive/My Drive/Unet/train/images/7cc53fe88b.png'))"
      ],
      "execution_count": 38,
      "outputs": [
        {
          "output_type": "execute_result",
          "data": {
            "text/plain": [
              "<matplotlib.image.AxesImage at 0x7f8436aed240>"
            ]
          },
          "metadata": {
            "tags": []
          },
          "execution_count": 38
        },
        {
          "output_type": "display_data",
          "data": {
            "image/png": "[encoded data removed]",
            "text/plain": [
              "<Figure size 432x288 with 1 Axes>"
            ]
          },
          "metadata": {
            "tags": []
          }
        }
      ]
    },
    {
      "cell_type": "code",
      "metadata": {
        "id": "y1vi4AdkNC77",
        "colab_type": "code",
        "colab": {
          "base_uri": "https://localhost:8080/",
          "height": 287
        },
        "outputId": "fa27eec6-5d98-4881-9230-9a83b7e00c61"
      },
      "source": [
        "plt.imshow(cv2.imread('/content/drive/My Drive/Unet/train/masks/7cc53fe88b.png'))"
      ],
      "execution_count": 39,
      "outputs": [
        {
          "output_type": "execute_result",
          "data": {
            "text/plain": [
              "<matplotlib.image.AxesImage at 0x7f8436b08400>"
            ]
          },
          "metadata": {
            "tags": []
          },
          "execution_count": 39
        },
        {
          "output_type": "display_data",
          "data": {
            "image/png": "[encoded data removed]",
            "text/plain": [
              "<Figure size 432x288 with 1 Axes>"
            ]
          },
          "metadata": {
            "tags": []
          }
        }
      ]
    },
    {
      "cell_type": "markdown",
      "metadata": {
        "colab_type": "text",
        "id": "_qFeroMNoylc"
      },
      "source": [
        "# 7. Create your training data.\n",
        "\n",
        "Hints - \n",
        "\n",
        "image_path = os.path.join(project_path +'path of your image directory' +n )\n",
        "\n",
        "mask_path = os.path.join(project_path +'path of your mask directory'+n )"
      ]
    },
    {
      "cell_type": "code",
      "metadata": {
        "colab_type": "code",
        "id": "gJbRVbL4o1qT",
        "colab": {
          "base_uri": "https://localhost:8080/",
          "height": 35
        },
        "outputId": "d255414d-97a1-4778-ec60-703080d42b16"
      },
      "source": [
        "# Get and resize train images and masks\n",
        "from PIL import Image\n",
        "def get_data():\n",
        "    X = np.zeros(((len(imagelist), im_height, im_width, 1)), dtype=np.float32) # Create an array for image\n",
        "    y = np.zeros(((len(masklist), im_height, im_width, 1)), dtype=np.float32) #Create an array for mask\n",
        "    \n",
        "    for n in imagelist: \n",
        "        k = imagelist.index(n)\n",
        "        train = True\n",
        "        ##Add image_path\n",
        "        image_path =  os.path.join('/content/drive/My Drive/Unet/train/images/' +n )\n",
        "        ##Add mask_path\n",
        "        mask_path =  os.path.join('/content/drive/My Drive/Unet/train/masks/' +n )\n",
        "        #print(image_path)\n",
        "        \n",
        "        #Load images and resize to (128,128,1)\n",
        "        #img = Image.open(image_path)\n",
        "        #resized_img = img.resize(128,128,1)\n",
        "        img = cv2.imread(image_path)\n",
        "        resized_img = np.resize(img, (128, 128,1))\n",
        "        #Load masks and resize to (128,128,1)\n",
        "        #mask = Image.open(mask_path)\n",
        "        #resized_mask = img.resize(128,128,1)\n",
        "        mask = cv2.imread(mask_path)\n",
        "        resized_mask = np.resize(mask, (128, 128,1))\n",
        "        # Save images\n",
        "        X[k, ..., 0] = resized_img.squeeze() / 255\n",
        "        y[k] = resized_mask/255\n",
        "    print('Done!')\n",
        "    if train:\n",
        "        return X, y\n",
        "    else:\n",
        "        return X\n",
        "    \n",
        "X, y = get_data()"
      ],
      "execution_count": 40,
      "outputs": [
        {
          "output_type": "stream",
          "text": [
            "Done!\n"
          ],
          "name": "stdout"
        }
      ]
    },
    {
      "cell_type": "code",
      "metadata": {
        "colab_type": "code",
        "id": "seheYxTBo32V",
        "colab": {}
      },
      "source": [
        ""
      ],
      "execution_count": 0,
      "outputs": []
    },
    {
      "cell_type": "code",
      "metadata": {
        "colab_type": "code",
        "id": "kt6zXJPHo35y",
        "colab": {}
      },
      "source": [
        "# Split train and valid\n",
        "from sklearn.model_selection import train_test_split\n",
        "X_train, X_valid, y_train, y_valid = train_test_split(X, y, test_size=0.15, random_state=2019)"
      ],
      "execution_count": 0,
      "outputs": []
    },
    {
      "cell_type": "code",
      "metadata": {
        "colab_type": "code",
        "id": "mh_SRFGro6wr",
        "colab": {
          "base_uri": "https://localhost:8080/",
          "height": 319
        },
        "outputId": "b1ff3655-b773-46c5-dbde-1bdf32a8fe16"
      },
      "source": [
        "## Test your data whether it looks fine - Random check\n",
        "import random \n",
        "# Check if training data looks all right\n",
        "ix = random.randint(0, len(X_train))\n",
        "has_mask = y_train[ix].max() > 0\n",
        "\n",
        "fig, ax = plt.subplots(1, 2, figsize=(10, 10))\n",
        "\n",
        "ax[0].imshow(X_train[ix, ..., 0], cmap='seismic', interpolation='bilinear')\n",
        "if has_mask:\n",
        "    ax[0].contour(y_train[ix].squeeze(), colors='k', levels=[0.5])\n",
        "ax[0].set_title('Seismic')\n",
        "\n",
        "ax[1].imshow(y_train[ix].squeeze(), interpolation='bilinear', cmap='gray')\n",
        "ax[1].set_title('Salt');\n",
        "\n",
        "\n"
      ],
      "execution_count": 43,
      "outputs": [
        {
          "output_type": "display_data",
          "data": {
            "image/png": "[encoded data removed]",
            "text/plain": [
              "<Figure size 720x720 with 2 Axes>"
            ]
          },
          "metadata": {
            "tags": []
          }
        }
      ]
    },
    {
      "cell_type": "code",
      "metadata": {
        "colab_type": "code",
        "id": "aqMLP_Jwo8K5",
        "colab": {}
      },
      "source": [
        ""
      ],
      "execution_count": 0,
      "outputs": []
    },
    {
      "cell_type": "code",
      "metadata": {
        "colab_type": "code",
        "id": "_-JXuxrRo8a6",
        "colab": {}
      },
      "source": [
        ""
      ],
      "execution_count": 0,
      "outputs": []
    },
    {
      "cell_type": "markdown",
      "metadata": {
        "colab_type": "text",
        "id": "em5jGV93o8qR"
      },
      "source": [
        "### 8. Define loss and dice_coeff function."
      ]
    },
    {
      "cell_type": "code",
      "metadata": {
        "colab_type": "code",
        "id": "Uyxf8uhQpA78",
        "colab": {}
      },
      "source": [
        "from keras import backend as K\n",
        "\n",
        "smooth = 1\n",
        "def dice_coef(y_true, y_pred):\n",
        "    y_true_f = K.flatten(y_true)\n",
        "    y_pred_f = K.flatten(y_pred)\n",
        "    intersection = K.sum(y_true_f * y_pred_f)\n",
        "    return (2. * intersection + smooth) / (K.sum(y_true_f) + K.sum(y_pred_f) + smooth)\n",
        "\n",
        "\n",
        "def dice_coef_loss(y_true, y_pred):\n",
        "    return -dice_coef(y_true, y_pred)\n"
      ],
      "execution_count": 0,
      "outputs": []
    },
    {
      "cell_type": "code",
      "metadata": {
        "colab_type": "code",
        "id": "EmCjyEUUpA_V",
        "colab": {}
      },
      "source": [
        ""
      ],
      "execution_count": 0,
      "outputs": []
    },
    {
      "cell_type": "markdown",
      "metadata": {
        "colab_type": "text",
        "id": "-ofKZA-9pDVJ"
      },
      "source": [
        "### 9. Build and compile UNet Model for your data.\n",
        "\n",
        "Hint - \n",
        "You can install and use segmentation models from this github repository.\n",
        "\n",
        "#Install segmentation models\n",
        "\n",
        "!pip install git+https://github.com/qubvel/segmentation_models"
      ]
    },
    {
      "cell_type": "code",
      "metadata": {
        "colab_type": "code",
        "id": "456utznCpGco",
        "colab": {
          "base_uri": "https://localhost:8080/",
          "height": 869
        },
        "outputId": "a663690f-d2b3-47e5-bbd9-25871857dcdf"
      },
      "source": [
        "#model = Unet(backbone_name='resnet34', encoder_weights=None, input_shape=(None, None, 1))\n",
        "#compile your model by adding the parameters like optimizer, loss and metrics.\n",
        "\n",
        "!pip install git+https://github.com/qubvel/segmentation_models"
      ],
      "execution_count": 45,
      "outputs": [
        {
          "output_type": "stream",
          "text": [
            "Collecting git+https://github.com/qubvel/segmentation_models\n",
            "  Cloning https://github.com/qubvel/segmentation_models to /tmp/pip-req-build-0g6afwno\n",
            "  Running command git clone -q https://github.com/qubvel/segmentation_models /tmp/pip-req-build-0g6afwno\n",
            "  Running command git submodule update --init --recursive -q\n",
            "Requirement already satisfied: keras>=2.2.0 in /usr/local/lib/python3.6/dist-packages (from segmentation-models==0.2.1) (2.2.4)\n",
            "Collecting keras_applications==1.0.7 (from segmentation-models==0.2.1)\n",
            "\u001b[?25l  Downloading https://files.pythonhosted.org/packages/90/85/64c82949765cfb246bbdaf5aca2d55f400f792655927a017710a78445def/Keras_Applications-1.0.7-py2.py3-none-any.whl (51kB)\n",
            "\u001b[K     |████████████████████████████████| 61kB 7.1MB/s \n",
            "\u001b[?25hRequirement already satisfied: scikit-image in /usr/local/lib/python3.6/dist-packages (from segmentation-models==0.2.1) (0.15.0)\n",
            "Collecting image-classifiers==0.2.0 (from segmentation-models==0.2.1)\n",
            "\u001b[?25l  Downloading https://files.pythonhosted.org/packages/de/32/a1e74e03f74506d1e4b46bb2732ca5a7b18ac52a36b5e3547e63537ce74c/image_classifiers-0.2.0-py2.py3-none-any.whl (76kB)\n",
            "\u001b[K     |████████████████████████████████| 81kB 16.9MB/s \n",
            "\u001b[?25hCollecting efficientnet>=0.0.4 (from segmentation-models==0.2.1)\n",
            "  Downloading https://files.pythonhosted.org/packages/a6/80/f2c098284f7c07491e66af18d9a5fea595d4b507d10c0845275b8d47dc6f/efficientnet-0.0.4.tar.gz\n",
            "Requirement already satisfied: numpy>=1.9.1 in /usr/local/lib/python3.6/dist-packages (from keras>=2.2.0->segmentation-models==0.2.1) (1.16.4)\n",
            "Requirement already satisfied: keras-preprocessing>=1.0.5 in /usr/local/lib/python3.6/dist-packages (from keras>=2.2.0->segmentation-models==0.2.1) (1.1.0)\n",
            "Requirement already satisfied: six>=1.9.0 in /usr/local/lib/python3.6/dist-packages (from keras>=2.2.0->segmentation-models==0.2.1) (1.12.0)\n",
            "Requirement already satisfied: h5py in /usr/local/lib/python3.6/dist-packages (from keras>=2.2.0->segmentation-models==0.2.1) (2.8.0)\n",
            "Requirement already satisfied: scipy>=0.14 in /usr/local/lib/python3.6/dist-packages (from keras>=2.2.0->segmentation-models==0.2.1) (1.3.0)\n",
            "Requirement already satisfied: pyyaml in /usr/local/lib/python3.6/dist-packages (from keras>=2.2.0->segmentation-models==0.2.1) (3.13)\n",
            "Requirement already satisfied: imageio>=2.0.1 in /usr/local/lib/python3.6/dist-packages (from scikit-image->segmentation-models==0.2.1) (2.4.1)\n",
            "Requirement already satisfied: pillow>=4.3.0 in /usr/local/lib/python3.6/dist-packages (from scikit-image->segmentation-models==0.2.1) (4.3.0)\n",
            "Requirement already satisfied: matplotlib!=3.0.0,>=2.0.0 in /usr/local/lib/python3.6/dist-packages (from scikit-image->segmentation-models==0.2.1) (3.0.3)\n",
            "Requirement already satisfied: networkx>=2.0 in /usr/local/lib/python3.6/dist-packages (from scikit-image->segmentation-models==0.2.1) (2.3)\n",
            "Requirement already satisfied: PyWavelets>=0.4.0 in /usr/local/lib/python3.6/dist-packages (from scikit-image->segmentation-models==0.2.1) (1.0.3)\n",
            "Requirement already satisfied: olefile in /usr/local/lib/python3.6/dist-packages (from pillow>=4.3.0->scikit-image->segmentation-models==0.2.1) (0.46)\n",
            "Requirement already satisfied: python-dateutil>=2.1 in /usr/local/lib/python3.6/dist-packages (from matplotlib!=3.0.0,>=2.0.0->scikit-image->segmentation-models==0.2.1) (2.5.3)\n",
            "Requirement already satisfied: pyparsing!=2.0.4,!=2.1.2,!=2.1.6,>=2.0.1 in /usr/local/lib/python3.6/dist-packages (from matplotlib!=3.0.0,>=2.0.0->scikit-image->segmentation-models==0.2.1) (2.4.0)\n",
            "Requirement already satisfied: cycler>=0.10 in /usr/local/lib/python3.6/dist-packages (from matplotlib!=3.0.0,>=2.0.0->scikit-image->segmentation-models==0.2.1) (0.10.0)\n",
            "Requirement already satisfied: kiwisolver>=1.0.1 in /usr/local/lib/python3.6/dist-packages (from matplotlib!=3.0.0,>=2.0.0->scikit-image->segmentation-models==0.2.1) (1.1.0)\n",
            "Requirement already satisfied: decorator>=4.3.0 in /usr/local/lib/python3.6/dist-packages (from networkx>=2.0->scikit-image->segmentation-models==0.2.1) (4.4.0)\n",
            "Requirement already satisfied: setuptools in /usr/local/lib/python3.6/dist-packages (from kiwisolver>=1.0.1->matplotlib!=3.0.0,>=2.0.0->scikit-image->segmentation-models==0.2.1) (41.0.1)\n",
            "Building wheels for collected packages: segmentation-models, efficientnet\n",
            "  Building wheel for segmentation-models (setup.py) ... \u001b[?25l\u001b[?25hdone\n",
            "  Stored in directory: /tmp/pip-ephem-wheel-cache-s5p_1zqf/wheels/49/cf/46/cbb4bb64518c402aea99df9d466f1081450597e653256bbcf4\n",
            "  Building wheel for efficientnet (setup.py) ... \u001b[?25l\u001b[?25hdone\n",
            "  Stored in directory: /root/.cache/pip/wheels/5c/34/68/a611a699a28239e964ccf144c0e767cdb5439fee82ec5de6e0\n",
            "Successfully built segmentation-models efficientnet\n",
            "Installing collected packages: keras-applications, image-classifiers, efficientnet, segmentation-models\n",
            "  Found existing installation: Keras-Applications 1.0.8\n",
            "    Uninstalling Keras-Applications-1.0.8:\n",
            "      Successfully uninstalled Keras-Applications-1.0.8\n",
            "Successfully installed efficientnet-0.0.4 image-classifiers-0.2.0 keras-applications-1.0.7 segmentation-models-0.2.1\n"
          ],
          "name": "stdout"
        },
        {
          "output_type": "display_data",
          "data": {
            "application/vnd.colab-display-data+json": {
              "pip_warning": {
                "packages": [
                  "keras_applications"
                ]
              }
            }
          },
          "metadata": {
            "tags": []
          }
        }
      ]
    },
    {
      "cell_type": "code",
      "metadata": {
        "id": "XYpt7T-El9NA",
        "colab_type": "code",
        "colab": {}
      },
      "source": [
        "import os\n",
        "from skimage.transform import resize\n",
        "from skimage.io import imsave\n",
        "import numpy as np\n",
        "from keras.models import Model\n",
        "from keras.layers import Input, concatenate, Conv2D, MaxPooling2D, Conv2DTranspose\n",
        "from keras.optimizers import Adam\n",
        "from keras.callbacks import ModelCheckpoint\n",
        "from keras import backend as K\n",
        "\n",
        "\n",
        "\n",
        "\n",
        "def get_unet():\n",
        "    inputs = Input((128, 128, 1))\n",
        "    conv1 = Conv2D(32, (3, 3), activation='relu', padding='same')(inputs)\n",
        "    conv1 = Conv2D(32, (3, 3), activation='relu', padding='same')(conv1)\n",
        "    pool1 = MaxPooling2D(pool_size=(2, 2))(conv1)\n",
        "\n",
        "    conv2 = Conv2D(64, (3, 3), activation='relu', padding='same')(pool1)\n",
        "    conv2 = Conv2D(64, (3, 3), activation='relu', padding='same')(conv2)\n",
        "    pool2 = MaxPooling2D(pool_size=(2, 2))(conv2)\n",
        "\n",
        "    conv3 = Conv2D(128, (3, 3), activation='relu', padding='same')(pool2)\n",
        "    conv3 = Conv2D(128, (3, 3), activation='relu', padding='same')(conv3)\n",
        "    pool3 = MaxPooling2D(pool_size=(2, 2))(conv3)\n",
        "\n",
        "    conv4 = Conv2D(256, (3, 3), activation='relu', padding='same')(pool3)\n",
        "    conv4 = Conv2D(256, (3, 3), activation='relu', padding='same')(conv4)\n",
        "    pool4 = MaxPooling2D(pool_size=(2, 2))(conv4)\n",
        "\n",
        "    conv5 = Conv2D(512, (3, 3), activation='relu', padding='same')(pool4)\n",
        "    conv5 = Conv2D(512, (3, 3), activation='relu', padding='same')(conv5)\n",
        "\n",
        "    up6 = concatenate([Conv2DTranspose(256, (2, 2), strides=(2, 2), padding='same')(conv5), conv4], axis=3)\n",
        "    conv6 = Conv2D(256, (3, 3), activation='relu', padding='same')(up6)\n",
        "    conv6 = Conv2D(256, (3, 3), activation='relu', padding='same')(conv6)\n",
        "\n",
        "    up7 = concatenate([Conv2DTranspose(128, (2, 2), strides=(2, 2), padding='same')(conv6), conv3], axis=3)\n",
        "    conv7 = Conv2D(128, (3, 3), activation='relu', padding='same')(up7)\n",
        "    conv7 = Conv2D(128, (3, 3), activation='relu', padding='same')(conv7)\n",
        "\n",
        "    up8 = concatenate([Conv2DTranspose(64, (2, 2), strides=(2, 2), padding='same')(conv7), conv2], axis=3)\n",
        "    conv8 = Conv2D(64, (3, 3), activation='relu', padding='same')(up8)\n",
        "    conv8 = Conv2D(64, (3, 3), activation='relu', padding='same')(conv8)\n",
        "\n",
        "    up9 = concatenate([Conv2DTranspose(32, (2, 2), strides=(2, 2), padding='same')(conv8), conv1], axis=3)\n",
        "    conv9 = Conv2D(32, (3, 3), activation='relu', padding='same')(up9)\n",
        "    conv9 = Conv2D(32, (3, 3), activation='relu', padding='same')(conv9)\n",
        "\n",
        "    conv10 = Conv2D(1, (1, 1), activation='sigmoid')(conv9)\n",
        "\n",
        "    model = Model(inputs=[inputs], outputs=[conv10])\n",
        "\n",
        "    model.compile(optimizer=Adam(lr=1e-5), loss=dice_coef_loss, metrics=[dice_coef])\n",
        "\n",
        "    return model\n"
      ],
      "execution_count": 0,
      "outputs": []
    },
    {
      "cell_type": "code",
      "metadata": {
        "colab_type": "code",
        "id": "eL1lRlXDpIHl",
        "colab": {}
      },
      "source": [
        "#Get the summary of your model\n",
        "model = get_unet()\n"
      ],
      "execution_count": 0,
      "outputs": []
    },
    {
      "cell_type": "code",
      "metadata": {
        "colab_type": "code",
        "id": "cA4f4oYYpJA6",
        "colab": {
          "base_uri": "https://localhost:8080/",
          "height": 1000
        },
        "outputId": "ba48d661-c355-480f-f33a-c8227724fa55"
      },
      "source": [
        "model.summary()"
      ],
      "execution_count": 65,
      "outputs": [
        {
          "output_type": "stream",
          "text": [
            "__________________________________________________________________________________________________\n",
            "Layer (type)                    Output Shape         Param #     Connected to                     \n",
            "==================================================================================================\n",
            "input_5 (InputLayer)            (None, 128, 128, 1)  0                                            \n",
            "__________________________________________________________________________________________________\n",
            "conv2d_77 (Conv2D)              (None, 128, 128, 32) 320         input_5[0][0]                    \n",
            "__________________________________________________________________________________________________\n",
            "conv2d_78 (Conv2D)              (None, 128, 128, 32) 9248        conv2d_77[0][0]                  \n",
            "__________________________________________________________________________________________________\n",
            "max_pooling2d_17 (MaxPooling2D) (None, 64, 64, 32)   0           conv2d_78[0][0]                  \n",
            "__________________________________________________________________________________________________\n",
            "conv2d_79 (Conv2D)              (None, 64, 64, 64)   18496       max_pooling2d_17[0][0]           \n",
            "__________________________________________________________________________________________________\n",
            "conv2d_80 (Conv2D)              (None, 64, 64, 64)   36928       conv2d_79[0][0]                  \n",
            "__________________________________________________________________________________________________\n",
            "max_pooling2d_18 (MaxPooling2D) (None, 32, 32, 64)   0           conv2d_80[0][0]                  \n",
            "__________________________________________________________________________________________________\n",
            "conv2d_81 (Conv2D)              (None, 32, 32, 128)  73856       max_pooling2d_18[0][0]           \n",
            "__________________________________________________________________________________________________\n",
            "conv2d_82 (Conv2D)              (None, 32, 32, 128)  147584      conv2d_81[0][0]                  \n",
            "__________________________________________________________________________________________________\n",
            "max_pooling2d_19 (MaxPooling2D) (None, 16, 16, 128)  0           conv2d_82[0][0]                  \n",
            "__________________________________________________________________________________________________\n",
            "conv2d_83 (Conv2D)              (None, 16, 16, 256)  295168      max_pooling2d_19[0][0]           \n",
            "__________________________________________________________________________________________________\n",
            "conv2d_84 (Conv2D)              (None, 16, 16, 256)  590080      conv2d_83[0][0]                  \n",
            "__________________________________________________________________________________________________\n",
            "max_pooling2d_20 (MaxPooling2D) (None, 8, 8, 256)    0           conv2d_84[0][0]                  \n",
            "__________________________________________________________________________________________________\n",
            "conv2d_85 (Conv2D)              (None, 8, 8, 512)    1180160     max_pooling2d_20[0][0]           \n",
            "__________________________________________________________________________________________________\n",
            "conv2d_86 (Conv2D)              (None, 8, 8, 512)    2359808     conv2d_85[0][0]                  \n",
            "__________________________________________________________________________________________________\n",
            "conv2d_transpose_17 (Conv2DTran (None, 16, 16, 256)  524544      conv2d_86[0][0]                  \n",
            "__________________________________________________________________________________________________\n",
            "concatenate_17 (Concatenate)    (None, 16, 16, 512)  0           conv2d_transpose_17[0][0]        \n",
            "                                                                 conv2d_84[0][0]                  \n",
            "__________________________________________________________________________________________________\n",
            "conv2d_87 (Conv2D)              (None, 16, 16, 256)  1179904     concatenate_17[0][0]             \n",
            "__________________________________________________________________________________________________\n",
            "conv2d_88 (Conv2D)              (None, 16, 16, 256)  590080      conv2d_87[0][0]                  \n",
            "__________________________________________________________________________________________________\n",
            "conv2d_transpose_18 (Conv2DTran (None, 32, 32, 128)  131200      conv2d_88[0][0]                  \n",
            "__________________________________________________________________________________________________\n",
            "concatenate_18 (Concatenate)    (None, 32, 32, 256)  0           conv2d_transpose_18[0][0]        \n",
            "                                                                 conv2d_82[0][0]                  \n",
            "__________________________________________________________________________________________________\n",
            "conv2d_89 (Conv2D)              (None, 32, 32, 128)  295040      concatenate_18[0][0]             \n",
            "__________________________________________________________________________________________________\n",
            "conv2d_90 (Conv2D)              (None, 32, 32, 128)  147584      conv2d_89[0][0]                  \n",
            "__________________________________________________________________________________________________\n",
            "conv2d_transpose_19 (Conv2DTran (None, 64, 64, 64)   32832       conv2d_90[0][0]                  \n",
            "__________________________________________________________________________________________________\n",
            "concatenate_19 (Concatenate)    (None, 64, 64, 128)  0           conv2d_transpose_19[0][0]        \n",
            "                                                                 conv2d_80[0][0]                  \n",
            "__________________________________________________________________________________________________\n",
            "conv2d_91 (Conv2D)              (None, 64, 64, 64)   73792       concatenate_19[0][0]             \n",
            "__________________________________________________________________________________________________\n",
            "conv2d_92 (Conv2D)              (None, 64, 64, 64)   36928       conv2d_91[0][0]                  \n",
            "__________________________________________________________________________________________________\n",
            "conv2d_transpose_20 (Conv2DTran (None, 128, 128, 32) 8224        conv2d_92[0][0]                  \n",
            "__________________________________________________________________________________________________\n",
            "concatenate_20 (Concatenate)    (None, 128, 128, 64) 0           conv2d_transpose_20[0][0]        \n",
            "                                                                 conv2d_78[0][0]                  \n",
            "__________________________________________________________________________________________________\n",
            "conv2d_93 (Conv2D)              (None, 128, 128, 32) 18464       concatenate_20[0][0]             \n",
            "__________________________________________________________________________________________________\n",
            "conv2d_94 (Conv2D)              (None, 128, 128, 32) 9248        conv2d_93[0][0]                  \n",
            "__________________________________________________________________________________________________\n",
            "conv2d_95 (Conv2D)              (None, 128, 128, 1)  33          conv2d_94[0][0]                  \n",
            "==================================================================================================\n",
            "Total params: 7,759,521\n",
            "Trainable params: 7,759,521\n",
            "Non-trainable params: 0\n",
            "__________________________________________________________________________________________________\n"
          ],
          "name": "stdout"
        }
      ]
    },
    {
      "cell_type": "markdown",
      "metadata": {
        "colab_type": "text",
        "id": "6UYvb8OdpLV5"
      },
      "source": [
        "### 10. Fit your model using model.fit function.\n",
        "Hint - As it might take long time to run. Run it for only 1 or 2 epochs."
      ]
    },
    {
      "cell_type": "code",
      "metadata": {
        "colab_type": "code",
        "id": "bFw1Yq06pQbp",
        "colab": {
          "base_uri": "https://localhost:8080/",
          "height": 87
        },
        "outputId": "f1dfe83d-3e0a-47e8-e066-aacddf23f920"
      },
      "source": [
        "h = model.fit(X_train, y_train, epochs = 2, batch_size = 50, \n",
        "          verbose = 1)"
      ],
      "execution_count": 66,
      "outputs": [
        {
          "output_type": "stream",
          "text": [
            "Epoch 1/2\n",
            "3400/3400 [==============================] - 27s 8ms/step - loss: -0.3196 - dice_coef: 0.3196\n",
            "Epoch 2/2\n",
            "3400/3400 [==============================] - 17s 5ms/step - loss: -0.3229 - dice_coef: 0.3229\n"
          ],
          "name": "stdout"
        }
      ]
    },
    {
      "cell_type": "markdown",
      "metadata": {
        "colab_type": "text",
        "id": "iH34vMq9pSnh"
      },
      "source": [
        "### 11.Predict on val set using model.predict funtion and store in preds_val variable.\n",
        "\n"
      ]
    },
    {
      "cell_type": "code",
      "metadata": {
        "colab_type": "code",
        "id": "FymN5QpopXW-",
        "colab": {}
      },
      "source": [
        "preds_val=model.predict(y_valid)"
      ],
      "execution_count": 0,
      "outputs": []
    },
    {
      "cell_type": "code",
      "metadata": {
        "colab_type": "code",
        "id": "uKkpE3vEpXi8",
        "colab": {}
      },
      "source": [
        "#Get the threshold predictions to look at refined results.\n",
        "preds_val_t = (preds_val > 0.5).astype(np.uint8)"
      ],
      "execution_count": 0,
      "outputs": []
    },
    {
      "cell_type": "code",
      "metadata": {
        "colab_type": "code",
        "id": "Pyn3RyCRpaRH",
        "colab": {}
      },
      "source": [
        "#Plot a sample\n",
        "def plot_sample(X, y, preds, binary_preds, ix=None):\n",
        "    if ix is None:\n",
        "        ix = random.randint(0, len(X))\n",
        "\n",
        "    has_mask = y[ix].max() > 0\n",
        "\n",
        "    fig, ax = plt.subplots(1, 4, figsize=(20, 10))\n",
        "    ax[0].imshow(X[ix, ..., 0], cmap='seismic')\n",
        "    if has_mask:\n",
        "        ax[0].contour(y[ix].squeeze(), colors='k', levels=[0.5])\n",
        "    ax[0].set_title('Seismic')\n",
        "\n",
        "    ax[1].imshow(y[ix].squeeze())\n",
        "    ax[1].set_title('Salt')\n",
        "\n",
        "    ax[2].imshow(preds[ix].squeeze(), vmin=0, vmax=1)\n",
        "    if has_mask:\n",
        "        ax[2].contour(y[ix].squeeze(), colors='k', levels=[0.5])\n",
        "    ax[2].set_title('Salt Predicted')\n",
        "    \n",
        "    ax[3].imshow(binary_preds[ix].squeeze(), vmin=0, vmax=1)\n",
        "    if has_mask:\n",
        "        ax[3].contour(y[ix].squeeze(), colors='k', levels=[0.5])\n",
        "    ax[3].set_title('Salt Predicted binary');"
      ],
      "execution_count": 0,
      "outputs": []
    },
    {
      "cell_type": "code",
      "metadata": {
        "colab_type": "code",
        "id": "s_h5fcgYpbyR",
        "colab": {
          "base_uri": "https://localhost:8080/",
          "height": 329
        },
        "outputId": "421c51ce-d8fb-409d-fc05-ee620529baaf"
      },
      "source": [
        "# Check if valid data looks all right\n",
        "plot_sample(X_valid, y_valid, preds_val, preds_val_t, ix=15)"
      ],
      "execution_count": 70,
      "outputs": [
        {
          "output_type": "display_data",
          "data": {
            "image/png": "[encoded data removed]",
            "text/plain": [
              "<Figure size 1440x720 with 4 Axes>"
            ]
          },
          "metadata": {
            "tags": []
          }
        }
      ]
    },
    {
      "cell_type": "markdown",
      "metadata": {
        "colab_type": "text",
        "id": "oasnhlaDpeU0"
      },
      "source": [
        "If you are getting good results- Congratulations.\n",
        "If you are not, try to explore what might be the reason."
      ]
    },
    {
      "cell_type": "markdown",
      "metadata": {
        "colab_type": "text",
        "id": "yllJR0PQpm4M"
      },
      "source": [
        "# Text generation using a RNN"
      ]
    },
    {
      "cell_type": "markdown",
      "metadata": {
        "colab_type": "text",
        "id": "2W6g03QsptwG"
      },
      "source": [
        "Given a sequence of words from this data, train a model to predict the next word in the sequence. Longer sequences of text can be generated by calling the model repeatedly."
      ]
    },
    {
      "cell_type": "markdown",
      "metadata": {
        "colab_type": "text",
        "id": "hbd3E0IuHwjz"
      },
      "source": [
        "**Mount your Google Drive**"
      ]
    },
    {
      "cell_type": "code",
      "metadata": {
        "colab_type": "code",
        "id": "Dikrw1ylHtAL",
        "colab": {
          "base_uri": "https://localhost:8080/",
          "height": 124
        },
        "outputId": "7efbe981-526f-4039-f055-22b22dc0e505"
      },
      "source": [
        "from google.colab import drive\n",
        "drive.mount('/content/drive/')"
      ],
      "execution_count": 2,
      "outputs": [
        {
          "output_type": "stream",
          "text": [
            "Go to this URL in a browser: https://accounts.google.com/o/oauth2/auth?client_id=947318989803-6bn6qk8qdgf4n4g3pfee6491hc0brc4i.apps.googleusercontent.com&redirect_uri=urn%3Aietf%3Awg%3Aoauth%3A2.0%3Aoob&scope=email%20https%3A%2F%2Fwww.googleapis.com%2Fauth%2Fdocs.test%20https%3A%2F%2Fwww.googleapis.com%2Fauth%2Fdrive%20https%3A%2F%2Fwww.googleapis.com%2Fauth%2Fdrive.photos.readonly%20https%3A%2F%2Fwww.googleapis.com%2Fauth%2Fpeopleapi.readonly&response_type=code\n",
            "\n",
            "Enter your authorization code:\n",
            "··········\n",
            "Mounted at /content/drive/\n"
          ],
          "name": "stdout"
        }
      ]
    },
    {
      "cell_type": "code",
      "metadata": {
        "colab_type": "code",
        "id": "8_uTQu4nIGzm",
        "colab": {}
      },
      "source": [
        ""
      ],
      "execution_count": 0,
      "outputs": []
    },
    {
      "cell_type": "markdown",
      "metadata": {
        "colab_type": "text",
        "id": "fnIX_mLXHdxS"
      },
      "source": [
        "### Import Keras and other libraries"
      ]
    },
    {
      "cell_type": "code",
      "metadata": {
        "colab_type": "code",
        "id": "0TmrQuvpHdxU",
        "colab": {
          "base_uri": "https://localhost:8080/",
          "height": 35
        },
        "outputId": "839a47a2-1187-4d59-8811-0ab0f48a682a"
      },
      "source": [
        "import glob\n",
        "\n",
        "from sklearn.utils import shuffle\n",
        "import numpy as np\n",
        "\n",
        "from keras.preprocessing.text import Tokenizer\n",
        "from keras.models import Sequential, load_model\n",
        "from keras.layers import LSTM, Dense, Dropout, Embedding, Masking, Bidirectional\n",
        "from keras.optimizers import Adam\n",
        "from keras import backend"
      ],
      "execution_count": 3,
      "outputs": [
        {
          "output_type": "stream",
          "text": [
            "Using TensorFlow backend.\n"
          ],
          "name": "stderr"
        }
      ]
    },
    {
      "cell_type": "markdown",
      "metadata": {
        "colab_type": "text",
        "id": "zKBXQflGlPjG"
      },
      "source": [
        "## Download data\n",
        "Reference: Data is collected from http://www.gutenberg.org\n",
        "\n",
        "For the lab purpose, you can load the dataset provided by Great Learning"
      ]
    },
    {
      "cell_type": "markdown",
      "metadata": {
        "colab_type": "text",
        "id": "s321mV4DHdxZ"
      },
      "source": [
        "### Load the Oscar Wilde dataset\n",
        "\n",
        "Store all the \".txt\" file names in a list"
      ]
    },
    {
      "cell_type": "code",
      "metadata": {
        "colab_type": "code",
        "id": "VUanlzNJHdxa",
        "colab": {}
      },
      "source": [
        "import os\n",
        "os.chdir('/content/drive/My Drive/AIML/data/gutenberg')"
      ],
      "execution_count": 0,
      "outputs": []
    },
    {
      "cell_type": "markdown",
      "metadata": {
        "colab_type": "text",
        "id": "glr4hv6uZkL-"
      },
      "source": [
        "### Read the data\n",
        "\n",
        "Read contents of every file from the list and append the text in a new list"
      ]
    },
    {
      "cell_type": "code",
      "metadata": {
        "colab_type": "code",
        "id": "zLrMMjrkRt9x",
        "colab": {
          "base_uri": "https://localhost:8080/",
          "height": 35
        },
        "outputId": "e69587c8-b034-4432-89a3-f68f22cf3cee"
      },
      "source": [
        "gutenlist = glob.glob(\"./data/*.txt\")\n",
        "print(len(gutenlist))"
      ],
      "execution_count": 5,
      "outputs": [
        {
          "output_type": "stream",
          "text": [
            "31\n"
          ],
          "name": "stdout"
        }
      ]
    },
    {
      "cell_type": "code",
      "metadata": {
        "id": "4PRkr1fRXRbt",
        "colab_type": "code",
        "colab": {}
      },
      "source": [
        "codetext = []\n",
        "bookranges = []\n",
        "for gutenfile in gutenlist:\n",
        "    gutentext = open(gutenfile, \"r\")\n",
        "    start = len(codetext)\n",
        "    codetext.append(gutentext.read())\n",
        "    end = len(codetext)\n",
        "    bookranges.append({\"start\": start, \"end\": end, \"name\": gutenfile.rsplit(\"/\", 1)[-1]})\n",
        "    gutentext.close()"
      ],
      "execution_count": 0,
      "outputs": []
    },
    {
      "cell_type": "markdown",
      "metadata": {
        "colab_type": "text",
        "id": "jMX-Fu-GHdxj"
      },
      "source": [
        "## Process the text\n",
        "Initialize and fit the tokenizer"
      ]
    },
    {
      "cell_type": "code",
      "metadata": {
        "colab_type": "code",
        "id": "zQf1AV8wHdxl",
        "colab": {}
      },
      "source": [
        "tokenizer = Tokenizer(lower=True, filters='!\"#$%&()*+,-./:;<=>?@[\\\\]^_`{|}~\\t\\n')\n",
        "tokenizer.fit_on_texts(codetext)"
      ],
      "execution_count": 0,
      "outputs": []
    },
    {
      "cell_type": "markdown",
      "metadata": {
        "colab_type": "text",
        "id": "vpZ0A2-xHdxp"
      },
      "source": [
        "### Vectorize the text\n",
        "\n",
        "Before training, we need to map strings to a numerical representation. Create two lookup tables: one mapping words to numbers, and another for numbers to words."
      ]
    },
    {
      "cell_type": "code",
      "metadata": {
        "colab_type": "code",
        "id": "_Nsq-rSPHdxq",
        "colab": {}
      },
      "source": [
        "word_idx = tokenizer.word_index\n",
        "idx_word = tokenizer.index_word"
      ],
      "execution_count": 0,
      "outputs": []
    },
    {
      "cell_type": "markdown",
      "metadata": {
        "colab_type": "text",
        "id": "YMYdjx4aHdxu"
      },
      "source": [
        "Get the word count for every word and also get the total number of words."
      ]
    },
    {
      "cell_type": "code",
      "metadata": {
        "colab_type": "code",
        "id": "ioEZ2c21Hdxw",
        "colab": {}
      },
      "source": [
        "word_counts = tokenizer.word_counts\n",
        "num_words = len(word_idx) + 1"
      ],
      "execution_count": 0,
      "outputs": []
    },
    {
      "cell_type": "markdown",
      "metadata": {
        "colab_type": "text",
        "id": "dWUBr9rHHdx0"
      },
      "source": [
        "Convert text to sequence of numbers"
      ]
    },
    {
      "cell_type": "code",
      "metadata": {
        "colab_type": "code",
        "id": "dwLl0BWKHdx2",
        "colab": {}
      },
      "source": [
        "sequences = tokenizer.texts_to_sequences(codetext)"
      ],
      "execution_count": 0,
      "outputs": []
    },
    {
      "cell_type": "markdown",
      "metadata": {
        "colab_type": "text",
        "id": "GkpK8McUHdx6"
      },
      "source": [
        "### Generate Features and Labels"
      ]
    },
    {
      "cell_type": "code",
      "metadata": {
        "colab_type": "code",
        "id": "zxhQamjwHdx7",
        "colab": {}
      },
      "source": [
        "features = []\n",
        "labels = []\n",
        "\n",
        "training_length = 50\n",
        "# Iterate through the sequences of tokens\n",
        "for seq in sequences:\n",
        "    # Create multiple training examples from each sequence\n",
        "    for i in range(training_length, training_length+300):\n",
        "        # Extract the features and label\n",
        "        extract = seq[i - training_length: i - training_length + 20]\n",
        "\n",
        "        # Set the features and label\n",
        "        features.append(extract[:-1])\n",
        "        labels.append(extract[-1])"
      ],
      "execution_count": 0,
      "outputs": []
    },
    {
      "cell_type": "markdown",
      "metadata": {
        "colab_type": "text",
        "id": "bbmsf23Bymwe"
      },
      "source": [
        "### The prediction task"
      ]
    },
    {
      "cell_type": "markdown",
      "metadata": {
        "colab_type": "text",
        "id": "wssHQ1oGymwe"
      },
      "source": [
        "Given a word, or a sequence of words, what is the most probable next word? This is the task we're training the model to perform. The input to the model will be a sequence of words, and we train the model to predict the output—the following word at each time step.\n",
        "\n",
        "Since RNNs maintain an internal state that depends on the previously seen elements, given all the words computed until this moment, what is the next word?"
      ]
    },
    {
      "cell_type": "markdown",
      "metadata": {
        "colab_type": "text",
        "id": "T2bsVOl7HdyA"
      },
      "source": [
        "### Generate training and testing data"
      ]
    },
    {
      "cell_type": "code",
      "metadata": {
        "colab_type": "code",
        "id": "j7-IsvynHdyB",
        "colab": {}
      },
      "source": [
        "from sklearn.utils import shuffle\n",
        "import numpy as np\n",
        "\n",
        "features, labels = shuffle(features, labels, random_state=1)\n",
        "\n",
        "# Decide on number of samples for training\n",
        "train_end = int(0.7 * len(labels))\n",
        "\n",
        "train_features = np.array(features[:train_end])\n",
        "valid_features = np.array(features[train_end:])\n",
        "\n",
        "train_labels = labels[:train_end]\n",
        "valid_labels = labels[train_end:]\n",
        "\n",
        "# Convert to arrays\n",
        "X_train, X_valid = np.array(train_features), np.array(valid_features)\n",
        "\n",
        "# Using int8 for memory savings\n",
        "y_train = np.zeros((len(train_labels), num_words), dtype=np.int8)\n",
        "y_valid = np.zeros((len(valid_labels), num_words), dtype=np.int8)\n",
        "\n",
        "# One hot encoding of labels\n",
        "for example_index, word_index in enumerate(train_labels):\n",
        "    y_train[example_index, word_index] = 1\n",
        "\n",
        "for example_index, word_index in enumerate(valid_labels):\n",
        "    y_valid[example_index, word_index] = 1"
      ],
      "execution_count": 0,
      "outputs": []
    },
    {
      "cell_type": "markdown",
      "metadata": {
        "colab_type": "text",
        "id": "juT1mZrUHdyE"
      },
      "source": [
        "This is just to check the features and labels"
      ]
    },
    {
      "cell_type": "code",
      "metadata": {
        "colab_type": "code",
        "id": "wkdmNbgjHdyF",
        "colab": {
          "base_uri": "https://localhost:8080/",
          "height": 156
        },
        "outputId": "c9c1177d-b88f-48a1-af27-2fe70ff3613f"
      },
      "source": [
        "for i, sequence in enumerate(X_train[:2]):\n",
        "    text = []\n",
        "#     print(i, sequence)\n",
        "    for idx in sequence:\n",
        "        text.append(idx_word[idx])\n",
        "        \n",
        "    print('Features: ' + ' '.join(text)+'\\n')\n",
        "    print('Label: ' + idx_word[np.argmax(y_train[i])] + '\\n')"
      ],
      "execution_count": 13,
      "outputs": [
        {
          "output_type": "stream",
          "text": [
            "Features: down on him making satirical remarks on the photographs suddenly there leaped out two figures 'poor poor ghost '\n",
            "\n",
            "Label: she\n",
            "\n",
            "Features: the online distributed proofreading team at http www pgdp net this file was produced from images generously made available\n",
            "\n",
            "Label: by\n",
            "\n"
          ],
          "name": "stdout"
        }
      ]
    },
    {
      "cell_type": "markdown",
      "metadata": {
        "colab_type": "text",
        "id": "r6oUuElIMgVx"
      },
      "source": [
        "## Build The Model"
      ]
    },
    {
      "cell_type": "markdown",
      "metadata": {
        "colab_type": "text",
        "id": "m8gPwEjRzf-Z"
      },
      "source": [
        "Use `keras.Sequential` to define the model. For this simple example three layers are used to define our model:\n",
        "\n",
        "* `keras.layers.Embedding`: The input layer. A trainable lookup table that will map the numbers of each character to a vector with `embedding_dim` dimensions;\n",
        "* `keras.layers.LSTM`: A type of RNN with size `units=rnn_units` (You can also use a GRU layer here.)\n",
        "* `keras.layers.Dense`: The output layer, with `num_words` outputs."
      ]
    },
    {
      "cell_type": "code",
      "metadata": {
        "colab_type": "code",
        "id": "GKpCQFZLHdyN",
        "colab": {
          "base_uri": "https://localhost:8080/",
          "height": 609
        },
        "outputId": "077ab0a3-8584-4d3c-a46e-b1b76f5d0778"
      },
      "source": [
        "model = Sequential()\n",
        "\n",
        "# Embedding layer\n",
        "model.add(\n",
        "    Embedding(\n",
        "        input_dim=len(word_idx) + 1,\n",
        "        output_dim=100,\n",
        "        weights=None,\n",
        "        trainable=True))\n",
        "\n",
        "# Recurrent layer\n",
        "model.add(\n",
        "    LSTM(\n",
        "        64, return_sequences=False, dropout=0.1,\n",
        "        recurrent_dropout=0.1))\n",
        "\n",
        "# Fully connected layer\n",
        "model.add(Dense(64, activation='relu'))\n",
        "\n",
        "# Dropout for regularization\n",
        "model.add(Dropout(0.5))\n",
        "\n",
        "# Output layer\n",
        "model.add(Dense(num_words, activation='softmax'))\n",
        "\n",
        "# Compile the model\n",
        "model.compile(\n",
        "    optimizer='adam', loss='categorical_crossentropy', metrics=['accuracy'])\n",
        "\n",
        "model.summary()"
      ],
      "execution_count": 14,
      "outputs": [
        {
          "output_type": "stream",
          "text": [
            "WARNING: Logging before flag parsing goes to stderr.\n",
            "W0725 04:42:40.514765 140207127459712 deprecation_wrapper.py:119] From /usr/local/lib/python3.6/dist-packages/keras/backend/tensorflow_backend.py:74: The name tf.get_default_graph is deprecated. Please use tf.compat.v1.get_default_graph instead.\n",
            "\n",
            "W0725 04:42:40.555991 140207127459712 deprecation_wrapper.py:119] From /usr/local/lib/python3.6/dist-packages/keras/backend/tensorflow_backend.py:517: The name tf.placeholder is deprecated. Please use tf.compat.v1.placeholder instead.\n",
            "\n",
            "W0725 04:42:40.562418 140207127459712 deprecation_wrapper.py:119] From /usr/local/lib/python3.6/dist-packages/keras/backend/tensorflow_backend.py:4138: The name tf.random_uniform is deprecated. Please use tf.random.uniform instead.\n",
            "\n",
            "W0725 04:42:40.661718 140207127459712 deprecation_wrapper.py:119] From /usr/local/lib/python3.6/dist-packages/keras/backend/tensorflow_backend.py:133: The name tf.placeholder_with_default is deprecated. Please use tf.compat.v1.placeholder_with_default instead.\n",
            "\n",
            "W0725 04:42:40.670346 140207127459712 deprecation.py:506] From /usr/local/lib/python3.6/dist-packages/keras/backend/tensorflow_backend.py:3445: calling dropout (from tensorflow.python.ops.nn_ops) with keep_prob is deprecated and will be removed in a future version.\n",
            "Instructions for updating:\n",
            "Please use `rate` instead of `keep_prob`. Rate should be set to `rate = 1 - keep_prob`.\n",
            "W0725 04:42:41.048521 140207127459712 deprecation_wrapper.py:119] From /usr/local/lib/python3.6/dist-packages/keras/optimizers.py:790: The name tf.train.Optimizer is deprecated. Please use tf.compat.v1.train.Optimizer instead.\n",
            "\n",
            "W0725 04:42:41.068922 140207127459712 deprecation_wrapper.py:119] From /usr/local/lib/python3.6/dist-packages/keras/backend/tensorflow_backend.py:3295: The name tf.log is deprecated. Please use tf.math.log instead.\n",
            "\n"
          ],
          "name": "stderr"
        },
        {
          "output_type": "stream",
          "text": [
            "_________________________________________________________________\n",
            "Layer (type)                 Output Shape              Param #   \n",
            "=================================================================\n",
            "embedding_1 (Embedding)      (None, None, 100)         3283900   \n",
            "_________________________________________________________________\n",
            "lstm_1 (LSTM)                (None, 64)                42240     \n",
            "_________________________________________________________________\n",
            "dense_1 (Dense)              (None, 64)                4160      \n",
            "_________________________________________________________________\n",
            "dropout_1 (Dropout)          (None, 64)                0         \n",
            "_________________________________________________________________\n",
            "dense_2 (Dense)              (None, 32839)             2134535   \n",
            "=================================================================\n",
            "Total params: 5,464,835\n",
            "Trainable params: 5,464,835\n",
            "Non-trainable params: 0\n",
            "_________________________________________________________________\n"
          ],
          "name": "stdout"
        }
      ]
    },
    {
      "cell_type": "markdown",
      "metadata": {
        "colab_type": "text",
        "id": "vL3tUp1UHdyS"
      },
      "source": [
        "For each word the model looks up the embedding, runs the LSTM one timestep with the embedding as input, and applies the dense layer to generate logits predicting the log-liklihood of the next word."
      ]
    },
    {
      "cell_type": "markdown",
      "metadata": {
        "colab_type": "text",
        "id": "LJL0Q0YPY6Ee"
      },
      "source": [
        "## Train the model"
      ]
    },
    {
      "cell_type": "code",
      "metadata": {
        "colab_type": "code",
        "id": "6o84puBcHdyV",
        "colab": {
          "base_uri": "https://localhost:8080/",
          "height": 1000
        },
        "outputId": "0f05d801-3fc8-4328-c5d3-08e20994f408"
      },
      "source": [
        "h = model.fit(X_train, y_train, epochs = 100, batch_size = 50, \n",
        "          verbose = 1)## Train the model"
      ],
      "execution_count": 16,
      "outputs": [
        {
          "output_type": "stream",
          "text": [
            "Epoch 1/100\n",
            "6510/6510 [==============================] - 5s 745us/step - loss: 6.4729 - acc: 0.0648\n",
            "Epoch 2/100\n",
            "6510/6510 [==============================] - 5s 747us/step - loss: 6.2910 - acc: 0.0639\n",
            "Epoch 3/100\n",
            "6510/6510 [==============================] - 5s 741us/step - loss: 6.1586 - acc: 0.0657\n",
            "Epoch 4/100\n",
            "6510/6510 [==============================] - 5s 751us/step - loss: 6.0342 - acc: 0.0710\n",
            "Epoch 5/100\n",
            "6510/6510 [==============================] - 5s 743us/step - loss: 5.9066 - acc: 0.0697\n",
            "Epoch 6/100\n",
            "6510/6510 [==============================] - 5s 739us/step - loss: 5.7889 - acc: 0.0791\n",
            "Epoch 7/100\n",
            "6510/6510 [==============================] - 5s 736us/step - loss: 5.6845 - acc: 0.0820\n",
            "Epoch 8/100\n",
            "6510/6510 [==============================] - 5s 737us/step - loss: 5.5859 - acc: 0.0828\n",
            "Epoch 9/100\n",
            "6510/6510 [==============================] - 5s 736us/step - loss: 5.4776 - acc: 0.0894\n",
            "Epoch 10/100\n",
            "6510/6510 [==============================] - 5s 735us/step - loss: 5.3669 - acc: 0.0945\n",
            "Epoch 11/100\n",
            "6510/6510 [==============================] - 5s 740us/step - loss: 5.2185 - acc: 0.1075\n",
            "Epoch 12/100\n",
            "6510/6510 [==============================] - 5s 738us/step - loss: 5.0861 - acc: 0.1214\n",
            "Epoch 13/100\n",
            "6510/6510 [==============================] - 5s 738us/step - loss: 4.9344 - acc: 0.1435\n",
            "Epoch 14/100\n",
            "6510/6510 [==============================] - 5s 735us/step - loss: 4.7791 - acc: 0.1634\n",
            "Epoch 15/100\n",
            "6510/6510 [==============================] - 5s 738us/step - loss: 4.6593 - acc: 0.1756\n",
            "Epoch 16/100\n",
            "6510/6510 [==============================] - 5s 730us/step - loss: 4.5314 - acc: 0.1940\n",
            "Epoch 17/100\n",
            "6510/6510 [==============================] - 5s 742us/step - loss: 4.4019 - acc: 0.2100\n",
            "Epoch 18/100\n",
            "6510/6510 [==============================] - 5s 734us/step - loss: 4.2985 - acc: 0.2220\n",
            "Epoch 19/100\n",
            "6510/6510 [==============================] - 5s 740us/step - loss: 4.1854 - acc: 0.2398\n",
            "Epoch 20/100\n",
            "6510/6510 [==============================] - 5s 737us/step - loss: 4.0916 - acc: 0.2481\n",
            "Epoch 21/100\n",
            "6510/6510 [==============================] - 5s 745us/step - loss: 3.9740 - acc: 0.2607\n",
            "Epoch 22/100\n",
            "6510/6510 [==============================] - 5s 745us/step - loss: 3.8759 - acc: 0.2776\n",
            "Epoch 23/100\n",
            "6510/6510 [==============================] - 5s 740us/step - loss: 3.7918 - acc: 0.2902\n",
            "Epoch 24/100\n",
            "6510/6510 [==============================] - 5s 745us/step - loss: 3.7030 - acc: 0.3035\n",
            "Epoch 25/100\n",
            "6510/6510 [==============================] - 5s 741us/step - loss: 3.6167 - acc: 0.3114\n",
            "Epoch 26/100\n",
            "6510/6510 [==============================] - 5s 746us/step - loss: 3.5455 - acc: 0.3207\n",
            "Epoch 27/100\n",
            "6510/6510 [==============================] - 5s 747us/step - loss: 3.4601 - acc: 0.3363\n",
            "Epoch 28/100\n",
            "6510/6510 [==============================] - 5s 742us/step - loss: 3.4207 - acc: 0.3421\n",
            "Epoch 29/100\n",
            "6510/6510 [==============================] - 5s 743us/step - loss: 3.3275 - acc: 0.3521\n",
            "Epoch 30/100\n",
            "6510/6510 [==============================] - 5s 743us/step - loss: 3.2771 - acc: 0.3616\n",
            "Epoch 31/100\n",
            "6510/6510 [==============================] - 5s 744us/step - loss: 3.2009 - acc: 0.3728\n",
            "Epoch 32/100\n",
            "6510/6510 [==============================] - 5s 742us/step - loss: 3.1389 - acc: 0.3763\n",
            "Epoch 33/100\n",
            "6510/6510 [==============================] - 5s 744us/step - loss: 3.0938 - acc: 0.3786\n",
            "Epoch 34/100\n",
            "6510/6510 [==============================] - 5s 754us/step - loss: 3.0178 - acc: 0.3874\n",
            "Epoch 35/100\n",
            "6510/6510 [==============================] - 5s 743us/step - loss: 2.9477 - acc: 0.3988\n",
            "Epoch 36/100\n",
            "6510/6510 [==============================] - 5s 736us/step - loss: 2.8822 - acc: 0.4115\n",
            "Epoch 37/100\n",
            "6510/6510 [==============================] - 5s 745us/step - loss: 2.8378 - acc: 0.4098\n",
            "Epoch 38/100\n",
            "6510/6510 [==============================] - 5s 751us/step - loss: 2.7954 - acc: 0.4203\n",
            "Epoch 39/100\n",
            "6510/6510 [==============================] - 5s 747us/step - loss: 2.7364 - acc: 0.4253\n",
            "Epoch 40/100\n",
            "6510/6510 [==============================] - 5s 736us/step - loss: 2.6742 - acc: 0.4343\n",
            "Epoch 41/100\n",
            "6510/6510 [==============================] - 5s 737us/step - loss: 2.6453 - acc: 0.4338\n",
            "Epoch 42/100\n",
            "6510/6510 [==============================] - 5s 734us/step - loss: 2.5880 - acc: 0.4399\n",
            "Epoch 43/100\n",
            "6510/6510 [==============================] - 5s 757us/step - loss: 2.5244 - acc: 0.4515\n",
            "Epoch 44/100\n",
            "6510/6510 [==============================] - 5s 761us/step - loss: 2.4767 - acc: 0.4525\n",
            "Epoch 45/100\n",
            "6510/6510 [==============================] - 5s 775us/step - loss: 2.4433 - acc: 0.4545\n",
            "Epoch 46/100\n",
            "6510/6510 [==============================] - 5s 736us/step - loss: 2.3889 - acc: 0.4657\n",
            "Epoch 47/100\n",
            "6510/6510 [==============================] - 5s 739us/step - loss: 2.3546 - acc: 0.4679\n",
            "Epoch 48/100\n",
            "6510/6510 [==============================] - 5s 748us/step - loss: 2.3153 - acc: 0.4747\n",
            "Epoch 49/100\n",
            "6510/6510 [==============================] - 5s 743us/step - loss: 2.2619 - acc: 0.4837\n",
            "Epoch 50/100\n",
            "6510/6510 [==============================] - 5s 746us/step - loss: 2.2303 - acc: 0.4874\n",
            "Epoch 51/100\n",
            "6510/6510 [==============================] - 5s 740us/step - loss: 2.1776 - acc: 0.5000\n",
            "Epoch 52/100\n",
            "6510/6510 [==============================] - 5s 744us/step - loss: 2.1048 - acc: 0.5046\n",
            "Epoch 53/100\n",
            "6510/6510 [==============================] - 5s 741us/step - loss: 2.1019 - acc: 0.5086\n",
            "Epoch 54/100\n",
            "6510/6510 [==============================] - 5s 750us/step - loss: 2.0640 - acc: 0.5155\n",
            "Epoch 55/100\n",
            "6510/6510 [==============================] - 5s 741us/step - loss: 2.0291 - acc: 0.5135\n",
            "Epoch 56/100\n",
            "6510/6510 [==============================] - 5s 728us/step - loss: 1.9931 - acc: 0.5267\n",
            "Epoch 57/100\n",
            "6510/6510 [==============================] - 5s 733us/step - loss: 1.9616 - acc: 0.5287\n",
            "Epoch 58/100\n",
            "6510/6510 [==============================] - 5s 737us/step - loss: 1.9217 - acc: 0.5318\n",
            "Epoch 59/100\n",
            "6510/6510 [==============================] - 5s 736us/step - loss: 1.8869 - acc: 0.5425\n",
            "Epoch 60/100\n",
            "6510/6510 [==============================] - 5s 735us/step - loss: 1.8468 - acc: 0.5464\n",
            "Epoch 61/100\n",
            "6510/6510 [==============================] - 5s 742us/step - loss: 1.8202 - acc: 0.5545\n",
            "Epoch 62/100\n",
            "6510/6510 [==============================] - 5s 736us/step - loss: 1.7861 - acc: 0.5607\n",
            "Epoch 63/100\n",
            "6510/6510 [==============================] - 5s 743us/step - loss: 1.7787 - acc: 0.5604\n",
            "Epoch 64/100\n",
            "6510/6510 [==============================] - 5s 734us/step - loss: 1.7650 - acc: 0.5625\n",
            "Epoch 65/100\n",
            "6510/6510 [==============================] - 5s 740us/step - loss: 1.7208 - acc: 0.5705\n",
            "Epoch 66/100\n",
            "6510/6510 [==============================] - 5s 739us/step - loss: 1.6995 - acc: 0.5697\n",
            "Epoch 67/100\n",
            "6510/6510 [==============================] - 5s 740us/step - loss: 1.6816 - acc: 0.5760\n",
            "Epoch 68/100\n",
            "6510/6510 [==============================] - 5s 743us/step - loss: 1.6290 - acc: 0.5860\n",
            "Epoch 69/100\n",
            "6510/6510 [==============================] - 5s 738us/step - loss: 1.6412 - acc: 0.5803\n",
            "Epoch 70/100\n",
            "6510/6510 [==============================] - 5s 750us/step - loss: 1.5847 - acc: 0.5949\n",
            "Epoch 71/100\n",
            "6510/6510 [==============================] - 5s 748us/step - loss: 1.5533 - acc: 0.5969\n",
            "Epoch 72/100\n",
            "6510/6510 [==============================] - 5s 745us/step - loss: 1.5521 - acc: 0.5982\n",
            "Epoch 73/100\n",
            "6510/6510 [==============================] - 5s 736us/step - loss: 1.5286 - acc: 0.6052\n",
            "Epoch 74/100\n",
            "6510/6510 [==============================] - 5s 742us/step - loss: 1.4743 - acc: 0.6149\n",
            "Epoch 75/100\n",
            "6510/6510 [==============================] - 5s 735us/step - loss: 1.4821 - acc: 0.6155\n",
            "Epoch 76/100\n",
            "6510/6510 [==============================] - 5s 742us/step - loss: 1.4856 - acc: 0.6135\n",
            "Epoch 77/100\n",
            "6510/6510 [==============================] - 5s 743us/step - loss: 1.4634 - acc: 0.6190\n",
            "Epoch 78/100\n",
            "6510/6510 [==============================] - 5s 742us/step - loss: 1.4809 - acc: 0.6149\n",
            "Epoch 79/100\n",
            "6510/6510 [==============================] - 5s 743us/step - loss: 1.4244 - acc: 0.6243\n",
            "Epoch 80/100\n",
            "6510/6510 [==============================] - 5s 735us/step - loss: 1.4016 - acc: 0.6304\n",
            "Epoch 81/100\n",
            "6510/6510 [==============================] - 5s 739us/step - loss: 1.3741 - acc: 0.6347\n",
            "Epoch 82/100\n",
            "6510/6510 [==============================] - 5s 739us/step - loss: 1.3672 - acc: 0.6379\n",
            "Epoch 83/100\n",
            "6510/6510 [==============================] - 5s 739us/step - loss: 1.3758 - acc: 0.6313\n",
            "Epoch 84/100\n",
            "6510/6510 [==============================] - 5s 733us/step - loss: 1.3418 - acc: 0.6399\n",
            "Epoch 85/100\n",
            "6510/6510 [==============================] - 5s 740us/step - loss: 1.2951 - acc: 0.6518\n",
            "Epoch 86/100\n",
            "6510/6510 [==============================] - 5s 736us/step - loss: 1.2987 - acc: 0.6492\n",
            "Epoch 87/100\n",
            "6510/6510 [==============================] - 5s 743us/step - loss: 1.2852 - acc: 0.6482\n",
            "Epoch 88/100\n",
            "6510/6510 [==============================] - 5s 742us/step - loss: 1.2823 - acc: 0.6538\n",
            "Epoch 89/100\n",
            "6510/6510 [==============================] - 5s 739us/step - loss: 1.2457 - acc: 0.6594\n",
            "Epoch 90/100\n",
            "6510/6510 [==============================] - 5s 735us/step - loss: 1.2420 - acc: 0.6633\n",
            "Epoch 91/100\n",
            "6510/6510 [==============================] - 5s 737us/step - loss: 1.2365 - acc: 0.6664\n",
            "Epoch 92/100\n",
            "6510/6510 [==============================] - 5s 740us/step - loss: 1.2267 - acc: 0.6631\n",
            "Epoch 93/100\n",
            "6510/6510 [==============================] - 5s 736us/step - loss: 1.1978 - acc: 0.6793\n",
            "Epoch 94/100\n",
            "6510/6510 [==============================] - 5s 739us/step - loss: 1.1991 - acc: 0.6687\n",
            "Epoch 95/100\n",
            "6510/6510 [==============================] - 5s 742us/step - loss: 1.1972 - acc: 0.6714\n",
            "Epoch 96/100\n",
            "6510/6510 [==============================] - 5s 738us/step - loss: 1.1608 - acc: 0.6831\n",
            "Epoch 97/100\n",
            "6510/6510 [==============================] - 5s 748us/step - loss: 1.1810 - acc: 0.6730\n",
            "Epoch 98/100\n",
            "6510/6510 [==============================] - 5s 743us/step - loss: 1.1475 - acc: 0.6833\n",
            "Epoch 99/100\n",
            "6510/6510 [==============================] - 5s 731us/step - loss: 1.1418 - acc: 0.6796\n",
            "Epoch 100/100\n",
            "6510/6510 [==============================] - 5s 731us/step - loss: 1.0929 - acc: 0.6940\n"
          ],
          "name": "stdout"
        }
      ]
    },
    {
      "cell_type": "markdown",
      "metadata": {
        "colab_type": "text",
        "id": "82716QWAJrXG"
      },
      "source": [
        "### Save Model"
      ]
    },
    {
      "cell_type": "code",
      "metadata": {
        "colab_type": "code",
        "id": "_8MFkQgYJm-D",
        "colab": {}
      },
      "source": [
        "model.save('./data/gutenmodel_100epochs.h5')"
      ],
      "execution_count": 0,
      "outputs": []
    },
    {
      "cell_type": "code",
      "metadata": {
        "id": "htyQ4G0_ePmo",
        "colab_type": "code",
        "colab": {
          "base_uri": "https://localhost:8080/",
          "height": 35
        },
        "outputId": "67f02ab3-e936-461a-f932-9ba94bb660e1"
      },
      "source": [
        "pwd"
      ],
      "execution_count": 18,
      "outputs": [
        {
          "output_type": "execute_result",
          "data": {
            "text/plain": [
              "'/content/drive/My Drive/AIML/data/gutenberg'"
            ]
          },
          "metadata": {
            "tags": []
          },
          "execution_count": 18
        }
      ]
    },
    {
      "cell_type": "markdown",
      "metadata": {
        "colab_type": "text",
        "id": "4AYVKydVJv5C"
      },
      "source": [
        "## If you have already trained the model and saved it, you can load a pretrained model"
      ]
    },
    {
      "cell_type": "code",
      "metadata": {
        "colab_type": "code",
        "id": "IqsQUz04J0GP",
        "colab": {}
      },
      "source": [
        "model = load_model('./data/gutenmodel_100epochs.h5')"
      ],
      "execution_count": 0,
      "outputs": []
    },
    {
      "cell_type": "markdown",
      "metadata": {
        "colab_type": "text",
        "id": "ZFe2Y0SJJ3Hb"
      },
      "source": [
        "### Note: After loading the model run  model.fit()  to continue training form there, if required."
      ]
    },
    {
      "cell_type": "markdown",
      "metadata": {
        "id": "sctFcA_IedF9",
        "colab_type": "text"
      },
      "source": [
        "### Fit the Model and train for another 100 epochs from the loaded model"
      ]
    },
    {
      "cell_type": "code",
      "metadata": {
        "colab_type": "code",
        "id": "e9yLm_xnJ5JV",
        "colab": {
          "base_uri": "https://localhost:8080/",
          "height": 1000
        },
        "outputId": "09f1ac55-b774-4266-b23f-21d2efeda8d3"
      },
      "source": [
        "model.fit(X_train, y_train, batch_size=50, epochs=100)"
      ],
      "execution_count": 19,
      "outputs": [
        {
          "output_type": "stream",
          "text": [
            "Epoch 1/100\n",
            "6510/6510 [==============================] - 5s 743us/step - loss: 1.0930 - acc: 0.7008\n",
            "Epoch 2/100\n",
            "6510/6510 [==============================] - 5s 735us/step - loss: 1.0853 - acc: 0.6914\n",
            "Epoch 3/100\n",
            "6510/6510 [==============================] - 5s 733us/step - loss: 1.1020 - acc: 0.6908\n",
            "Epoch 4/100\n",
            "6510/6510 [==============================] - 5s 736us/step - loss: 1.0916 - acc: 0.6935\n",
            "Epoch 5/100\n",
            "6510/6510 [==============================] - 5s 732us/step - loss: 1.0765 - acc: 0.6955\n",
            "Epoch 6/100\n",
            "6510/6510 [==============================] - 5s 737us/step - loss: 1.0681 - acc: 0.6994\n",
            "Epoch 7/100\n",
            "6510/6510 [==============================] - 5s 737us/step - loss: 1.0491 - acc: 0.7038\n",
            "Epoch 8/100\n",
            "6510/6510 [==============================] - 5s 751us/step - loss: 1.0331 - acc: 0.7057\n",
            "Epoch 9/100\n",
            "6510/6510 [==============================] - 5s 744us/step - loss: 1.0200 - acc: 0.7072\n",
            "Epoch 10/100\n",
            "6510/6510 [==============================] - 5s 740us/step - loss: 1.0405 - acc: 0.7054\n",
            "Epoch 11/100\n",
            "6510/6510 [==============================] - 5s 740us/step - loss: 1.0005 - acc: 0.7152\n",
            "Epoch 12/100\n",
            "6510/6510 [==============================] - 5s 737us/step - loss: 0.9940 - acc: 0.7183\n",
            "Epoch 13/100\n",
            "6510/6510 [==============================] - 5s 740us/step - loss: 1.0027 - acc: 0.7144\n",
            "Epoch 14/100\n",
            "6510/6510 [==============================] - 5s 737us/step - loss: 0.9779 - acc: 0.7207\n",
            "Epoch 15/100\n",
            "6510/6510 [==============================] - 5s 741us/step - loss: 0.9814 - acc: 0.7220\n",
            "Epoch 16/100\n",
            "6510/6510 [==============================] - 5s 733us/step - loss: 0.9491 - acc: 0.7323\n",
            "Epoch 17/100\n",
            "6510/6510 [==============================] - 5s 735us/step - loss: 0.9631 - acc: 0.7261\n",
            "Epoch 18/100\n",
            "6510/6510 [==============================] - 5s 734us/step - loss: 0.9821 - acc: 0.7207\n",
            "Epoch 19/100\n",
            "6510/6510 [==============================] - 5s 736us/step - loss: 0.9419 - acc: 0.7321\n",
            "Epoch 20/100\n",
            "6510/6510 [==============================] - 5s 734us/step - loss: 0.9307 - acc: 0.7349\n",
            "Epoch 21/100\n",
            "6510/6510 [==============================] - 5s 739us/step - loss: 0.9290 - acc: 0.7350\n",
            "Epoch 22/100\n",
            "6510/6510 [==============================] - 5s 740us/step - loss: 0.9208 - acc: 0.7339\n",
            "Epoch 23/100\n",
            "6510/6510 [==============================] - 5s 736us/step - loss: 0.9324 - acc: 0.7333\n",
            "Epoch 24/100\n",
            "6510/6510 [==============================] - 5s 745us/step - loss: 0.9265 - acc: 0.7304\n",
            "Epoch 25/100\n",
            "6510/6510 [==============================] - 5s 739us/step - loss: 0.9346 - acc: 0.7318\n",
            "Epoch 26/100\n",
            "6510/6510 [==============================] - 5s 742us/step - loss: 0.8933 - acc: 0.7464\n",
            "Epoch 27/100\n",
            "6510/6510 [==============================] - 5s 733us/step - loss: 0.8828 - acc: 0.7433\n",
            "Epoch 28/100\n",
            "6510/6510 [==============================] - 5s 741us/step - loss: 0.8905 - acc: 0.7492\n",
            "Epoch 29/100\n",
            "6510/6510 [==============================] - 5s 734us/step - loss: 0.8760 - acc: 0.7488\n",
            "Epoch 30/100\n",
            "6510/6510 [==============================] - 5s 737us/step - loss: 0.8855 - acc: 0.7462\n",
            "Epoch 31/100\n",
            "6510/6510 [==============================] - 5s 744us/step - loss: 0.8862 - acc: 0.7425\n",
            "Epoch 32/100\n",
            "6510/6510 [==============================] - 5s 745us/step - loss: 0.8823 - acc: 0.7421\n",
            "Epoch 33/100\n",
            "6510/6510 [==============================] - 5s 734us/step - loss: 0.8367 - acc: 0.7570\n",
            "Epoch 34/100\n",
            "6510/6510 [==============================] - 5s 741us/step - loss: 0.8358 - acc: 0.7542\n",
            "Epoch 35/100\n",
            "6510/6510 [==============================] - 5s 735us/step - loss: 0.8399 - acc: 0.7607\n",
            "Epoch 36/100\n",
            "6510/6510 [==============================] - 5s 741us/step - loss: 0.8481 - acc: 0.7538\n",
            "Epoch 37/100\n",
            "6510/6510 [==============================] - 5s 743us/step - loss: 0.8409 - acc: 0.7561\n",
            "Epoch 38/100\n",
            "6510/6510 [==============================] - 5s 739us/step - loss: 0.8181 - acc: 0.7621\n",
            "Epoch 39/100\n",
            "6510/6510 [==============================] - 5s 740us/step - loss: 0.8369 - acc: 0.7608\n",
            "Epoch 40/100\n",
            "6510/6510 [==============================] - 5s 737us/step - loss: 0.8228 - acc: 0.7585\n",
            "Epoch 41/100\n",
            "6510/6510 [==============================] - 5s 743us/step - loss: 0.8259 - acc: 0.7650\n",
            "Epoch 42/100\n",
            "6510/6510 [==============================] - 5s 741us/step - loss: 0.8240 - acc: 0.7587\n",
            "Epoch 43/100\n",
            "6510/6510 [==============================] - 5s 763us/step - loss: 0.8001 - acc: 0.7602\n",
            "Epoch 44/100\n",
            "6510/6510 [==============================] - 5s 763us/step - loss: 0.7914 - acc: 0.7739\n",
            "Epoch 45/100\n",
            "6510/6510 [==============================] - 5s 745us/step - loss: 0.8065 - acc: 0.7676\n",
            "Epoch 46/100\n",
            "6510/6510 [==============================] - 5s 734us/step - loss: 0.8066 - acc: 0.7664\n",
            "Epoch 47/100\n",
            "6510/6510 [==============================] - 5s 736us/step - loss: 0.7917 - acc: 0.7697\n",
            "Epoch 48/100\n",
            "6510/6510 [==============================] - 5s 740us/step - loss: 0.7854 - acc: 0.7710\n",
            "Epoch 49/100\n",
            "6510/6510 [==============================] - 5s 741us/step - loss: 0.7614 - acc: 0.7719\n",
            "Epoch 50/100\n",
            "6510/6510 [==============================] - 5s 737us/step - loss: 0.7682 - acc: 0.7716\n",
            "Epoch 51/100\n",
            "6510/6510 [==============================] - 5s 741us/step - loss: 0.7605 - acc: 0.7745\n",
            "Epoch 52/100\n",
            "6510/6510 [==============================] - 5s 735us/step - loss: 0.7789 - acc: 0.7694\n",
            "Epoch 53/100\n",
            "6510/6510 [==============================] - 5s 733us/step - loss: 0.7626 - acc: 0.7691\n",
            "Epoch 54/100\n",
            "6510/6510 [==============================] - 5s 737us/step - loss: 0.7773 - acc: 0.7699\n",
            "Epoch 55/100\n",
            "6510/6510 [==============================] - 5s 739us/step - loss: 0.7443 - acc: 0.7810\n",
            "Epoch 56/100\n",
            "6510/6510 [==============================] - 5s 739us/step - loss: 0.7332 - acc: 0.7811\n",
            "Epoch 57/100\n",
            "6510/6510 [==============================] - 5s 735us/step - loss: 0.7603 - acc: 0.7760\n",
            "Epoch 58/100\n",
            "6510/6510 [==============================] - 5s 744us/step - loss: 0.7508 - acc: 0.7773\n",
            "Epoch 59/100\n",
            "6510/6510 [==============================] - 5s 750us/step - loss: 0.7262 - acc: 0.7851\n",
            "Epoch 60/100\n",
            "6510/6510 [==============================] - 5s 736us/step - loss: 0.7381 - acc: 0.7771\n",
            "Epoch 61/100\n",
            "6510/6510 [==============================] - 5s 738us/step - loss: 0.7431 - acc: 0.7797\n",
            "Epoch 62/100\n",
            "6510/6510 [==============================] - 5s 737us/step - loss: 0.7377 - acc: 0.7808\n",
            "Epoch 63/100\n",
            "6510/6510 [==============================] - 5s 735us/step - loss: 0.7367 - acc: 0.7791\n",
            "Epoch 64/100\n",
            "6510/6510 [==============================] - 5s 733us/step - loss: 0.7228 - acc: 0.7800\n",
            "Epoch 65/100\n",
            "6510/6510 [==============================] - 5s 737us/step - loss: 0.7223 - acc: 0.7816\n",
            "Epoch 66/100\n",
            "6510/6510 [==============================] - 5s 733us/step - loss: 0.6862 - acc: 0.7906\n",
            "Epoch 67/100\n",
            "6510/6510 [==============================] - 5s 739us/step - loss: 0.7176 - acc: 0.7874\n",
            "Epoch 68/100\n",
            "6510/6510 [==============================] - 5s 736us/step - loss: 0.6919 - acc: 0.7955\n",
            "Epoch 69/100\n",
            "6510/6510 [==============================] - 5s 736us/step - loss: 0.6954 - acc: 0.7945\n",
            "Epoch 70/100\n",
            "6510/6510 [==============================] - 5s 741us/step - loss: 0.6880 - acc: 0.7905\n",
            "Epoch 71/100\n",
            "6510/6510 [==============================] - 5s 740us/step - loss: 0.6933 - acc: 0.7906\n",
            "Epoch 72/100\n",
            "6510/6510 [==============================] - 5s 750us/step - loss: 0.7102 - acc: 0.7894\n",
            "Epoch 73/100\n",
            "6510/6510 [==============================] - 5s 740us/step - loss: 0.6812 - acc: 0.7982\n",
            "Epoch 74/100\n",
            "6510/6510 [==============================] - 5s 743us/step - loss: 0.6707 - acc: 0.8015\n",
            "Epoch 75/100\n",
            "6510/6510 [==============================] - 5s 744us/step - loss: 0.6760 - acc: 0.7928\n",
            "Epoch 76/100\n",
            "6510/6510 [==============================] - 5s 749us/step - loss: 0.6749 - acc: 0.7909\n",
            "Epoch 77/100\n",
            "6510/6510 [==============================] - 5s 733us/step - loss: 0.6843 - acc: 0.7980\n",
            "Epoch 78/100\n",
            "6510/6510 [==============================] - 5s 742us/step - loss: 0.6822 - acc: 0.7962\n",
            "Epoch 79/100\n",
            "6510/6510 [==============================] - 5s 739us/step - loss: 0.6672 - acc: 0.7989\n",
            "Epoch 80/100\n",
            "6510/6510 [==============================] - 5s 736us/step - loss: 0.6602 - acc: 0.8011\n",
            "Epoch 81/100\n",
            "6510/6510 [==============================] - 5s 738us/step - loss: 0.6629 - acc: 0.8023\n",
            "Epoch 82/100\n",
            "6510/6510 [==============================] - 5s 737us/step - loss: 0.6358 - acc: 0.8065\n",
            "Epoch 83/100\n",
            "6510/6510 [==============================] - 5s 739us/step - loss: 0.6654 - acc: 0.7988\n",
            "Epoch 84/100\n",
            "6510/6510 [==============================] - 5s 737us/step - loss: 0.6510 - acc: 0.8020\n",
            "Epoch 85/100\n",
            "6510/6510 [==============================] - 5s 741us/step - loss: 0.6543 - acc: 0.8020\n",
            "Epoch 86/100\n",
            "6510/6510 [==============================] - 5s 746us/step - loss: 0.6357 - acc: 0.8045\n",
            "Epoch 87/100\n",
            "6510/6510 [==============================] - 5s 742us/step - loss: 0.6379 - acc: 0.8120\n",
            "Epoch 88/100\n",
            "6510/6510 [==============================] - 5s 739us/step - loss: 0.6370 - acc: 0.8071\n",
            "Epoch 89/100\n",
            "6510/6510 [==============================] - 5s 742us/step - loss: 0.6373 - acc: 0.8124\n",
            "Epoch 90/100\n",
            "6510/6510 [==============================] - 5s 740us/step - loss: 0.6384 - acc: 0.8101\n",
            "Epoch 91/100\n",
            "6510/6510 [==============================] - 5s 745us/step - loss: 0.6529 - acc: 0.8049\n",
            "Epoch 92/100\n",
            "6510/6510 [==============================] - 5s 743us/step - loss: 0.6247 - acc: 0.8138\n",
            "Epoch 93/100\n",
            "6510/6510 [==============================] - 5s 741us/step - loss: 0.6402 - acc: 0.8028\n",
            "Epoch 94/100\n",
            "6510/6510 [==============================] - 5s 743us/step - loss: 0.6238 - acc: 0.8095\n",
            "Epoch 95/100\n",
            "6510/6510 [==============================] - 5s 747us/step - loss: 0.6423 - acc: 0.8108\n",
            "Epoch 96/100\n",
            "6510/6510 [==============================] - 5s 739us/step - loss: 0.6242 - acc: 0.8144\n",
            "Epoch 97/100\n",
            "6510/6510 [==============================] - 5s 730us/step - loss: 0.6290 - acc: 0.8144\n",
            "Epoch 98/100\n",
            "6510/6510 [==============================] - 5s 737us/step - loss: 0.6211 - acc: 0.8104\n",
            "Epoch 99/100\n",
            "6510/6510 [==============================] - 5s 737us/step - loss: 0.6210 - acc: 0.8097\n",
            "Epoch 100/100\n",
            "6510/6510 [==============================] - 5s 734us/step - loss: 0.6373 - acc: 0.8140\n"
          ],
          "name": "stdout"
        },
        {
          "output_type": "execute_result",
          "data": {
            "text/plain": [
              "<keras.callbacks.History at 0x7f8436f0e9b0>"
            ]
          },
          "metadata": {
            "tags": []
          },
          "execution_count": 19
        }
      ]
    },
    {
      "cell_type": "markdown",
      "metadata": {
        "colab_type": "text",
        "id": "EmkaxXdjHdyd"
      },
      "source": [
        "## Evaluation"
      ]
    },
    {
      "cell_type": "code",
      "metadata": {
        "colab_type": "code",
        "id": "7RraFX9YHdye",
        "colab": {
          "base_uri": "https://localhost:8080/",
          "height": 121
        },
        "outputId": "342bfd17-61ac-473c-cb7c-1849f8d2bda0"
      },
      "source": [
        "print(model.evaluate(X_train, y_train, batch_size = 20))\n",
        "print('\\nModel Performance: Log Loss and Accuracy on validation data')\n",
        "print(model.evaluate(X_valid, y_valid, batch_size = 20))"
      ],
      "execution_count": 20,
      "outputs": [
        {
          "output_type": "stream",
          "text": [
            "6510/6510 [==============================] - 4s 575us/step\n",
            "[0.0775071910257736, 0.9804915471743512]\n",
            "\n",
            "Model Performance: Log Loss and Accuracy on validation data\n",
            "2790/2790 [==============================] - 1s 520us/step\n",
            "[8.317464999400586, 0.37419354926300735]\n"
          ],
          "name": "stdout"
        }
      ]
    },
    {
      "cell_type": "markdown",
      "metadata": {
        "id": "DlYHqXyRU3Po",
        "colab_type": "text"
      },
      "source": [
        ""
      ]
    },
    {
      "cell_type": "markdown",
      "metadata": {
        "colab_type": "text",
        "id": "u5CKxykLHdyj"
      },
      "source": [
        "## Generate text"
      ]
    },
    {
      "cell_type": "code",
      "metadata": {
        "colab_type": "code",
        "id": "4JSW5EwKHdyk",
        "colab": {
          "base_uri": "https://localhost:8080/",
          "height": 159
        },
        "outputId": "4d481d92-f9de-4155-cbbf-a4ddeeaf046d"
      },
      "source": [
        "seed_length=50\n",
        "new_words=50\n",
        "diversity=1\n",
        "n_gen=1\n",
        "\n",
        "import random\n",
        "\n",
        "# Choose a random sequence\n",
        "seq = random.choice(sequences)\n",
        "\n",
        "# print seq\n",
        "\n",
        "# Choose a random starting point\n",
        "seed_idx = random.randint(0, len(seq) - seed_length - 10)\n",
        "# Ending index for seed\n",
        "end_idx = seed_idx + seed_length\n",
        "\n",
        "gen_list = []\n",
        "\n",
        "for n in range(n_gen):\n",
        "    # Extract the seed sequence\n",
        "    seed = seq[seed_idx:end_idx]\n",
        "    original_sequence = [idx_word[i] for i in seed]\n",
        "    generated = seed[:] + ['#']\n",
        "\n",
        "    # Find the actual entire sequence\n",
        "    actual = generated[:] + seq[end_idx:end_idx + new_words]\n",
        "        \n",
        "    # Keep adding new words\n",
        "    for i in range(new_words):\n",
        "\n",
        "        # Make a prediction from the seed\n",
        "        preds = model.predict(np.array(seed).reshape(1, -1))[0].astype(np.float64)\n",
        "\n",
        "        # Diversify\n",
        "        preds = np.log(preds) / diversity\n",
        "        exp_preds = np.exp(preds)\n",
        "\n",
        "        # Softmax\n",
        "        preds = exp_preds / sum(exp_preds)\n",
        "\n",
        "        # Choose the next word\n",
        "        probas = np.random.multinomial(1, preds, 1)[0]\n",
        "\n",
        "        next_idx = np.argmax(probas)\n",
        "\n",
        "        # New seed adds on old word\n",
        "        #             seed = seed[1:] + [next_idx]\n",
        "        seed += [next_idx]\n",
        "        generated.append(next_idx)\n",
        "    # Showing generated and actual abstract\n",
        "    n = []\n",
        "\n",
        "    for i in generated:\n",
        "        n.append(idx_word.get(i, '< --- >'))\n",
        "\n",
        "    gen_list.append(n)\n",
        "\n",
        "a = []\n",
        "\n",
        "for i in actual:\n",
        "    a.append(idx_word.get(i, '< --- >'))\n",
        "\n",
        "a = a[seed_length:]\n",
        "\n",
        "gen_list = [gen[seed_length:seed_length + len(a)] for gen in gen_list]\n",
        "\n",
        "print('Original Sequence: \\n'+' '.join(original_sequence))\n",
        "print(\"\\n\")\n",
        "# print(gen_list)\n",
        "print('Generated Sequence: \\n'+' '.join(gen_list[0][1:]))\n",
        "# print(a)"
      ],
      "execution_count": 21,
      "outputs": [
        {
          "output_type": "stream",
          "text": [
            "/usr/local/lib/python3.6/dist-packages/ipykernel_launcher.py:36: RuntimeWarning: divide by zero encountered in log\n"
          ],
          "name": "stderr"
        },
        {
          "output_type": "stream",
          "text": [
            "Original Sequence: \n",
            "think i would allow my son— lord illingworth our son mrs arbuthnot my son lord illingworth shrugs his shoulders —to go away with the man who spoiled my youth who ruined my life who has tainted every moment of my days you don’t realise what my past has been in\n",
            "\n",
            "\n",
            "Generated Sequence: \n",
            "ireland the interference cosgrove a few wilde’s works on their know nothing my only a public building the only thing one one really knows about human nature is that is for his coronation and the king was sitting chronicle and i the daubeny d all illustrations miss 146 irish fairy\n"
          ],
          "name": "stdout"
        }
      ]
    },
    {
      "cell_type": "code",
      "metadata": {
        "colab_type": "code",
        "id": "9aXeiz7ZHdyp",
        "colab": {}
      },
      "source": [
        ""
      ],
      "execution_count": 0,
      "outputs": []
    }
  ]
}