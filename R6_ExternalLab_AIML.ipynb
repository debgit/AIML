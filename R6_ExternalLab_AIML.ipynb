{
 "cells": [
  {
   "cell_type": "markdown",
   "metadata": {
    "colab_type": "text",
    "id": "YYk8NG3yOIT9"
   },
   "source": [
    "### A MNIST-like fashion product database\n",
    "\n",
    "In this, we classify the images into respective classes given in the dataset. We use a Neural Net and a Deep Neural Net in Keras to solve this and check the accuracy scores."
   ]
  },
  {
   "cell_type": "markdown",
   "metadata": {
    "colab_type": "text",
    "id": "tFO6PuxzOIT_",
    "slideshow": {
     "slide_type": "slide"
    }
   },
   "source": [
    "### Load tensorflow"
   ]
  },
  {
   "cell_type": "code",
   "execution_count": 1,
   "metadata": {
    "colab": {},
    "colab_type": "code",
    "id": "efNjNImfOIUC"
   },
   "outputs": [
    {
     "name": "stderr",
     "output_type": "stream",
     "text": [
      "C:\\Users\\Zahid\\Anaconda3\\lib\\site-packages\\h5py\\__init__.py:36: FutureWarning: Conversion of the second argument of issubdtype from `float` to `np.floating` is deprecated. In future, it will be treated as `np.float64 == np.dtype(float).type`.\n",
      "  from ._conv import register_converters as _register_converters\n"
     ]
    }
   ],
   "source": [
    "import tensorflow as tf\n",
    "tf.set_random_seed(42)"
   ]
  },
  {
   "cell_type": "code",
   "execution_count": 2,
   "metadata": {
    "colab": {},
    "colab_type": "code",
    "id": "l9C4aAIGOIUH",
    "outputId": "5ef9aff6-a7bd-4b26-cba6-8750955f6ca3"
   },
   "outputs": [
    {
     "data": {
      "text/plain": [
       "'1.13.1'"
      ]
     },
     "execution_count": 2,
     "metadata": {},
     "output_type": "execute_result"
    }
   ],
   "source": [
    "tf.__version__"
   ]
  },
  {
   "cell_type": "markdown",
   "metadata": {
    "colab_type": "text",
    "id": "HcoZBStrOIUQ",
    "slideshow": {
     "slide_type": "slide"
    }
   },
   "source": [
    "### Collect Data"
   ]
  },
  {
   "cell_type": "code",
   "execution_count": 3,
   "metadata": {
    "colab": {},
    "colab_type": "code",
    "id": "XA1WsFSeOIUS"
   },
   "outputs": [
    {
     "name": "stderr",
     "output_type": "stream",
     "text": [
      "Using TensorFlow backend.\n"
     ]
    }
   ],
   "source": [
    "import keras\n",
    "import numpy as np\n",
    "import matplotlib.pyplot as plt"
   ]
  },
  {
   "cell_type": "code",
   "execution_count": 4,
   "metadata": {
    "colab": {},
    "colab_type": "code",
    "id": "qnbx7TyQOIUY"
   },
   "outputs": [],
   "source": [
    "(trainX, trainY), (testX, testY) = keras.datasets.fashion_mnist.load_data()"
   ]
  },
  {
   "cell_type": "code",
   "execution_count": 5,
   "metadata": {
    "colab": {},
    "colab_type": "code",
    "id": "UbiHj5YPOIUc",
    "outputId": "87e1b9cd-07f0-45cb-e706-0d51ad742d72",
    "slideshow": {
     "slide_type": "fragment"
    }
   },
   "outputs": [
    {
     "name": "stdout",
     "output_type": "stream",
     "text": [
      "[9 2 1 1 6]\n"
     ]
    }
   ],
   "source": [
    "print(testY[0:5])"
   ]
  },
  {
   "cell_type": "code",
   "execution_count": 6,
   "metadata": {},
   "outputs": [
    {
     "name": "stdout",
     "output_type": "stream",
     "text": [
      "trainX shape: (60000, 28, 28) trainY shape: (60000,)\n"
     ]
    }
   ],
   "source": [
    "# print the shape of training model\n",
    "print(\"trainX shape:\", trainX.shape, \"trainY shape:\", trainY.shape)"
   ]
  },
  {
   "cell_type": "code",
   "execution_count": 7,
   "metadata": {},
   "outputs": [
    {
     "name": "stdout",
     "output_type": "stream",
     "text": [
      "testX shape: (10000, 28, 28) testY shape: (10000,)\n"
     ]
    }
   ],
   "source": [
    "# print the shape of test model\n",
    "print(\"testX shape:\", testX.shape, \"testY shape:\", testY.shape)"
   ]
  },
  {
   "cell_type": "code",
   "execution_count": 8,
   "metadata": {},
   "outputs": [
    {
     "name": "stdout",
     "output_type": "stream",
     "text": [
      "60000 train set\n",
      "10000 test set\n"
     ]
    }
   ],
   "source": [
    "# Print the number of training and test datasets\n",
    "print(trainX.shape[0], 'train set')\n",
    "print(testX.shape[0], 'test set')"
   ]
  },
  {
   "cell_type": "code",
   "execution_count": 9,
   "metadata": {},
   "outputs": [],
   "source": [
    "trainY_copy = trainY.copy()"
   ]
  },
  {
   "cell_type": "code",
   "execution_count": 10,
   "metadata": {},
   "outputs": [
    {
     "name": "stdout",
     "output_type": "stream",
     "text": [
      "Number of train data - 60000\n",
      "Number of test data - 10000\n"
     ]
    }
   ],
   "source": [
    "print(\"Number of train data - \" + str(len(trainX)))\n",
    "print(\"Number of test data - \" + str(len(testX)))"
   ]
  },
  {
   "cell_type": "markdown",
   "metadata": {
    "colab_type": "text",
    "id": "lDAYzkwyOIUj",
    "slideshow": {
     "slide_type": "slide"
    }
   },
   "source": [
    "### Convert both training and testing labels into one-hot vectors.\n",
    "\n",
    "**Hint:** check **tf.keras.utils.to_categorical()**"
   ]
  },
  {
   "cell_type": "code",
   "execution_count": 11,
   "metadata": {
    "colab": {},
    "colab_type": "code",
    "id": "vBlfYlANOIUk"
   },
   "outputs": [],
   "source": [
    "trainY = tf.keras.utils.to_categorical(trainY, num_classes=10)\n",
    "testY = tf.keras.utils.to_categorical(testY, num_classes=10)"
   ]
  },
  {
   "cell_type": "code",
   "execution_count": 12,
   "metadata": {},
   "outputs": [
    {
     "name": "stdout",
     "output_type": "stream",
     "text": [
      "(60000, 10)\n",
      "First 5 examples now are:  [[0. 0. 0. 0. 0. 0. 0. 0. 0. 1.]\n",
      " [1. 0. 0. 0. 0. 0. 0. 0. 0. 0.]\n",
      " [1. 0. 0. 0. 0. 0. 0. 0. 0. 0.]\n",
      " [0. 0. 0. 1. 0. 0. 0. 0. 0. 0.]\n",
      " [1. 0. 0. 0. 0. 0. 0. 0. 0. 0.]]\n"
     ]
    }
   ],
   "source": [
    "print(trainY.shape)\n",
    "print('First 5 examples now are: ', trainY[0:5])"
   ]
  },
  {
   "cell_type": "code",
   "execution_count": 13,
   "metadata": {
    "colab": {},
    "colab_type": "code",
    "id": "RHV3b9mzOIUq",
    "outputId": "27bdfe58-91ee-4677-fe49-e742ad306c70",
    "scrolled": true,
    "slideshow": {
     "slide_type": "fragment"
    }
   },
   "outputs": [
    {
     "name": "stdout",
     "output_type": "stream",
     "text": [
      "(10000, 10)\n",
      "First 5 examples now are:  [[0. 0. 0. 0. 0. 0. 0. 0. 0. 1.]\n",
      " [0. 0. 1. 0. 0. 0. 0. 0. 0. 0.]\n",
      " [0. 1. 0. 0. 0. 0. 0. 0. 0. 0.]\n",
      " [0. 1. 0. 0. 0. 0. 0. 0. 0. 0.]\n",
      " [0. 0. 0. 0. 0. 0. 1. 0. 0. 0.]]\n"
     ]
    }
   ],
   "source": [
    "print(testY.shape)\n",
    "print('First 5 examples now are: ', testY[0:5])"
   ]
  },
  {
   "cell_type": "markdown",
   "metadata": {
    "colab_type": "text",
    "id": "FwhQ8e7VOIUw"
   },
   "source": [
    "### Visualize the data\n",
    "\n",
    "Plot first 10 images in the triaining set and their labels."
   ]
  },
  {
   "cell_type": "code",
   "execution_count": 14,
   "metadata": {},
   "outputs": [],
   "source": [
    "y = [] # for labels"
   ]
  },
  {
   "cell_type": "code",
   "execution_count": 15,
   "metadata": {},
   "outputs": [
    {
     "data": {
      "image/png": "[encoded data removed]",
      "text/plain": [
       "<Figure size 432x288 with 1 Axes>"
      ]
     },
     "metadata": {},
     "output_type": "display_data"
    },
    {
     "data": {
      "image/png": "[encoded data removed]",
      "text/plain": [
       "<Figure size 432x288 with 1 Axes>"
      ]
     },
     "metadata": {},
     "output_type": "display_data"
    },
    {
     "data": {
      "image/png": "[encoded data removed]",
      "text/plain": [
       "<Figure size 432x288 with 1 Axes>"
      ]
     },
     "metadata": {},
     "output_type": "display_data"
    },
    {
     "data": {
      "image/png": "[encoded data removed]",
      "text/plain": [
       "<Figure size 432x288 with 1 Axes>"
      ]
     },
     "metadata": {},
     "output_type": "display_data"
    },
    {
     "data": {
      "image/png": "[encoded data removed]",
      "text/plain": [
       "<Figure size 432x288 with 1 Axes>"
      ]
     },
     "metadata": {},
     "output_type": "display_data"
    },
    {
     "data": {
      "image/png": "[encoded data removed]",
      "text/plain": [
       "<Figure size 432x288 with 1 Axes>"
      ]
     },
     "metadata": {},
     "output_type": "display_data"
    },
    {
     "data": {
      "image/png": "[encoded data removed]",
      "text/plain": [
       "<Figure size 432x288 with 1 Axes>"
      ]
     },
     "metadata": {},
     "output_type": "display_data"
    },
    {
     "data": {
      "image/png": "[encoded data removed]",
      "text/plain": [
       "<Figure size 432x288 with 1 Axes>"
      ]
     },
     "metadata": {},
     "output_type": "display_data"
    },
    {
     "data": {
      "image/png": "[encoded data removed]",
      "text/plain": [
       "<Figure size 432x288 with 1 Axes>"
      ]
     },
     "metadata": {},
     "output_type": "display_data"
    },
    {
     "data": {
      "image/png": "[encoded data removed]",
      "text/plain": [
       "<Figure size 432x288 with 1 Axes>"
      ]
     },
     "metadata": {},
     "output_type": "display_data"
    }
   ],
   "source": [
    "for i in range(10):\n",
    "    image = trainX[i]\n",
    "    plt.imshow(image)\n",
    "    plt.show()\n",
    "    y.append(trainY_copy[i])"
   ]
  },
  {
   "cell_type": "code",
   "execution_count": 16,
   "metadata": {},
   "outputs": [
    {
     "name": "stdout",
     "output_type": "stream",
     "text": [
      "label for each of the above image:\n"
     ]
    },
    {
     "data": {
      "text/plain": [
       "[9, 0, 0, 3, 0, 2, 7, 2, 5, 5]"
      ]
     },
     "execution_count": 16,
     "metadata": {},
     "output_type": "execute_result"
    }
   ],
   "source": [
    "print(\"label for each of the above image:\")\n",
    "y"
   ]
  },
  {
   "cell_type": "markdown",
   "metadata": {
    "colab_type": "text",
    "id": "l4TbJGeSOIU4",
    "slideshow": {
     "slide_type": "slide"
    }
   },
   "source": [
    "### Build a neural Network with a cross entropy loss function and sgd optimizer in Keras. The output layer with 10 neurons as we have 10 classes."
   ]
  },
  {
   "cell_type": "markdown",
   "metadata": {},
   "source": [
    "### Build the graph"
   ]
  },
  {
   "cell_type": "code",
   "execution_count": 17,
   "metadata": {},
   "outputs": [],
   "source": [
    "#Initialize Sequential model\n",
    "model = tf.keras.models.Sequential()"
   ]
  },
  {
   "cell_type": "code",
   "execution_count": 18,
   "metadata": {},
   "outputs": [],
   "source": [
    "#Reshape data from 2D to 1D -> 28x28 to 784\n",
    "model.add(tf.keras.layers.Reshape((784,),input_shape=(28,28,)))"
   ]
  },
  {
   "cell_type": "code",
   "execution_count": 19,
   "metadata": {},
   "outputs": [
    {
     "name": "stdout",
     "output_type": "stream",
     "text": [
      "WARNING:tensorflow:From C:\\Users\\Zahid\\Anaconda3\\lib\\site-packages\\tensorflow\\python\\ops\\resource_variable_ops.py:435: colocate_with (from tensorflow.python.framework.ops) is deprecated and will be removed in a future version.\n",
      "Instructions for updating:\n",
      "Colocations handled automatically by placer.\n"
     ]
    }
   ],
   "source": [
    "#Normalize the data\n",
    "#model.add(tf.keras.layers.BatchNormalization())\n",
    "\n",
    "#Add Dense Layer which provides 10 Outputs after applying softmax\n",
    "model.add(tf.keras.layers.Dense(10, activation='softmax'))\n",
    "\n",
    "#Compile the model ((We will learn about optimizers it in the next residency))\n",
    "model.compile(optimizer='sgd', loss='categorical_crossentropy', metrics=['accuracy'])"
   ]
  },
  {
   "cell_type": "markdown",
   "metadata": {
    "colab_type": "text",
    "id": "3hQpLv3aOIU_",
    "slideshow": {
     "slide_type": "slide"
    }
   },
   "source": [
    "### Execute the model using model.fit()"
   ]
  },
  {
   "cell_type": "code",
   "execution_count": 20,
   "metadata": {},
   "outputs": [
    {
     "name": "stdout",
     "output_type": "stream",
     "text": [
      "Train on 60000 samples, validate on 10000 samples\n",
      "WARNING:tensorflow:From C:\\Users\\Zahid\\Anaconda3\\lib\\site-packages\\tensorflow\\python\\ops\\math_ops.py:3066: to_int32 (from tensorflow.python.ops.math_ops) is deprecated and will be removed in a future version.\n",
      "Instructions for updating:\n",
      "Use tf.cast instead.\n",
      "Epoch 1/100\n",
      "60000/60000 [==============================] - 4s 71us/sample - loss: 14.5042 - acc: 0.1001 - val_loss: 14.5047 - val_acc: 0.1001\n",
      "Epoch 2/100\n",
      "60000/60000 [==============================] - 4s 67us/sample - loss: 13.7317 - acc: 0.1480 - val_loss: 14.5031 - val_acc: 0.1002\n",
      "Epoch 3/100\n",
      "60000/60000 [==============================] - 4s 67us/sample - loss: 13.5653 - acc: 0.1583 - val_loss: 12.9187 - val_acc: 0.1985\n",
      "Epoch 4/100\n",
      "60000/60000 [==============================] - 4s 68us/sample - loss: 12.9130 - acc: 0.1989 - val_loss: 12.9187 - val_acc: 0.1985\n",
      "Epoch 5/100\n",
      "60000/60000 [==============================] - 4s 68us/sample - loss: 12.9130 - acc: 0.1989 - val_loss: 12.9187 - val_acc: 0.1985\n",
      "Epoch 6/100\n",
      "60000/60000 [==============================] - 4s 71us/sample - loss: 12.9130 - acc: 0.1989 - val_loss: 12.9187 - val_acc: 0.1985\n",
      "Epoch 7/100\n",
      "60000/60000 [==============================] - 4s 68us/sample - loss: 12.9130 - acc: 0.1989 - val_loss: 12.9187 - val_acc: 0.1985\n",
      "Epoch 8/100\n",
      "60000/60000 [==============================] - 4s 74us/sample - loss: 12.9130 - acc: 0.1989 - val_loss: 12.9187 - val_acc: 0.1985\n",
      "Epoch 9/100\n",
      "60000/60000 [==============================] - 4s 72us/sample - loss: 12.9130 - acc: 0.1989 - val_loss: 12.9187 - val_acc: 0.1985\n",
      "Epoch 10/100\n",
      "60000/60000 [==============================] - 4s 73us/sample - loss: 12.9130 - acc: 0.1989 - val_loss: 12.9187 - val_acc: 0.1985\n",
      "Epoch 11/100\n",
      "60000/60000 [==============================] - 4s 68us/sample - loss: 12.9130 - acc: 0.1989 - val_loss: 12.9187 - val_acc: 0.1985\n",
      "Epoch 12/100\n",
      "60000/60000 [==============================] - 4s 72us/sample - loss: 12.9130 - acc: 0.1989 - val_loss: 12.9187 - val_acc: 0.1985\n",
      "Epoch 13/100\n",
      "60000/60000 [==============================] - 5s 80us/sample - loss: 12.9130 - acc: 0.1989 - val_loss: 12.9187 - val_acc: 0.1985\n",
      "Epoch 14/100\n",
      "60000/60000 [==============================] - 4s 69us/sample - loss: 12.9130 - acc: 0.1989 - val_loss: 12.9187 - val_acc: 0.1985\n",
      "Epoch 15/100\n",
      "60000/60000 [==============================] - 4s 68us/sample - loss: 12.9130 - acc: 0.1989 - val_loss: 12.9187 - val_acc: 0.1985\n",
      "Epoch 16/100\n",
      "60000/60000 [==============================] - 4s 72us/sample - loss: 12.9130 - acc: 0.1989 - val_loss: 12.9187 - val_acc: 0.1985\n",
      "Epoch 17/100\n",
      "60000/60000 [==============================] - 4s 69us/sample - loss: 12.9130 - acc: 0.1989 - val_loss: 12.9187 - val_acc: 0.1985\n",
      "Epoch 18/100\n",
      "60000/60000 [==============================] - 4s 69us/sample - loss: 12.9130 - acc: 0.1989 - val_loss: 12.9187 - val_acc: 0.1985\n",
      "Epoch 19/100\n",
      "60000/60000 [==============================] - 4s 70us/sample - loss: 12.9130 - acc: 0.1989 - val_loss: 12.9187 - val_acc: 0.1985\n",
      "Epoch 20/100\n",
      "60000/60000 [==============================] - 5s 75us/sample - loss: 12.9130 - acc: 0.1989 - val_loss: 12.9187 - val_acc: 0.1985\n",
      "Epoch 21/100\n",
      "60000/60000 [==============================] - 4s 70us/sample - loss: 12.9130 - acc: 0.1989 - val_loss: 12.9187 - val_acc: 0.1985\n",
      "Epoch 22/100\n",
      "60000/60000 [==============================] - 4s 70us/sample - loss: 12.9130 - acc: 0.1989 - val_loss: 12.9187 - val_acc: 0.1985\n",
      "Epoch 23/100\n",
      "60000/60000 [==============================] - 4s 69us/sample - loss: 12.9130 - acc: 0.1989 - val_loss: 12.9187 - val_acc: 0.1985\n",
      "Epoch 24/100\n",
      "60000/60000 [==============================] - 4s 69us/sample - loss: 12.9130 - acc: 0.1989 - val_loss: 12.9187 - val_acc: 0.1985\n",
      "Epoch 25/100\n",
      "60000/60000 [==============================] - 4s 70us/sample - loss: 12.9130 - acc: 0.1989 - val_loss: 12.9187 - val_acc: 0.1985\n",
      "Epoch 26/100\n",
      "60000/60000 [==============================] - 4s 70us/sample - loss: 12.9130 - acc: 0.1989 - val_loss: 12.9187 - val_acc: 0.1985\n",
      "Epoch 27/100\n",
      "60000/60000 [==============================] - 4s 72us/sample - loss: 12.9130 - acc: 0.1989 - val_loss: 12.9187 - val_acc: 0.1985\n",
      "Epoch 28/100\n",
      "60000/60000 [==============================] - 4s 71us/sample - loss: 12.9130 - acc: 0.1989 - val_loss: 12.9187 - val_acc: 0.1985\n",
      "Epoch 29/100\n",
      "60000/60000 [==============================] - 4s 70us/sample - loss: 12.9130 - acc: 0.1989 - val_loss: 12.9187 - val_acc: 0.1985\n",
      "Epoch 30/100\n",
      "60000/60000 [==============================] - 4s 71us/sample - loss: 12.9130 - acc: 0.1989 - val_loss: 12.9187 - val_acc: 0.1985\n",
      "Epoch 31/100\n",
      "60000/60000 [==============================] - 4s 70us/sample - loss: 12.9130 - acc: 0.1989 - val_loss: 12.9187 - val_acc: 0.1985\n",
      "Epoch 32/100\n",
      "60000/60000 [==============================] - 4s 70us/sample - loss: 12.9130 - acc: 0.1989 - val_loss: 12.9187 - val_acc: 0.1985\n",
      "Epoch 33/100\n",
      "60000/60000 [==============================] - 4s 70us/sample - loss: 12.9130 - acc: 0.1989 - val_loss: 12.9187 - val_acc: 0.1985\n",
      "Epoch 34/100\n",
      "60000/60000 [==============================] - 4s 71us/sample - loss: 12.9130 - acc: 0.1989 - val_loss: 12.9187 - val_acc: 0.1985\n",
      "Epoch 35/100\n",
      "60000/60000 [==============================] - 4s 67us/sample - loss: 12.9130 - acc: 0.1989 - val_loss: 12.9187 - val_acc: 0.1985\n",
      "Epoch 36/100\n",
      "60000/60000 [==============================] - 4s 68us/sample - loss: 12.9130 - acc: 0.1989 - val_loss: 12.9187 - val_acc: 0.1985\n",
      "Epoch 37/100\n",
      "60000/60000 [==============================] - 4s 68us/sample - loss: 12.9130 - acc: 0.1989 - val_loss: 12.9187 - val_acc: 0.1985\n",
      "Epoch 38/100\n",
      "60000/60000 [==============================] - 4s 68us/sample - loss: 12.9130 - acc: 0.1989 - val_loss: 12.9187 - val_acc: 0.1985\n",
      "Epoch 39/100\n",
      "60000/60000 [==============================] - 4s 69us/sample - loss: 12.9130 - acc: 0.1989 - val_loss: 12.9187 - val_acc: 0.1985\n",
      "Epoch 40/100\n",
      "60000/60000 [==============================] - 4s 69us/sample - loss: 12.9130 - acc: 0.1989 - val_loss: 12.9187 - val_acc: 0.1985\n",
      "Epoch 41/100\n",
      "60000/60000 [==============================] - 5s 80us/sample - loss: 12.9130 - acc: 0.1989 - val_loss: 12.9187 - val_acc: 0.1985\n",
      "Epoch 42/100\n",
      "60000/60000 [==============================] - 5s 79us/sample - loss: 12.9130 - acc: 0.1989 - val_loss: 12.9187 - val_acc: 0.1985\n",
      "Epoch 43/100\n",
      "60000/60000 [==============================] - 4s 74us/sample - loss: 12.9130 - acc: 0.1989 - val_loss: 12.9187 - val_acc: 0.1985\n",
      "Epoch 44/100\n",
      "60000/60000 [==============================] - 5s 76us/sample - loss: 12.9130 - acc: 0.1989 - val_loss: 12.9187 - val_acc: 0.1985\n",
      "Epoch 45/100\n",
      "60000/60000 [==============================] - 4s 74us/sample - loss: 12.9130 - acc: 0.1989 - val_loss: 12.9187 - val_acc: 0.1985\n",
      "Epoch 46/100\n",
      "60000/60000 [==============================] - 4s 72us/sample - loss: 12.9130 - acc: 0.1989 - val_loss: 12.9187 - val_acc: 0.1985\n",
      "Epoch 47/100\n",
      "60000/60000 [==============================] - 4s 72us/sample - loss: 12.9130 - acc: 0.1989 - val_loss: 12.9187 - val_acc: 0.1985\n",
      "Epoch 48/100\n",
      "60000/60000 [==============================] - 5s 76us/sample - loss: 12.9130 - acc: 0.1989 - val_loss: 12.9187 - val_acc: 0.1985\n",
      "Epoch 49/100\n",
      "60000/60000 [==============================] - 5s 79us/sample - loss: 12.9130 - acc: 0.1989 - val_loss: 12.9187 - val_acc: 0.1985\n",
      "Epoch 50/100\n",
      "60000/60000 [==============================] - 5s 76us/sample - loss: 12.9130 - acc: 0.1989 - val_loss: 12.9187 - val_acc: 0.1985\n",
      "Epoch 51/100\n",
      "60000/60000 [==============================] - 4s 71us/sample - loss: 12.9130 - acc: 0.1989 - val_loss: 12.9187 - val_acc: 0.1985\n",
      "Epoch 52/100\n",
      "60000/60000 [==============================] - 5s 79us/sample - loss: 12.9130 - acc: 0.1989 - val_loss: 12.9187 - val_acc: 0.1985\n",
      "Epoch 53/100\n",
      "60000/60000 [==============================] - 4s 73us/sample - loss: 12.9130 - acc: 0.1989 - val_loss: 12.9187 - val_acc: 0.1985\n",
      "Epoch 54/100\n",
      "60000/60000 [==============================] - 4s 68us/sample - loss: 12.9130 - acc: 0.1989 - val_loss: 12.9187 - val_acc: 0.1985\n",
      "Epoch 55/100\n",
      "60000/60000 [==============================] - 4s 71us/sample - loss: 12.9130 - acc: 0.1989 - val_loss: 12.9187 - val_acc: 0.1985\n",
      "Epoch 56/100\n"
     ]
    },
    {
     "name": "stdout",
     "output_type": "stream",
     "text": [
      "60000/60000 [==============================] - 4s 72us/sample - loss: 12.9130 - acc: 0.1989 - val_loss: 12.9187 - val_acc: 0.1985\n",
      "Epoch 57/100\n",
      "60000/60000 [==============================] - 4s 68us/sample - loss: 12.9130 - acc: 0.1989 - val_loss: 12.9187 - val_acc: 0.1985\n",
      "Epoch 58/100\n",
      "60000/60000 [==============================] - 4s 68us/sample - loss: 12.9130 - acc: 0.1989 - val_loss: 12.9187 - val_acc: 0.1985\n",
      "Epoch 59/100\n",
      "60000/60000 [==============================] - 4s 68us/sample - loss: 12.9130 - acc: 0.1989 - val_loss: 12.9187 - val_acc: 0.1985\n",
      "Epoch 60/100\n",
      "60000/60000 [==============================] - 4s 68us/sample - loss: 12.9130 - acc: 0.1989 - val_loss: 12.9187 - val_acc: 0.1985\n",
      "Epoch 61/100\n",
      "60000/60000 [==============================] - 4s 68us/sample - loss: 12.9130 - acc: 0.1989 - val_loss: 12.9187 - val_acc: 0.1985\n",
      "Epoch 62/100\n",
      "60000/60000 [==============================] - 4s 71us/sample - loss: 12.9130 - acc: 0.1989 - val_loss: 12.9187 - val_acc: 0.1985\n",
      "Epoch 63/100\n",
      "60000/60000 [==============================] - 4s 69us/sample - loss: 12.9130 - acc: 0.1989 - val_loss: 12.9187 - val_acc: 0.1985\n",
      "Epoch 64/100\n",
      "60000/60000 [==============================] - 4s 67us/sample - loss: 12.9130 - acc: 0.1989 - val_loss: 12.9187 - val_acc: 0.1985\n",
      "Epoch 65/100\n",
      "60000/60000 [==============================] - 4s 67us/sample - loss: 12.9130 - acc: 0.1989 - val_loss: 12.9187 - val_acc: 0.1985\n",
      "Epoch 66/100\n",
      "60000/60000 [==============================] - 4s 74us/sample - loss: 12.9130 - acc: 0.1989 - val_loss: 12.9187 - val_acc: 0.1985\n",
      "Epoch 67/100\n",
      "60000/60000 [==============================] - 4s 73us/sample - loss: 12.9130 - acc: 0.1989 - val_loss: 12.9187 - val_acc: 0.1985\n",
      "Epoch 68/100\n",
      "60000/60000 [==============================] - 4s 72us/sample - loss: 12.9130 - acc: 0.1989 - val_loss: 12.9187 - val_acc: 0.1985\n",
      "Epoch 69/100\n",
      "60000/60000 [==============================] - 4s 71us/sample - loss: 12.9130 - acc: 0.1989 - val_loss: 12.9187 - val_acc: 0.1985\n",
      "Epoch 70/100\n",
      "60000/60000 [==============================] - 4s 69us/sample - loss: 12.9130 - acc: 0.1989 - val_loss: 12.9187 - val_acc: 0.1985\n",
      "Epoch 71/100\n",
      "60000/60000 [==============================] - 4s 69us/sample - loss: 12.9130 - acc: 0.1989 - val_loss: 12.9187 - val_acc: 0.1985\n",
      "Epoch 72/100\n",
      "60000/60000 [==============================] - 4s 70us/sample - loss: 12.9130 - acc: 0.1989 - val_loss: 12.9187 - val_acc: 0.1985\n",
      "Epoch 73/100\n",
      "60000/60000 [==============================] - 4s 68us/sample - loss: 12.9130 - acc: 0.1989 - val_loss: 12.9187 - val_acc: 0.1985\n",
      "Epoch 74/100\n",
      "60000/60000 [==============================] - 4s 72us/sample - loss: 12.9130 - acc: 0.1989 - val_loss: 12.9187 - val_acc: 0.1985\n",
      "Epoch 75/100\n",
      "60000/60000 [==============================] - 4s 68us/sample - loss: 12.9130 - acc: 0.1989 - val_loss: 12.9187 - val_acc: 0.1985\n",
      "Epoch 76/100\n",
      "60000/60000 [==============================] - 4s 71us/sample - loss: 12.9130 - acc: 0.1989 - val_loss: 12.9187 - val_acc: 0.1985\n",
      "Epoch 77/100\n",
      "60000/60000 [==============================] - 4s 67us/sample - loss: 12.9130 - acc: 0.1989 - val_loss: 12.9187 - val_acc: 0.1985\n",
      "Epoch 78/100\n",
      "60000/60000 [==============================] - 4s 67us/sample - loss: 12.9130 - acc: 0.1989 - val_loss: 12.9187 - val_acc: 0.1985\n",
      "Epoch 79/100\n",
      "60000/60000 [==============================] - 4s 67us/sample - loss: 12.9130 - acc: 0.1989 - val_loss: 12.9187 - val_acc: 0.1985\n",
      "Epoch 80/100\n",
      "60000/60000 [==============================] - 4s 69us/sample - loss: 12.9130 - acc: 0.1989 - val_loss: 12.9187 - val_acc: 0.1985\n",
      "Epoch 81/100\n",
      "60000/60000 [==============================] - 4s 68us/sample - loss: 12.9130 - acc: 0.1989 - val_loss: 12.9187 - val_acc: 0.1985\n",
      "Epoch 82/100\n",
      "60000/60000 [==============================] - 4s 69us/sample - loss: 12.9130 - acc: 0.1989 - val_loss: 12.9187 - val_acc: 0.1985\n",
      "Epoch 83/100\n",
      "60000/60000 [==============================] - 4s 72us/sample - loss: 12.9130 - acc: 0.1989 - val_loss: 12.9187 - val_acc: 0.1985\n",
      "Epoch 84/100\n",
      "60000/60000 [==============================] - 4s 73us/sample - loss: 12.9130 - acc: 0.1989 - val_loss: 12.9187 - val_acc: 0.1985\n",
      "Epoch 85/100\n",
      "60000/60000 [==============================] - 4s 73us/sample - loss: 12.9130 - acc: 0.1989 - val_loss: 12.9187 - val_acc: 0.1985\n",
      "Epoch 86/100\n",
      "60000/60000 [==============================] - 4s 72us/sample - loss: 12.9130 - acc: 0.1989 - val_loss: 12.9187 - val_acc: 0.1985\n",
      "Epoch 87/100\n",
      "60000/60000 [==============================] - 4s 70us/sample - loss: 12.9130 - acc: 0.1989 - val_loss: 12.9187 - val_acc: 0.1985\n",
      "Epoch 88/100\n",
      "60000/60000 [==============================] - 4s 73us/sample - loss: 12.9130 - acc: 0.1989 - val_loss: 12.9187 - val_acc: 0.1985\n",
      "Epoch 89/100\n",
      "60000/60000 [==============================] - 4s 70us/sample - loss: 12.9130 - acc: 0.1989 - val_loss: 12.9187 - val_acc: 0.1985\n",
      "Epoch 90/100\n",
      "60000/60000 [==============================] - 4s 71us/sample - loss: 12.9130 - acc: 0.1989 - val_loss: 12.9187 - val_acc: 0.1985\n",
      "Epoch 91/100\n",
      "60000/60000 [==============================] - 4s 68us/sample - loss: 12.9130 - acc: 0.1989 - val_loss: 12.9187 - val_acc: 0.1985\n",
      "Epoch 92/100\n",
      "60000/60000 [==============================] - 4s 68us/sample - loss: 12.9130 - acc: 0.1989 - val_loss: 12.9187 - val_acc: 0.1985\n",
      "Epoch 93/100\n",
      "60000/60000 [==============================] - 4s 68us/sample - loss: 12.9130 - acc: 0.1989 - val_loss: 12.9187 - val_acc: 0.1985\n",
      "Epoch 94/100\n",
      "60000/60000 [==============================] - 4s 69us/sample - loss: 12.9130 - acc: 0.1989 - val_loss: 12.9187 - val_acc: 0.1985\n",
      "Epoch 95/100\n",
      "60000/60000 [==============================] - 4s 68us/sample - loss: 12.9130 - acc: 0.1989 - val_loss: 12.9187 - val_acc: 0.1985\n",
      "Epoch 96/100\n",
      "60000/60000 [==============================] - 4s 67us/sample - loss: 12.9130 - acc: 0.1989 - val_loss: 12.9187 - val_acc: 0.1985\n",
      "Epoch 97/100\n",
      "60000/60000 [==============================] - 4s 68us/sample - loss: 12.9130 - acc: 0.1989 - val_loss: 12.9187 - val_acc: 0.1985\n",
      "Epoch 98/100\n",
      "60000/60000 [==============================] - 4s 67us/sample - loss: 12.9130 - acc: 0.1989 - val_loss: 12.9187 - val_acc: 0.1985\n",
      "Epoch 99/100\n",
      "60000/60000 [==============================] - 4s 67us/sample - loss: 12.9130 - acc: 0.1989 - val_loss: 12.9187 - val_acc: 0.1985\n",
      "Epoch 100/100\n",
      "60000/60000 [==============================] - 4s 67us/sample - loss: 12.9130 - acc: 0.1989 - val_loss: 12.9187 - val_acc: 0.1985\n"
     ]
    },
    {
     "data": {
      "text/plain": [
       "<tensorflow.python.keras.callbacks.History at 0xb6c7a0e208>"
      ]
     },
     "execution_count": 20,
     "metadata": {},
     "output_type": "execute_result"
    }
   ],
   "source": [
    "model.fit(trainX, trainY, \n",
    "          validation_data=(testX, testY), \n",
    "          epochs=100\n",
    "          )"
   ]
  },
  {
   "cell_type": "markdown",
   "metadata": {
    "colab_type": "text",
    "id": "JdzDtGwDOIVF",
    "slideshow": {
     "slide_type": "slide"
    }
   },
   "source": [
    "### In the above Neural Network model add Batch Normalization layer after the input layer and repeat the steps."
   ]
  },
  {
   "cell_type": "code",
   "execution_count": 21,
   "metadata": {
    "colab": {},
    "colab_type": "code",
    "id": "kndfpdidOIVI"
   },
   "outputs": [],
   "source": [
    "model1 = tf.keras.models.Sequential()\n",
    "model1.add(tf.keras.layers.Reshape((784,),input_shape=(28,28,)))\n",
    "\n",
    "#Normalize the data\n",
    "model1.add(tf.keras.layers.BatchNormalization())\n",
    "\n",
    "#Add Dense Layer which provides 10 Outputs after applying softmax\n",
    "model1.add(tf.keras.layers.Dense(10, activation='softmax'))\n",
    "\n",
    "#Compile the model ((We will learn about optimizers it in the next residency))\n",
    "model1.compile(optimizer='sgd', loss='categorical_crossentropy', metrics=['accuracy'])"
   ]
  },
  {
   "cell_type": "markdown",
   "metadata": {
    "colab_type": "text",
    "id": "mwk3T5LJOIVN",
    "slideshow": {
     "slide_type": "slide"
    }
   },
   "source": [
    "### Execute the model"
   ]
  },
  {
   "cell_type": "code",
   "execution_count": 22,
   "metadata": {
    "colab": {},
    "colab_type": "code",
    "id": "JNLR8tcBOIVP"
   },
   "outputs": [
    {
     "name": "stdout",
     "output_type": "stream",
     "text": [
      "Train on 60000 samples, validate on 10000 samples\n",
      "Epoch 1/10\n",
      "60000/60000 [==============================] - 4s 71us/sample - loss: 0.6399 - acc: 0.7793 - val_loss: 0.5389 - val_acc: 0.8166\n",
      "Epoch 2/10\n",
      "60000/60000 [==============================] - 4s 60us/sample - loss: 0.4992 - acc: 0.8264 - val_loss: 0.5079 - val_acc: 0.8251\n",
      "Epoch 3/10\n",
      "60000/60000 [==============================] - 3s 57us/sample - loss: 0.4730 - acc: 0.8371 - val_loss: 0.4901 - val_acc: 0.8306\n",
      "Epoch 4/10\n",
      "60000/60000 [==============================] - 3s 57us/sample - loss: 0.4575 - acc: 0.8430 - val_loss: 0.4819 - val_acc: 0.8337\n",
      "Epoch 5/10\n",
      "60000/60000 [==============================] - 3s 58us/sample - loss: 0.4480 - acc: 0.8458 - val_loss: 0.4790 - val_acc: 0.8318\n",
      "Epoch 6/10\n",
      "60000/60000 [==============================] - 3s 57us/sample - loss: 0.4416 - acc: 0.8481 - val_loss: 0.4725 - val_acc: 0.8358\n",
      "Epoch 7/10\n",
      "60000/60000 [==============================] - 3s 57us/sample - loss: 0.4367 - acc: 0.8489 - val_loss: 0.4751 - val_acc: 0.8350\n",
      "Epoch 8/10\n",
      "60000/60000 [==============================] - 3s 57us/sample - loss: 0.4312 - acc: 0.8518 - val_loss: 0.4703 - val_acc: 0.8382\n",
      "Epoch 9/10\n",
      "60000/60000 [==============================] - 3s 58us/sample - loss: 0.4266 - acc: 0.8525 - val_loss: 0.4641 - val_acc: 0.8380\n",
      "Epoch 10/10\n",
      "60000/60000 [==============================] - 4s 60us/sample - loss: 0.4227 - acc: 0.8535 - val_loss: 0.4663 - val_acc: 0.8360\n"
     ]
    },
    {
     "data": {
      "text/plain": [
       "<tensorflow.python.keras.callbacks.History at 0xb6c8c24748>"
      ]
     },
     "execution_count": 22,
     "metadata": {},
     "output_type": "execute_result"
    }
   ],
   "source": [
    "model1.fit(trainX, trainY, \n",
    "          validation_data=(testX, testY), \n",
    "          epochs=10,\n",
    "          batch_size=64)"
   ]
  },
  {
   "cell_type": "markdown",
   "metadata": {
    "colab_type": "text",
    "id": "Py-KwkmjOIVU"
   },
   "source": [
    "### Customize the learning rate to 0.001 in sgd optimizer and run the model"
   ]
  },
  {
   "cell_type": "code",
   "execution_count": 23,
   "metadata": {
    "colab": {},
    "colab_type": "code",
    "id": "yLXUE9jWOIVV"
   },
   "outputs": [],
   "source": [
    "from keras import optimizers"
   ]
  },
  {
   "cell_type": "code",
   "execution_count": 24,
   "metadata": {},
   "outputs": [],
   "source": [
    "model2 = tf.keras.models.Sequential()\n",
    "model2.add(tf.keras.layers.Reshape((784,),input_shape=(28,28,)))\n",
    "\n",
    "#Normalize the data\n",
    "model2.add(tf.keras.layers.BatchNormalization())\n",
    "\n",
    "#Add Dense Layer which provides 10 Outputs after applying softmax\n",
    "model2.add(tf.keras.layers.Dense(10, activation='softmax'))"
   ]
  },
  {
   "cell_type": "code",
   "execution_count": 25,
   "metadata": {},
   "outputs": [],
   "source": [
    "sgd = optimizers.SGD(lr=0.001)"
   ]
  },
  {
   "cell_type": "code",
   "execution_count": 26,
   "metadata": {},
   "outputs": [],
   "source": [
    "#Comile the model ((We will learn about optimizers it in the next residency))\n",
    "model2.compile(optimizer='sgd', loss='categorical_crossentropy', metrics=['accuracy'])"
   ]
  },
  {
   "cell_type": "code",
   "execution_count": 27,
   "metadata": {},
   "outputs": [
    {
     "name": "stdout",
     "output_type": "stream",
     "text": [
      "Train on 60000 samples, validate on 10000 samples\n",
      "Epoch 1/10\n",
      "60000/60000 [==============================] - 4s 67us/sample - loss: 0.6481 - acc: 0.7755 - val_loss: 0.5340 - val_acc: 0.8145\n",
      "Epoch 2/10\n",
      "60000/60000 [==============================] - 4s 58us/sample - loss: 0.5015 - acc: 0.8277 - val_loss: 0.5019 - val_acc: 0.8265\n",
      "Epoch 3/10\n",
      "60000/60000 [==============================] - 3s 58us/sample - loss: 0.4729 - acc: 0.8369 - val_loss: 0.4846 - val_acc: 0.8343\n",
      "Epoch 4/10\n",
      "60000/60000 [==============================] - 4s 59us/sample - loss: 0.4590 - acc: 0.8419 - val_loss: 0.4769 - val_acc: 0.8350\n",
      "Epoch 5/10\n",
      "60000/60000 [==============================] - 3s 58us/sample - loss: 0.4475 - acc: 0.8454 - val_loss: 0.4708 - val_acc: 0.8371\n",
      "Epoch 6/10\n",
      "60000/60000 [==============================] - 3s 58us/sample - loss: 0.4403 - acc: 0.8496 - val_loss: 0.4660 - val_acc: 0.8386\n",
      "Epoch 7/10\n",
      "60000/60000 [==============================] - 4s 60us/sample - loss: 0.4352 - acc: 0.8509 - val_loss: 0.4661 - val_acc: 0.8377\n",
      "Epoch 8/10\n",
      "60000/60000 [==============================] - 4s 61us/sample - loss: 0.4294 - acc: 0.8522 - val_loss: 0.4599 - val_acc: 0.8428\n",
      "Epoch 9/10\n",
      "60000/60000 [==============================] - 4s 63us/sample - loss: 0.4261 - acc: 0.8519 - val_loss: 0.4568 - val_acc: 0.8427\n",
      "Epoch 10/10\n",
      "60000/60000 [==============================] - 4s 59us/sample - loss: 0.4234 - acc: 0.8532 - val_loss: 0.4592 - val_acc: 0.8433\n"
     ]
    },
    {
     "data": {
      "text/plain": [
       "<tensorflow.python.keras.callbacks.History at 0xb6c7a3bc50>"
      ]
     },
     "execution_count": 27,
     "metadata": {},
     "output_type": "execute_result"
    }
   ],
   "source": [
    "model2.fit(trainX, trainY, \n",
    "          validation_data=(testX, testY), \n",
    "          epochs=10,\n",
    "          batch_size=64)"
   ]
  },
  {
   "cell_type": "markdown",
   "metadata": {
    "colab_type": "text",
    "id": "j9CSqKvpOIVk",
    "slideshow": {
     "slide_type": "slide"
    }
   },
   "source": [
    "### Build the Neural Network model with 3 Dense layers with 100,100,10 neurons respectively in each layer. Use cross entropy loss function and singmoid as activation in the hidden layers and softmax as activation function in the output layer. Use sgd optimizer with learning rate 0.03."
   ]
  },
  {
   "cell_type": "code",
   "execution_count": 28,
   "metadata": {
    "colab": {},
    "colab_type": "code",
    "id": "GGAad54JOIVm"
   },
   "outputs": [],
   "source": [
    "model3 = tf.keras.models.Sequential()\n",
    "model3.add(tf.keras.layers.Reshape((784,),input_shape=(28,28,)))\n",
    "#Normalize the data\n",
    "model2.add(tf.keras.layers.BatchNormalization())"
   ]
  },
  {
   "cell_type": "code",
   "execution_count": 29,
   "metadata": {
    "colab": {},
    "colab_type": "code",
    "id": "MQ7oIymROIVp"
   },
   "outputs": [],
   "source": [
    "model3.add(tf.keras.layers.Dense(100,input_dim=8, activation='relu'))\n",
    "model3.add(tf.keras.layers.Dense(100,activation='relu'))\n",
    "model3.add(tf.keras.layers.Dense(10,activation='relu'))\n",
    "model3.add(tf.keras.layers.Dense(10, activation='softmax'))"
   ]
  },
  {
   "cell_type": "code",
   "execution_count": 30,
   "metadata": {
    "colab": {},
    "colab_type": "code",
    "id": "X-O-fFxnOIVt"
   },
   "outputs": [],
   "source": [
    "sgd = optimizers.SGD(lr=0.03)"
   ]
  },
  {
   "cell_type": "code",
   "execution_count": 31,
   "metadata": {},
   "outputs": [],
   "source": [
    "#Comile the model ((We will learn about optimizers it in the next residency))\n",
    "model3.compile(optimizer='sgd', loss='categorical_crossentropy', metrics=['accuracy'])"
   ]
  },
  {
   "cell_type": "code",
   "execution_count": 32,
   "metadata": {
    "colab": {},
    "colab_type": "code",
    "id": "BiP7IL52OIVw"
   },
   "outputs": [
    {
     "name": "stdout",
     "output_type": "stream",
     "text": [
      "Train on 60000 samples, validate on 10000 samples\n",
      "Epoch 1/10\n",
      "60000/60000 [==============================] - 5s 81us/sample - loss: 2.5513 - acc: 0.0988 - val_loss: 2.3026 - val_acc: 0.1000\n",
      "Epoch 2/10\n",
      "60000/60000 [==============================] - 4s 70us/sample - loss: 2.3026 - acc: 0.0978 - val_loss: 2.3026 - val_acc: 0.1000\n",
      "Epoch 3/10\n",
      "60000/60000 [==============================] - 4s 70us/sample - loss: 2.3026 - acc: 0.0984 - val_loss: 2.3026 - val_acc: 0.1000\n",
      "Epoch 4/10\n",
      "60000/60000 [==============================] - 4s 70us/sample - loss: 2.3026 - acc: 0.0988 - val_loss: 2.3026 - val_acc: 0.0999\n",
      "Epoch 5/10\n",
      "60000/60000 [==============================] - 4s 70us/sample - loss: 2.3026 - acc: 0.0978 - val_loss: 2.3026 - val_acc: 0.1000\n",
      "Epoch 6/10\n",
      "60000/60000 [==============================] - 4s 72us/sample - loss: 2.3026 - acc: 0.1000 - val_loss: 2.3026 - val_acc: 0.0999\n",
      "Epoch 7/10\n",
      "60000/60000 [==============================] - 4s 72us/sample - loss: 2.3026 - acc: 0.0977 - val_loss: 2.3026 - val_acc: 0.1000\n",
      "Epoch 8/10\n",
      "60000/60000 [==============================] - 4s 73us/sample - loss: 2.3026 - acc: 0.0985 - val_loss: 2.3026 - val_acc: 0.1000\n",
      "Epoch 9/10\n",
      "60000/60000 [==============================] - 4s 71us/sample - loss: 2.3026 - acc: 0.0967 - val_loss: 2.3026 - val_acc: 0.1000\n",
      "Epoch 10/10\n",
      "60000/60000 [==============================] - 4s 70us/sample - loss: 2.3026 - acc: 0.0971 - val_loss: 2.3026 - val_acc: 0.1000\n"
     ]
    },
    {
     "data": {
      "text/plain": [
       "<tensorflow.python.keras.callbacks.History at 0xb6c94dad30>"
      ]
     },
     "execution_count": 32,
     "metadata": {},
     "output_type": "execute_result"
    }
   ],
   "source": [
    "model3.fit(trainX, trainY, \n",
    "          validation_data=(testX, testY), \n",
    "          epochs=10,\n",
    "          batch_size=64)"
   ]
  },
  {
   "cell_type": "markdown",
   "metadata": {
    "colab_type": "text",
    "id": "Nr2YsZV0OIV0",
    "slideshow": {
     "slide_type": "slide"
    }
   },
   "source": [
    "## Review model"
   ]
  },
  {
   "cell_type": "code",
   "execution_count": 33,
   "metadata": {
    "colab": {},
    "colab_type": "code",
    "id": "h4ojW6-oOIV2"
   },
   "outputs": [
    {
     "name": "stdout",
     "output_type": "stream",
     "text": [
      "_________________________________________________________________\n",
      "Layer (type)                 Output Shape              Param #   \n",
      "=================================================================\n",
      "reshape_3 (Reshape)          (None, 784)               0         \n",
      "_________________________________________________________________\n",
      "dense_3 (Dense)              (None, 100)               78500     \n",
      "_________________________________________________________________\n",
      "dense_4 (Dense)              (None, 100)               10100     \n",
      "_________________________________________________________________\n",
      "dense_5 (Dense)              (None, 10)                1010      \n",
      "_________________________________________________________________\n",
      "dense_6 (Dense)              (None, 10)                110       \n",
      "=================================================================\n",
      "Total params: 89,720\n",
      "Trainable params: 89,720\n",
      "Non-trainable params: 0\n",
      "_________________________________________________________________\n"
     ]
    }
   ],
   "source": [
    "# Take a look at the model summary\n",
    "model3.summary()"
   ]
  },
  {
   "cell_type": "code",
   "execution_count": 34,
   "metadata": {},
   "outputs": [
    {
     "name": "stdout",
     "output_type": "stream",
     "text": [
      "\n",
      " Test accuracy: 0.1\n"
     ]
    }
   ],
   "source": [
    "# Evaluate the model on test set\n",
    "score = model3.evaluate(testX, testY, verbose=0)\n",
    "\n",
    "# Print test accuracy\n",
    "print('\\n', 'Test accuracy:', score[1])"
   ]
  },
  {
   "cell_type": "code",
   "execution_count": 35,
   "metadata": {},
   "outputs": [
    {
     "name": "stdout",
     "output_type": "stream",
     "text": [
      "_________________________________________________________________\n",
      "Layer (type)                 Output Shape              Param #   \n",
      "=================================================================\n",
      "reshape_2 (Reshape)          (None, 784)               0         \n",
      "_________________________________________________________________\n",
      "batch_normalization_v1_1 (Ba (None, 784)               3136      \n",
      "_________________________________________________________________\n",
      "dense_2 (Dense)              (None, 10)                7850      \n",
      "_________________________________________________________________\n",
      "batch_normalization_v1_2 (Ba (None, 10)                40        \n",
      "=================================================================\n",
      "WARNING:tensorflow:Discrepancy between trainable weights and collected trainable weights, did you set `model.trainable` without calling `model.compile` after ?\n",
      "Total params: 11,006\n",
      "Trainable params: 9,418\n",
      "Non-trainable params: 1,588\n",
      "_________________________________________________________________\n"
     ]
    }
   ],
   "source": [
    "# Take a look at the model2 summary\n",
    "model2.summary()"
   ]
  },
  {
   "cell_type": "code",
   "execution_count": 36,
   "metadata": {},
   "outputs": [
    {
     "name": "stdout",
     "output_type": "stream",
     "text": [
      "\n",
      " Test accuracy: 0.8433\n"
     ]
    }
   ],
   "source": [
    "# Evaluate the model on test set\n",
    "score = model2.evaluate(testX, testY, verbose=0)\n",
    "\n",
    "# Print test accuracy\n",
    "print('\\n', 'Test accuracy:', score[1])"
   ]
  },
  {
   "cell_type": "code",
   "execution_count": 37,
   "metadata": {},
   "outputs": [
    {
     "name": "stdout",
     "output_type": "stream",
     "text": [
      "_________________________________________________________________\n",
      "Layer (type)                 Output Shape              Param #   \n",
      "=================================================================\n",
      "reshape_1 (Reshape)          (None, 784)               0         \n",
      "_________________________________________________________________\n",
      "batch_normalization_v1 (Batc (None, 784)               3136      \n",
      "_________________________________________________________________\n",
      "dense_1 (Dense)              (None, 10)                7850      \n",
      "=================================================================\n",
      "Total params: 10,986\n",
      "Trainable params: 9,418\n",
      "Non-trainable params: 1,568\n",
      "_________________________________________________________________\n"
     ]
    }
   ],
   "source": [
    "# Take a look at the model1 summary\n",
    "model1.summary()"
   ]
  },
  {
   "cell_type": "code",
   "execution_count": 38,
   "metadata": {},
   "outputs": [
    {
     "name": "stdout",
     "output_type": "stream",
     "text": [
      "\n",
      " Test accuracy: 0.836\n"
     ]
    }
   ],
   "source": [
    "# Evaluate the model on test set\n",
    "score = model1.evaluate(testX, testY, verbose=0)\n",
    "\n",
    "# Print test accuracy\n",
    "print('\\n', 'Test accuracy:', score[1])"
   ]
  },
  {
   "cell_type": "code",
   "execution_count": 39,
   "metadata": {},
   "outputs": [
    {
     "name": "stdout",
     "output_type": "stream",
     "text": [
      "_________________________________________________________________\n",
      "Layer (type)                 Output Shape              Param #   \n",
      "=================================================================\n",
      "reshape (Reshape)            (None, 784)               0         \n",
      "_________________________________________________________________\n",
      "dense (Dense)                (None, 10)                7850      \n",
      "=================================================================\n",
      "Total params: 7,850\n",
      "Trainable params: 7,850\n",
      "Non-trainable params: 0\n",
      "_________________________________________________________________\n"
     ]
    }
   ],
   "source": [
    "# Take a look at the model summary\n",
    "model.summary()"
   ]
  },
  {
   "cell_type": "code",
   "execution_count": 40,
   "metadata": {},
   "outputs": [
    {
     "name": "stdout",
     "output_type": "stream",
     "text": [
      "\n",
      " Test accuracy: 0.1985\n"
     ]
    }
   ],
   "source": [
    "# Evaluate the model on test set\n",
    "score = model.evaluate(testX, testY, verbose=0)\n",
    "\n",
    "# Print test accuracy\n",
    "print('\\n', 'Test accuracy:', score[1])"
   ]
  },
  {
   "cell_type": "markdown",
   "metadata": {
    "colab_type": "text",
    "id": "gfFGmbZLOIV5",
    "slideshow": {
     "slide_type": "slide"
    }
   },
   "source": [
    "### Run the model"
   ]
  },
  {
   "cell_type": "code",
   "execution_count": 44,
   "metadata": {},
   "outputs": [],
   "source": [
    "y_hat = model2.predict(testX)"
   ]
  },
  {
   "cell_type": "code",
   "execution_count": 45,
   "metadata": {},
   "outputs": [
    {
     "data": {
      "image/png": "[encoded data removed]",
      "text/plain": [
       "<Figure size 1440x576 with 15 Axes>"
      ]
     },
     "metadata": {},
     "output_type": "display_data"
    }
   ],
   "source": [
    "# Plot a random sample of 10 test images, their predicted labels and ground truth\n",
    "figure = plt.figure(figsize=(20, 8))\n",
    "for i, index in enumerate(np.random.choice(testX.shape[0], size=15, replace=False)):\n",
    "    ax = figure.add_subplot(3, 5, i + 1, xticks=[], yticks=[])\n",
    "    # Display each image\n",
    "    ax.imshow(np.squeeze(testX[index]))\n",
    "    predict_index = np.argmax(y_hat[index])\n",
    "    true_index = np.argmax(testY[index])"
   ]
  },
  {
   "cell_type": "code",
   "execution_count": null,
   "metadata": {},
   "outputs": [],
   "source": []
  }
 ],
 "metadata": {
  "colab": {
   "name": "R6_ExternalLab_AIML.ipynb",
   "provenance": [],
   "version": "0.3.2"
  },
  "kernelspec": {
   "display_name": "Python 3",
   "language": "python",
   "name": "python3"
  },
  "language_info": {
   "codemirror_mode": {
    "name": "ipython",
    "version": 3
   },
   "file_extension": ".py",
   "mimetype": "text/x-python",
   "name": "python",
   "nbconvert_exporter": "python",
   "pygments_lexer": "ipython3",
   "version": "3.6.5"
  }
 },
 "nbformat": 4,
 "nbformat_minor": 1
}
