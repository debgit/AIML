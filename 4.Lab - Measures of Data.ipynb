{
 "cells": [
  {
   "cell_type": "markdown",
   "metadata": {},
   "source": [
    "## Lab Brief - Statistical Learning with Python"
   ]
  },
  {
   "cell_type": "markdown",
   "metadata": {},
   "source": [
    "### Part-1"
   ]
  },
  {
   "cell_type": "markdown",
   "metadata": {},
   "source": [
    "## Measures of Data"
   ]
  },
  {
   "cell_type": "markdown",
   "metadata": {},
   "source": [
    "Descriptive Statistcs are measures that summarize important features of data. Producing these descriptive statistics is a common first step to take after cleaning and preparing a dataset for further analysis. Examples are like calculating Mean or Median. In this lab, we will be looking into some of these functions and explore several new ones."
   ]
  },
  {
   "cell_type": "markdown",
   "metadata": {},
   "source": [
    "#### Measures of Central Tendency"
   ]
  },
  {
   "cell_type": "markdown",
   "metadata": {},
   "source": [
    "Whenever you measure things of the same kind, a fairly large number of such measurements will tend to cluster around the middle value. Such a value is called a measure of \"Central Tendency\". The other terms that are used synonymously are \"Measures of Location\", or \"Statistical Averages\". "
   ]
  },
  {
   "cell_type": "code",
   "execution_count": 1,
   "metadata": {},
   "outputs": [],
   "source": [
    "import numpy as np\n",
    "import pandas as pd\n",
    "import matplotlib.pyplot as plt\n",
    "\n",
    "mtcars = pd.read_csv('mtcars.csv')"
   ]
  },
  {
   "cell_type": "markdown",
   "metadata": {},
   "source": [
    "##### Using the mtcars dataset.\n",
    "\n",
    "For the below set of questions, we will be using the cars data from [Motor Trend Car Road Tests](http://stat.ethz.ch/R-manual/R-devel/library/datasets/html/mtcars.html)\n",
    "\n",
    "The data was extracted from the 1974 Motor Trend US magazine, and comprises fuel consumption and 10 aspects of automobile design and performance for 32 automobiles (1973–74 models). \n",
    "\n",
    "\n",
    "Details :\n",
    "    \n",
    "A data frame with 32 observations on 11 (numeric) variables.\n",
    "\n",
    "[, 1] \tmpg \tMiles/(US) gallon\n",
    "\n",
    "[, 2] \tcyl \tNumber of cylinders\n",
    "\n",
    "[, 3] \tdisp \tDisplacement (cu.in.)\n",
    "\n",
    "[, 4] \thp \tGross horsepower\n",
    "\n",
    "[, 5] \tdrat \tRear axle ratio\n",
    "\n",
    "[, 6] \twt \tWeight (1000 lbs)\n",
    "\n",
    "[, 7] \tqsec \t1/4 mile time\n",
    "\n",
    "[, 8] \tvs \tEngine (0 = V-shaped, 1 = straight)\n",
    "\n",
    "[, 9] \tam \tTransmission (0 = automatic, 1 = manual)\n",
    "\n",
    "[,10] \tgear \tNumber of forward gears\n",
    "\n",
    "[,11] \tcarb \tNumber of carburetors "
   ]
  },
  {
   "cell_type": "markdown",
   "metadata": {},
   "source": [
    "#### Explore the data - Setting the index"
   ]
  },
  {
   "cell_type": "code",
   "execution_count": 2,
   "metadata": {},
   "outputs": [
    {
     "data": {
      "text/html": [
       "<div>\n",
       "<style scoped>\n",
       "    .dataframe tbody tr th:only-of-type {\n",
       "        vertical-align: middle;\n",
       "    }\n",
       "\n",
       "    .dataframe tbody tr th {\n",
       "        vertical-align: top;\n",
       "    }\n",
       "\n",
       "    .dataframe thead th {\n",
       "        text-align: right;\n",
       "    }\n",
       "</style>\n",
       "<table border=\"1\" class=\"dataframe\">\n",
       "  <thead>\n",
       "    <tr style=\"text-align: right;\">\n",
       "      <th></th>\n",
       "      <th>name</th>\n",
       "      <th>mpg</th>\n",
       "      <th>cyl</th>\n",
       "      <th>disp</th>\n",
       "      <th>hp</th>\n",
       "      <th>drat</th>\n",
       "      <th>wt</th>\n",
       "      <th>qsec</th>\n",
       "      <th>vs</th>\n",
       "      <th>am</th>\n",
       "      <th>gear</th>\n",
       "      <th>carb</th>\n",
       "    </tr>\n",
       "    <tr>\n",
       "      <th>name</th>\n",
       "      <th></th>\n",
       "      <th></th>\n",
       "      <th></th>\n",
       "      <th></th>\n",
       "      <th></th>\n",
       "      <th></th>\n",
       "      <th></th>\n",
       "      <th></th>\n",
       "      <th></th>\n",
       "      <th></th>\n",
       "      <th></th>\n",
       "      <th></th>\n",
       "    </tr>\n",
       "  </thead>\n",
       "  <tbody>\n",
       "    <tr>\n",
       "      <th>Mazda RX4</th>\n",
       "      <td>Mazda RX4</td>\n",
       "      <td>21.0</td>\n",
       "      <td>6</td>\n",
       "      <td>160.0</td>\n",
       "      <td>110</td>\n",
       "      <td>3.90</td>\n",
       "      <td>2.620</td>\n",
       "      <td>16.46</td>\n",
       "      <td>0</td>\n",
       "      <td>1</td>\n",
       "      <td>4</td>\n",
       "      <td>4</td>\n",
       "    </tr>\n",
       "    <tr>\n",
       "      <th>Mazda RX4 Wag</th>\n",
       "      <td>Mazda RX4 Wag</td>\n",
       "      <td>21.0</td>\n",
       "      <td>6</td>\n",
       "      <td>160.0</td>\n",
       "      <td>110</td>\n",
       "      <td>3.90</td>\n",
       "      <td>2.875</td>\n",
       "      <td>17.02</td>\n",
       "      <td>0</td>\n",
       "      <td>1</td>\n",
       "      <td>4</td>\n",
       "      <td>4</td>\n",
       "    </tr>\n",
       "    <tr>\n",
       "      <th>Datsun 710</th>\n",
       "      <td>Datsun 710</td>\n",
       "      <td>22.8</td>\n",
       "      <td>4</td>\n",
       "      <td>108.0</td>\n",
       "      <td>93</td>\n",
       "      <td>3.85</td>\n",
       "      <td>2.320</td>\n",
       "      <td>18.61</td>\n",
       "      <td>1</td>\n",
       "      <td>1</td>\n",
       "      <td>4</td>\n",
       "      <td>1</td>\n",
       "    </tr>\n",
       "    <tr>\n",
       "      <th>Hornet 4 Drive</th>\n",
       "      <td>Hornet 4 Drive</td>\n",
       "      <td>21.4</td>\n",
       "      <td>6</td>\n",
       "      <td>258.0</td>\n",
       "      <td>110</td>\n",
       "      <td>3.08</td>\n",
       "      <td>3.215</td>\n",
       "      <td>19.44</td>\n",
       "      <td>1</td>\n",
       "      <td>0</td>\n",
       "      <td>3</td>\n",
       "      <td>1</td>\n",
       "    </tr>\n",
       "    <tr>\n",
       "      <th>Hornet Sportabout</th>\n",
       "      <td>Hornet Sportabout</td>\n",
       "      <td>18.7</td>\n",
       "      <td>8</td>\n",
       "      <td>360.0</td>\n",
       "      <td>175</td>\n",
       "      <td>3.15</td>\n",
       "      <td>3.440</td>\n",
       "      <td>17.02</td>\n",
       "      <td>0</td>\n",
       "      <td>0</td>\n",
       "      <td>3</td>\n",
       "      <td>2</td>\n",
       "    </tr>\n",
       "  </tbody>\n",
       "</table>\n",
       "</div>"
      ],
      "text/plain": [
       "                                name   mpg  cyl   disp   hp  drat     wt  \\\n",
       "name                                                                       \n",
       "Mazda RX4                  Mazda RX4  21.0    6  160.0  110  3.90  2.620   \n",
       "Mazda RX4 Wag          Mazda RX4 Wag  21.0    6  160.0  110  3.90  2.875   \n",
       "Datsun 710                Datsun 710  22.8    4  108.0   93  3.85  2.320   \n",
       "Hornet 4 Drive        Hornet 4 Drive  21.4    6  258.0  110  3.08  3.215   \n",
       "Hornet Sportabout  Hornet Sportabout  18.7    8  360.0  175  3.15  3.440   \n",
       "\n",
       "                    qsec  vs  am  gear  carb  \n",
       "name                                          \n",
       "Mazda RX4          16.46   0   1     4     4  \n",
       "Mazda RX4 Wag      17.02   0   1     4     4  \n",
       "Datsun 710         18.61   1   1     4     1  \n",
       "Hornet 4 Drive     19.44   1   0     3     1  \n",
       "Hornet Sportabout  17.02   0   0     3     2  "
      ]
     },
     "execution_count": 2,
     "metadata": {},
     "output_type": "execute_result"
    }
   ],
   "source": [
    "mtcars.index = mtcars[\"name\"]\n",
    "mtcars.head()\n",
    "# mtcars.mean() #By default this will give the mean of each column"
   ]
  },
  {
   "cell_type": "markdown",
   "metadata": {},
   "source": [
    "### Question 1\n",
    "\n",
    "What is the first car name given in mtcars?\n",
    "\n",
    "** Make use of index which has been set previously **\n",
    "\n",
    "**Hint**: Use .loc function\n"
   ]
  },
  {
   "cell_type": "code",
   "execution_count": 19,
   "metadata": {
    "scrolled": true
   },
   "outputs": [
    {
     "data": {
      "text/plain": [
       "'Mazda RX4'"
      ]
     },
     "execution_count": 19,
     "metadata": {},
     "output_type": "execute_result"
    }
   ],
   "source": [
    "mtcars.iloc[0,0]"
   ]
  },
  {
   "cell_type": "markdown",
   "metadata": {},
   "source": [
    "### Question 2\n",
    "What is the highest difference between the hp and cyl?\n",
    "\n",
    "**Hint:** You can use **max()** function to find the difference"
   ]
  },
  {
   "cell_type": "code",
   "execution_count": 24,
   "metadata": {},
   "outputs": [
    {
     "name": "stdout",
     "output_type": "stream",
     "text": [
      "327\n"
     ]
    }
   ],
   "source": [
    "diff=mtcars.iloc[0:,4].max()-mtcars.iloc[0:,2].max()\n",
    "print(diff)"
   ]
  },
  {
   "cell_type": "markdown",
   "metadata": {},
   "source": [
    "### Question 3\n",
    "What are the cars having highest weight(wt) and lowest weight(wt)?\n",
    "\n",
    "**Hint:** Use idxmax() and idxmin() to locate the row\n",
    "\n",
    "Use **.iloc** function to print the  row\n",
    "\n",
    "**Note:** Both idxmax and idxmin belong to pandas"
   ]
  },
  {
   "cell_type": "code",
   "execution_count": 31,
   "metadata": {},
   "outputs": [
    {
     "name": "stdout",
     "output_type": "stream",
     "text": [
      "Lincoln Continental\n",
      "Lotus Europa\n"
     ]
    }
   ],
   "source": [
    "maxweight=mtcars.iloc[:,6].idxmax()\n",
    "minweight=mtcars.iloc[:,6].idxmin()\n",
    "print(maxweight)\n",
    "print(minweight)"
   ]
  },
  {
   "cell_type": "code",
   "execution_count": null,
   "metadata": {},
   "outputs": [],
   "source": []
  },
  {
   "cell_type": "markdown",
   "metadata": {},
   "source": [
    "### Question 4\n",
    "\n",
    "Find the mean of each row and each column in the given dataset.\n",
    "\n",
    "**Hint:** Use .mean() function. To operate on rows use **axis=0**, on columns use **axis=1**"
   ]
  },
  {
   "cell_type": "code",
   "execution_count": 37,
   "metadata": {},
   "outputs": [
    {
     "data": {
      "text/plain": [
       "name    (1.4603023323908e-308+5.285034235535632e-308j)\n",
       "mpg                            (20.090624999999996+0j)\n",
       "cyl                                        (6.1875+0j)\n",
       "disp                           (230.72187500000004+0j)\n",
       "hp                                       (146.6875+0j)\n",
       "drat                           (3.5965625000000006+0j)\n",
       "wt                             (3.2172499999999995+0j)\n",
       "qsec                           (17.848750000000003+0j)\n",
       "vs                                         (0.4375+0j)\n",
       "am                                        (0.40625+0j)\n",
       "gear                                       (3.6875+0j)\n",
       "carb                                       (2.8125+0j)\n",
       "dtype: complex128"
      ]
     },
     "execution_count": 37,
     "metadata": {},
     "output_type": "execute_result"
    }
   ],
   "source": [
    "mtcars.mean(axis=0)"
   ]
  },
  {
   "cell_type": "code",
   "execution_count": 38,
   "metadata": {},
   "outputs": [
    {
     "data": {
      "text/plain": [
       "name\n",
       "Mazda RX4              29.907273\n",
       "Mazda RX4 Wag          29.981364\n",
       "Datsun 710             23.598182\n",
       "Hornet 4 Drive         38.739545\n",
       "Hornet Sportabout      53.664545\n",
       "Valiant                35.049091\n",
       "Duster 360             59.720000\n",
       "Merc 240D              24.634545\n",
       "Merc 230               27.233636\n",
       "Merc 280               31.860000\n",
       "Merc 280C              31.787273\n",
       "Merc 450SE             46.430909\n",
       "Merc 450SL             46.500000\n",
       "Merc 450SLC            46.350000\n",
       "Cadillac Fleetwood     66.232727\n",
       "Lincoln Continental    66.058545\n",
       "Chrysler Imperial      65.972273\n",
       "Fiat 128               19.440909\n",
       "Honda Civic            17.742273\n",
       "Toyota Corolla         18.814091\n",
       "Toyota Corona          24.888636\n",
       "Dodge Challenger       47.240909\n",
       "AMC Javelin            46.007727\n",
       "Camaro Z28             58.752727\n",
       "Pontiac Firebird       57.379545\n",
       "Fiat X1-9              18.928636\n",
       "Porsche 914-2          24.779091\n",
       "Lotus Europa           24.880273\n",
       "Ford Pantera L         60.971818\n",
       "Ferrari Dino           34.508182\n",
       "Maserati Bora          63.155455\n",
       "Volvo 142E             26.262727\n",
       "dtype: float64"
      ]
     },
     "execution_count": 38,
     "metadata": {},
     "output_type": "execute_result"
    }
   ],
   "source": [
    "mtcars.mean(axis=1)"
   ]
  },
  {
   "cell_type": "markdown",
   "metadata": {},
   "source": [
    "### Question 5\n",
    "\n",
    "Plot mpg values of mtcards dataframe using matplotlib.\n",
    "\n",
    "**Hint: Use plt.plot function**"
   ]
  },
  {
   "cell_type": "code",
   "execution_count": 42,
   "metadata": {},
   "outputs": [
    {
     "data": {
      "image/png": "[encoded data removed]",
      "text/plain": [
       "<Figure size 432x288 with 1 Axes>"
      ]
     },
     "metadata": {
      "needs_background": "light"
     },
     "output_type": "display_data"
    }
   ],
   "source": [
    "plt.plot(mtcars[\"mpg\"]);"
   ]
  },
  {
   "cell_type": "markdown",
   "metadata": {},
   "source": [
    "## Part 2"
   ]
  },
  {
   "cell_type": "markdown",
   "metadata": {},
   "source": [
    "## Measures of Dispersion"
   ]
  },
  {
   "cell_type": "markdown",
   "metadata": {},
   "source": [
    "Measures of Dispersion (Spread) are statistics that describe how data varies. Measure of dispersion gives us the sense of how much the data tends to diverge from the central tendency."
   ]
  },
  {
   "cell_type": "markdown",
   "metadata": {},
   "source": [
    "### Question 6\n",
    "\n",
    "What the range of `mpg` in the given dataset?\n",
    "\n",
    "**Hint:** Range = max-min"
   ]
  },
  {
   "cell_type": "code",
   "execution_count": 44,
   "metadata": {},
   "outputs": [
    {
     "name": "stdout",
     "output_type": "stream",
     "text": [
      "23.5\n"
     ]
    }
   ],
   "source": [
    "range=mtcars[\"mpg\"].max()-mtcars[\"mpg\"].min()\n",
    "print(range)"
   ]
  },
  {
   "cell_type": "markdown",
   "metadata": {},
   "source": [
    "### Question 7\n",
    "\n",
    "Calculate the 25th quantile (lower quantile)for `mpg` in the given dataset.\n",
    "\n",
    "**Hint:** Use **.quantile()**"
   ]
  },
  {
   "cell_type": "code",
   "execution_count": 54,
   "metadata": {},
   "outputs": [
    {
     "name": "stdout",
     "output_type": "stream",
     "text": [
      "15.425\n"
     ]
    }
   ],
   "source": [
    "quant=mtcars[\"mpg\"].quantile(q=0.25)\n",
    "print(quant)"
   ]
  },
  {
   "cell_type": "markdown",
   "metadata": {},
   "source": [
    "### Question 8\n",
    "\n",
    "Calculate the Inter-Quartile Range(IQR) for `mpg` in the given dataset."
   ]
  },
  {
   "cell_type": "markdown",
   "metadata": {},
   "source": [
    "Interquartile range (IQR) is another common measure of spread. IQR is the distance between the 3rd quartile and the 1st quartile.\n",
    "\n",
    "**Hint:** IQR = Q3 - Q1"
   ]
  },
  {
   "cell_type": "code",
   "execution_count": 58,
   "metadata": {},
   "outputs": [
    {
     "name": "stdout",
     "output_type": "stream",
     "text": [
      "15.425\n",
      "22.8\n",
      "7.375\n"
     ]
    }
   ],
   "source": [
    "lowquant=mtcars[\"mpg\"].quantile(q=0.25)\n",
    "highquant=mtcars[\"mpg\"].quantile(q=0.75)\n",
    "print(lowquant)\n",
    "print(highquant)\n",
    "IQR=highquant-lowquant\n",
    "print(IQR)"
   ]
  },
  {
   "cell_type": "markdown",
   "metadata": {},
   "source": [
    "### Question 9\n",
    "\n",
    "Calculate the Variance, Standard Deviation and Median Absolute Deviation for `mpg`."
   ]
  },
  {
   "cell_type": "markdown",
   "metadata": {},
   "source": [
    "Variance and Standard Deviation are two other common measure of dispersion.\n",
    "\n",
    "**Hint:** Use .var() and .std()"
   ]
  },
  {
   "cell_type": "markdown",
   "metadata": {},
   "source": [
    "**Hint:** Median Absolute Deviation - alternative measure of spread based on the median. It is the median of the absolute value of the deviations from the median. "
   ]
  },
  {
   "cell_type": "code",
   "execution_count": 60,
   "metadata": {},
   "outputs": [
    {
     "name": "stdout",
     "output_type": "stream",
     "text": [
      "36.32410282258065\n",
      "6.026948052089105\n"
     ]
    },
    {
     "data": {
      "text/plain": [
       "mpg       4.714453\n",
       "cyl       1.585938\n",
       "disp    108.785742\n",
       "hp       56.480469\n",
       "drat      0.453242\n",
       "wt        0.730187\n",
       "qsec      1.376172\n",
       "vs        0.492188\n",
       "am        0.482422\n",
       "gear      0.644531\n",
       "carb      1.300781\n",
       "dtype: float64"
      ]
     },
     "execution_count": 60,
     "metadata": {},
     "output_type": "execute_result"
    }
   ],
   "source": [
    "var=mtcars[\"mpg\"].var()\n",
    "std=mtcars[\"mpg\"].std()\n",
    "print(var)\n",
    "print(std)\n",
    "mtcars.mad(axis=None, skipna=None, level=None)"
   ]
  },
  {
   "cell_type": "code",
   "execution_count": null,
   "metadata": {},
   "outputs": [],
   "source": []
  },
  {
   "cell_type": "markdown",
   "metadata": {},
   "source": [
    "## Part 3"
   ]
  },
  {
   "cell_type": "markdown",
   "metadata": {},
   "source": [
    "## Probability Distributions"
   ]
  },
  {
   "cell_type": "markdown",
   "metadata": {},
   "source": [
    "The probability distribution describes how a random variable is distributed. It tells us which values a variable is most likely to take on and which values are less likely to take on. "
   ]
  },
  {
   "cell_type": "markdown",
   "metadata": {},
   "source": [
    "Each value in the given range is equally likely to occur. "
   ]
  },
  {
   "cell_type": "code",
   "execution_count": 61,
   "metadata": {},
   "outputs": [],
   "source": [
    "import scipy.stats as stats # Many functions for probability distributions in python are in scipy.stats"
   ]
  },
  {
   "cell_type": "markdown",
   "metadata": {},
   "source": [
    "### Question 10\n",
    "\n",
    "Generate 1000 datapoints with standard normal distribution with mean 0 and standard deviation 1. "
   ]
  },
  {
   "cell_type": "markdown",
   "metadata": {},
   "source": [
    "#### Normal Distribution"
   ]
  },
  {
   "cell_type": "markdown",
   "metadata": {},
   "source": [
    "The normal or Gaussian Distribution is a continuos probability distribution given by a symmetric bell shaped curve. It is defined its center(mean) and spread(std)."
   ]
  },
  {
   "cell_type": "markdown",
   "metadata": {},
   "source": [
    "The bulk of the observations generated from a normal distribution lie near the mean which lies at the center. About 68% of the data lies within 1 std, 95% lies within 2 stds and 99.7% lies within 3 stds.\n",
    "\n",
    "**Hint:** You can use **np.random.normal()** function to generate normal distribution"
   ]
  },
  {
   "cell_type": "code",
   "execution_count": 66,
   "metadata": {},
   "outputs": [
    {
     "data": {
      "text/plain": [
       "array([ 6.94936848e-01, -6.36430612e-01,  2.37987863e+00,  1.04252154e+00,\n",
       "        1.45672748e+00,  1.75283390e-02,  3.28399374e-01, -4.41333952e-01,\n",
       "       -2.65364246e-01, -9.38861369e-01,  1.15239257e+00, -2.40502643e+00,\n",
       "       -4.76888592e-01,  1.27468912e-01,  3.78333400e-01, -4.73112129e-01,\n",
       "        8.38442842e-01, -3.83187728e-01,  1.19794822e+00, -9.64688480e-01,\n",
       "       -1.92152716e-02, -8.55094277e-01,  8.07526104e-02,  1.15066107e+00,\n",
       "        6.42213870e-01,  4.56949636e-01,  2.76722219e-02,  2.25173855e-01,\n",
       "        4.00070142e-01,  1.90382574e+00,  2.26762575e-01, -7.62813462e-01,\n",
       "        2.21025809e+00, -5.15342824e-01, -1.30608358e+00,  1.46016484e-01,\n",
       "       -1.46297333e+00,  1.31257047e+00,  5.65730010e-01, -6.82253787e-01,\n",
       "        8.79000315e-01,  8.11196986e-01,  7.05451787e-01, -5.69260554e-01,\n",
       "        6.38123344e-02, -7.18132596e-04,  4.85672869e-01, -2.59169028e-01,\n",
       "        1.83552046e+00, -7.13955213e-01,  1.86279154e-02,  1.69878316e-02,\n",
       "       -1.06808000e+00, -2.09048234e-01,  2.56050788e-01,  2.29176117e-01,\n",
       "        2.51770208e-01,  7.70004562e-01, -6.63530870e-01,  4.23093076e-01,\n",
       "        9.67783278e-01,  1.39297768e+00, -1.16796104e-01, -2.73542897e-01,\n",
       "       -1.31639999e+00,  1.99011061e+00, -6.43627705e-02,  2.07524297e-01,\n",
       "       -7.44785296e-01,  1.04123852e+00,  4.66714757e-01,  8.74346457e-01,\n",
       "       -3.31315249e-01,  1.47909922e-01,  8.94672955e-01,  1.05794100e+00,\n",
       "        4.55405354e-01, -8.63425111e-01, -6.10304749e-02,  2.74268671e-01,\n",
       "       -7.48703440e-01, -2.84618936e-02,  4.02573647e-01,  1.86935473e-02,\n",
       "        3.80523447e-01, -2.26379238e-01, -3.90865245e-01,  3.21288536e-01,\n",
       "       -3.01979505e-01,  2.95227500e-01, -1.17526440e+00,  4.55316384e-02,\n",
       "        1.29116217e+00,  8.88383056e-01, -4.49071618e-01, -1.86352630e-01,\n",
       "        1.33401268e+00,  2.26515551e+00, -5.65367892e-01, -1.15352878e+00,\n",
       "        5.11535694e-01, -4.41895123e-01,  5.50826832e-01,  1.11131878e+00,\n",
       "       -1.91660684e+00, -8.38219264e-01,  2.61987398e-02, -4.77278530e-01,\n",
       "        5.75005700e-01,  2.41391451e+00, -2.83727124e-01,  3.83776664e-01,\n",
       "        1.10148592e-01, -1.25341484e-01,  6.25812324e-01,  2.08197247e+00,\n",
       "       -1.11144171e+00,  5.83419640e-01, -4.49678221e-01,  1.75972745e+00,\n",
       "       -6.34012242e-01,  8.87036452e-01, -4.79845302e-01, -3.55771437e-01,\n",
       "       -2.22630166e-01,  2.12865206e+00,  8.59047894e-01, -1.18962106e+00,\n",
       "        1.66136169e-02, -9.11814821e-01, -1.08199878e+00, -1.30349058e+00,\n",
       "        1.76573752e+00,  1.56274559e+00,  1.24039804e+00,  6.78516618e-01,\n",
       "        6.39366881e-01, -3.28697317e-01, -1.68771724e+00, -7.89575750e-01,\n",
       "        7.74066813e-01,  1.75569762e-01, -9.74646648e-01, -4.22202679e-01,\n",
       "        9.91459116e-01, -1.00622509e+00,  3.70122769e-01,  3.46733842e-01,\n",
       "        1.55194956e-01, -5.32380575e-01,  8.17997788e-03, -4.98121647e-02,\n",
       "       -1.29073369e-01, -1.69026888e+00, -4.46396034e-01, -1.22889114e-01,\n",
       "        1.61769664e-01,  3.29664824e-01,  1.51180178e+00,  1.05835731e+00,\n",
       "       -1.01638069e+00,  7.93867164e-02,  1.13029829e+00, -1.28743565e+00,\n",
       "        4.67915300e-01, -8.72839667e-01, -6.90269438e-01, -1.14654103e+00,\n",
       "        1.02856819e+00, -1.24256650e+00,  2.14093239e+00, -6.98654819e-01,\n",
       "        4.16157384e-01,  3.04588576e-01, -3.67685103e-01, -9.22820853e-02,\n",
       "        8.12978819e-01,  1.32348656e+00,  4.16230940e-01,  1.07891160e-01,\n",
       "        2.78597734e-01, -6.56011499e-01,  1.56132934e+00,  2.83331187e-01,\n",
       "       -6.06428619e-01, -6.67137296e-01,  1.15533483e-01,  9.02263878e-01,\n",
       "       -2.88366787e-01,  9.32516633e-01,  6.96935115e-01, -2.15635095e-01,\n",
       "        4.74726138e-01, -7.45240058e-01, -1.47289040e+00,  2.04376101e+00,\n",
       "       -3.84131308e-01,  1.55884583e+00, -7.57972935e-01, -1.62201260e+00,\n",
       "        6.08769740e-01,  1.07356612e+00, -1.12218688e+00,  6.76107224e-01,\n",
       "        1.01128339e+00,  1.07026231e+00,  6.98758270e-01,  2.00838478e-01,\n",
       "       -1.93339514e-03, -3.60027411e-03,  3.89018814e-01,  9.26408423e-01,\n",
       "        2.04392054e-01,  6.90612725e-01, -1.56744178e+00, -1.52173259e+00,\n",
       "       -7.70813066e-01,  2.29832711e-01, -3.18943609e-01, -8.45424704e-01,\n",
       "        8.78496549e-02, -1.02290878e+00,  7.76292616e-02,  9.45399698e-01,\n",
       "        1.66316857e+00,  7.36066898e-01, -9.68130924e-01,  1.22195105e+00,\n",
       "        2.23684327e-01, -1.04165295e+00, -7.26559734e-01, -1.48022953e+00,\n",
       "        1.08962899e+00, -5.90053868e-01, -1.88683750e+00,  6.06464100e-01,\n",
       "       -1.02396157e-01,  1.42665074e+00, -6.64766064e-01, -1.07730293e+00,\n",
       "       -4.35723496e-01, -1.26086247e+00,  2.71725180e-01, -4.86286512e-01,\n",
       "        3.23473402e-01, -1.02694140e+00,  6.62084593e-01, -4.23480609e-01,\n",
       "       -9.34476349e-01,  1.95056390e+00,  1.34622301e-01,  1.20715690e+00,\n",
       "       -5.86445900e-01, -2.33741929e+00,  5.92207429e-01,  9.26602217e-01,\n",
       "        1.87720694e+00,  9.68822981e-01, -3.41521567e-01,  3.28447446e-01,\n",
       "       -1.18184805e+00, -2.88096831e-01, -2.17909450e+00,  8.15776754e-01,\n",
       "        5.32696495e-01,  1.99601580e+00, -2.47844147e-01,  6.85518324e-01,\n",
       "        7.18150401e-01,  1.37623864e+00, -5.37793197e-02,  3.35900338e-01,\n",
       "        4.78754569e-01, -1.17015850e+00,  6.73337759e-01, -9.85385004e-01,\n",
       "       -4.24010864e-01,  1.06199427e+00, -4.52665165e-01, -3.58177287e-01,\n",
       "       -6.05184099e-01, -4.90568157e-01,  1.08339713e+00, -8.57530705e-02,\n",
       "       -5.08948329e-01, -4.38661362e-01, -4.17482988e-01,  1.44030252e+00,\n",
       "       -1.78292992e-01, -4.87753764e-02, -1.20071659e+00, -2.08539534e+00,\n",
       "       -1.06188146e+00,  8.16450147e-01, -7.42054063e-02,  1.27235034e+00,\n",
       "       -1.33903985e-01, -7.57197777e-01, -1.70590043e+00,  1.52774248e+00,\n",
       "        1.16810624e-01,  5.49581888e-01,  1.82768429e+00,  2.47505788e+00,\n",
       "       -7.51673198e-01, -2.10779251e-01,  2.21514766e+00,  8.64096210e-02,\n",
       "       -6.63916838e-01, -1.56629424e+00, -4.09211919e-01, -3.84752017e-01,\n",
       "       -2.54143272e-02,  3.08519661e-01,  5.03101443e-02,  6.69108781e-01,\n",
       "       -1.07344013e+00,  2.35450635e+00, -1.09400162e+00, -5.13016178e-03,\n",
       "        1.81869277e+00, -2.16499280e+00, -1.13817124e+00,  3.85430490e-01,\n",
       "        8.70527712e-01, -2.32355212e+00,  2.11274053e+00,  1.38647046e-01,\n",
       "       -5.10030212e-01,  2.15128513e-01, -1.39014210e+00,  4.90386128e-02,\n",
       "        8.81414341e-02,  3.49698176e+00, -1.68223473e-01,  8.04135676e-01,\n",
       "        8.25987823e-01,  1.69225884e+00, -5.27825984e-01,  2.20596872e+00,\n",
       "        4.77069956e-01,  1.47156390e+00, -6.55916978e-02, -3.04742649e-01,\n",
       "        2.99755811e+00, -1.27691992e+00, -4.81817608e-01, -1.33543814e+00,\n",
       "       -1.21741851e-01, -8.02448621e-01, -1.40581777e+00, -8.74813433e-01,\n",
       "        1.93371214e-02, -1.45627389e-01, -8.65227449e-01,  2.05489138e-01,\n",
       "       -1.19485340e-01, -9.26290250e-01, -6.36549423e-01,  1.24354144e+00,\n",
       "        2.70847575e-01, -4.64995089e-01,  1.05647585e+00, -9.95982860e-01,\n",
       "        5.47288793e-01,  4.83304326e-02, -5.01070879e-01, -4.89619102e-01,\n",
       "        8.25309715e-01,  9.01221029e-01,  3.43245278e-01, -4.68815098e-01,\n",
       "       -1.38784359e+00,  1.13761943e+00,  1.59171535e-01,  9.85497937e-01,\n",
       "       -1.27201155e+00, -1.12506542e+00, -2.69046246e-01, -5.11221792e-01,\n",
       "        2.83996573e-01,  9.78837221e-01,  8.42083477e-01, -4.57265775e-01,\n",
       "       -6.51482771e-01,  5.03036849e-01,  1.53191237e+00,  8.12767410e-01,\n",
       "        2.01690318e+00, -5.76551507e-01,  2.16616196e-01,  1.34220438e-01,\n",
       "        1.77063919e-01,  4.20065866e-01,  1.02278678e-01, -7.46958725e-01,\n",
       "        9.98389876e-01,  1.44071977e-01, -1.41640669e+00, -8.80067296e-01,\n",
       "        1.56222153e+00, -1.04287521e+00, -7.30090366e-02,  5.82620991e-02,\n",
       "       -1.58765044e+00, -6.63172334e-01, -1.11883613e-01, -1.35602828e+00,\n",
       "       -1.05828676e+00, -1.23657114e+00,  1.95342206e-01, -8.85965899e-01,\n",
       "       -1.50247655e+00,  2.00851082e-01,  4.05659852e-01, -2.25885032e-01,\n",
       "        7.43619834e-01,  1.93410906e+00,  6.55567611e-01, -7.92363300e-01,\n",
       "        8.17298688e-01,  5.47796109e-01, -1.08281735e+00,  1.95093858e-01,\n",
       "        1.59092524e-01,  3.03718761e-01,  6.56668137e-01,  1.08636826e-01,\n",
       "        4.22223323e-01, -4.27501448e-01,  4.53750638e-02, -9.53887003e-01,\n",
       "        1.50121753e+00, -1.31167919e+00,  1.85380354e-01, -8.64799437e-01,\n",
       "       -3.78993122e-01, -4.06167712e-01, -2.50003533e+00,  4.66907846e-01,\n",
       "        1.56337776e+00, -7.63313284e-01, -9.20145409e-01, -7.46418551e-01,\n",
       "       -4.52008037e-01,  8.59916172e-01,  9.28911280e-01, -5.67718500e-01,\n",
       "        4.08989532e-01,  2.69753722e-01, -6.27959532e-01,  7.81475863e-02,\n",
       "        9.17733816e-01, -1.25540078e+00, -1.76463735e-01,  1.05662455e+00,\n",
       "       -1.44512751e+00, -5.82133361e-01, -7.66989374e-01,  1.26175594e+00,\n",
       "        8.30707767e-01,  7.37843062e-01,  2.05241851e+00, -4.23349080e-01,\n",
       "       -6.96339806e-02,  4.68588918e-01, -7.50336648e-01, -2.02860777e+00,\n",
       "        4.45718641e-01, -1.95169141e+00, -1.93539611e+00,  8.95166857e-01,\n",
       "        2.11021142e-01, -1.32668487e+00,  7.67624295e-01, -1.34579996e+00,\n",
       "       -3.61597177e-02,  1.10557998e+00,  4.45711150e-01, -5.75060802e-01,\n",
       "        1.50844283e+00, -4.83766746e-01, -4.30694791e-01,  2.43162582e+00,\n",
       "        1.35463971e+00,  4.53648033e-01, -8.34431341e-01, -5.41196331e-01,\n",
       "       -6.26465541e-01, -8.33812615e-01,  5.48054540e-01,  7.86937636e-01,\n",
       "       -5.11547686e-01, -4.73978207e-01,  1.44229637e+00,  1.29116845e-02,\n",
       "        3.38734541e+00,  1.04386254e+00, -1.69066222e+00,  2.92993014e-01,\n",
       "        1.43519054e+00, -8.49970538e-01, -1.48871670e+00, -4.48670687e-01,\n",
       "        9.23485253e-01,  1.88965119e+00, -6.86363945e-01, -2.26439123e+00,\n",
       "       -3.69746610e-01,  3.40383021e-01, -1.27244026e+00,  1.42781837e-01,\n",
       "        4.92303432e-01, -2.57805590e-01,  8.11171005e-01, -2.11858312e+00,\n",
       "        5.18104057e-01,  1.44831913e+00, -2.62361748e-03, -2.65936152e-01,\n",
       "        6.76206001e-01, -6.72137335e-01, -7.88245528e-01,  6.28020308e-01,\n",
       "       -1.66832198e+00, -7.57542409e-01, -4.29333798e-01,  4.37680855e-01,\n",
       "        4.54871969e-01,  1.38257064e+00,  5.97282925e-02, -1.01825162e+00,\n",
       "        3.77725885e-01,  8.09819830e-01,  1.53240558e-01, -4.64440657e-01,\n",
       "        4.77965846e-01,  1.48096347e-01, -6.51651476e-02, -3.79429606e-01,\n",
       "        5.13594265e-02,  5.55334785e-01,  9.80382747e-01, -9.22206653e-01,\n",
       "       -7.58637660e-01, -1.30234609e+00,  2.83784028e+00, -3.13440605e-02,\n",
       "       -7.49684235e-01,  1.72137424e+00,  6.46903517e-01,  8.48042428e-01,\n",
       "       -8.65765312e-01,  1.82427101e+00,  1.41765635e+00, -2.67104187e+00,\n",
       "        5.30837872e-01,  3.56254490e-01, -4.69130902e-01,  7.39747117e-01,\n",
       "        1.55139396e+00,  1.00764560e+00, -1.02458612e+00,  1.40646657e+00,\n",
       "       -1.06888940e+00,  4.58859743e-01,  9.30843303e-01,  1.95200005e+00,\n",
       "       -1.18051596e+00, -3.51789766e-01,  9.18441314e-01,  6.61013388e-01,\n",
       "        6.76159454e-01,  1.92044759e-01, -1.36222487e+00, -4.38806192e-01,\n",
       "       -7.86115136e-01, -2.22743277e-01, -6.05344218e-01, -3.26522913e-01,\n",
       "        1.42893433e-01, -8.20031961e-01,  6.50971358e-02, -5.22314928e-01,\n",
       "        1.33129278e+00, -1.11266084e-01, -6.95217362e-01,  5.15735151e-01,\n",
       "        3.23930171e-01,  2.49603868e+00, -9.91931916e-01,  1.17785944e+00,\n",
       "       -1.17464700e+00, -7.20229196e-01,  2.79345129e-01, -8.41609741e-01,\n",
       "        7.35103212e-01, -7.98170536e-01, -5.46364804e-01, -2.35657170e-01,\n",
       "       -1.16210286e+00, -1.42805639e+00,  7.59102074e-01,  8.24349346e-01,\n",
       "        1.67581343e+00,  3.67903971e-01,  1.48220897e+00,  1.60944155e+00,\n",
       "       -9.92215792e-01,  2.55361592e-01, -7.46640383e-01,  3.33383828e-01,\n",
       "       -1.41221995e+00,  2.65242074e-01,  8.33181807e-01,  1.32548110e+00,\n",
       "        7.80197966e-01,  6.17941788e-01, -7.93552959e-01,  4.25937333e-01,\n",
       "        1.04344332e+00, -7.67132513e-01,  8.22194735e-01,  1.41294968e+00,\n",
       "        3.32303100e-01,  8.35598969e-01, -1.30192300e+00, -2.54096116e-01,\n",
       "       -1.82072538e-02,  1.16271648e+00,  1.21485233e+00,  3.41570364e-01,\n",
       "       -1.08573737e+00, -7.39272822e-01, -1.99482334e+00,  1.39060685e+00,\n",
       "        8.17165039e-01, -1.60274813e+00,  7.66380037e-01, -3.02129887e-01,\n",
       "       -4.19987905e-01, -1.07320009e+00,  1.28247896e+00, -8.18313192e-01,\n",
       "        5.08145104e-01, -9.77634576e-01,  3.03216022e-01,  6.68963300e-01,\n",
       "       -9.41078023e-03, -2.42737272e-01, -6.48130288e-01,  9.24316526e-01,\n",
       "       -6.51870763e-01,  1.35765205e+00, -5.60920725e-01, -4.21859071e-01,\n",
       "        1.93701509e+00,  1.39883137e-02, -1.40672146e+00, -6.10541940e-02,\n",
       "       -2.28171596e-01,  6.73821945e-02, -5.73225224e-01, -3.17325497e-01,\n",
       "        1.37917990e+00, -7.85657900e-01,  6.08908526e-01, -4.00160779e-01,\n",
       "       -9.26647395e-01, -1.13342475e-01, -4.12060307e-01,  1.03721782e+00,\n",
       "        2.15888792e+00,  6.92484289e-02,  5.38253113e-01, -2.05135969e-01,\n",
       "       -1.00215055e-01,  1.00400968e+00, -1.21010850e-01,  1.31234321e+00,\n",
       "       -2.51282095e-01,  5.50327452e-01,  4.45463378e-01, -1.26404759e+00,\n",
       "       -6.96579646e-01, -7.58362029e-01,  6.36034569e-01, -5.50907674e-01,\n",
       "        1.44011550e+00, -1.15750367e+00,  6.35023482e-01, -1.14811612e+00,\n",
       "       -7.95528584e-01,  1.05395355e-01,  1.47887036e+00, -4.91492947e-01,\n",
       "        2.09282099e-01,  1.21576887e+00, -3.43055945e-01,  1.50806440e+00,\n",
       "        1.22169875e+00,  9.18687592e-01, -1.27002551e+00,  7.07752912e-01,\n",
       "       -9.67716709e-02, -2.37449856e-01,  5.00748883e-01,  5.99358385e-01,\n",
       "       -9.43521637e-01, -9.32888056e-01, -9.23310766e-01, -1.61153085e+00,\n",
       "        6.54661857e-01, -3.83660265e-01, -3.71767490e-01, -3.81941535e-01,\n",
       "        9.36459214e-01,  9.54282547e-02,  1.06868019e+00,  9.02848839e-01,\n",
       "        1.07983971e+00,  2.00242612e+00, -9.69503991e-01,  4.32386423e-02,\n",
       "       -7.31301094e-01, -2.01415730e+00,  1.55509035e+00, -1.57579140e+00,\n",
       "        8.17980755e-01, -2.32826029e-01, -5.89374527e-01,  5.57427784e-01,\n",
       "       -1.51571757e-01, -5.19372274e-02, -1.50966248e+00, -1.49574985e+00,\n",
       "        7.78336324e-02,  7.17874482e-01,  9.98938513e-01,  8.27308588e-01,\n",
       "        1.15145390e-02, -2.17988281e-01, -1.34490783e+00, -2.90854417e-01,\n",
       "       -2.64430491e+00,  1.59989307e-01,  4.90468753e-01, -6.38343398e-01,\n",
       "        1.37001967e+00,  5.13261919e-01, -1.45041633e+00,  1.43554664e+00,\n",
       "       -9.07771409e-01, -1.59150175e+00,  1.89975496e-01, -2.83429669e-01,\n",
       "        1.06262478e+00,  5.52076292e-01, -1.24456997e+00,  3.38466563e-01,\n",
       "        9.34366459e-01, -8.40550494e-01,  7.78616890e-01,  4.12902299e-01,\n",
       "        3.56038491e-01,  5.69044053e-01,  6.49278956e-01,  1.31853082e+00,\n",
       "       -6.77927952e-01,  1.02527177e+00, -1.46573996e+00, -1.46507668e+00,\n",
       "        5.77986447e-01, -2.47103453e-01,  2.37994422e+00,  1.74768198e+00,\n",
       "       -7.22920499e-02, -5.04464202e-01, -4.16638295e-01, -1.81230259e+00,\n",
       "        4.05214593e-01, -2.45477149e-01,  3.56479040e-01, -5.69036357e-01,\n",
       "       -1.06957640e+00,  2.24752254e-01, -1.62572682e+00, -9.17666140e-01,\n",
       "       -6.20634733e-01,  2.06627925e-01,  4.20661130e-01, -5.61990884e-02,\n",
       "       -1.70288620e+00, -6.12639790e-01,  7.75615834e-01,  1.16571374e+00,\n",
       "        3.09775722e-01,  9.20563236e-01,  1.32015761e-01,  6.88020438e-01,\n",
       "        1.75320674e-01,  8.99407167e-01, -1.01551226e-01,  2.19314519e-01,\n",
       "       -4.15501096e-01,  1.57988942e+00,  7.23084977e-01, -2.09818938e+00,\n",
       "       -1.02641908e+00,  6.19319743e-01,  1.27999663e-02,  1.39353808e+00,\n",
       "       -4.20651199e-01,  2.08632900e+00,  6.96564584e-01,  1.26599079e-02,\n",
       "        7.23212329e-01, -6.13967560e-01,  7.56953723e-01, -7.91086169e-01,\n",
       "       -5.65503348e-01,  4.85907905e-02, -4.30412583e-01, -1.12222819e+00,\n",
       "       -7.96079233e-01, -7.81965499e-01, -1.22526368e+00, -2.38189893e-01,\n",
       "        9.66164011e-01, -1.12206601e+00,  7.72525731e-01, -1.89798891e-01,\n",
       "       -6.33484378e-01, -6.28817075e-01,  1.39459275e+00, -1.33961573e+00,\n",
       "       -9.36693238e-01, -9.98391679e-01,  7.54473405e-01, -4.00254570e-01,\n",
       "       -1.33084675e+00,  7.79843045e-01,  9.75596106e-01,  2.54935414e+00,\n",
       "        8.65856240e-01, -1.43935083e-01, -5.91894197e-01, -9.46839253e-01,\n",
       "        2.01007760e-01, -1.49939285e+00,  9.52834726e-01, -6.58617941e-02,\n",
       "       -1.04443391e+00, -2.12253839e-01, -8.10625753e-01,  9.91905234e-01,\n",
       "       -1.51111055e+00,  2.79606306e-02, -2.84672252e-01, -2.08185637e+00,\n",
       "       -6.59252222e-01, -1.14296221e-01, -1.11291538e-01,  1.23025422e+00,\n",
       "        2.25290297e-01,  5.65345429e-01, -1.54468557e+00, -8.62770271e-02,\n",
       "        1.28408145e-01, -4.71794390e-01, -7.42093209e-01,  1.55966845e+00,\n",
       "       -1.45407988e+00, -1.01043265e+00, -1.50442131e+00, -1.46721122e+00,\n",
       "       -3.35249734e-01, -1.23990184e+00,  1.75185962e+00,  1.41317769e+00,\n",
       "        1.34482990e+00, -1.38926890e-01,  7.38354002e-01, -1.27747085e+00,\n",
       "       -5.65456154e-01, -8.18220186e-01, -4.62557736e-01, -1.42713238e+00,\n",
       "       -7.43812779e-01,  1.23384164e+00, -1.36188448e+00,  1.99197589e+00,\n",
       "       -1.18948009e+00, -1.06004725e+00, -2.20955885e-01,  8.04824992e-01,\n",
       "        1.64763715e+00, -9.04400234e-01, -1.69229569e+00,  1.20885121e-01,\n",
       "       -1.52088087e+00,  9.40284520e-01, -3.83207499e-01, -5.02871343e-03,\n",
       "       -1.15499929e-01,  5.99700271e-01, -7.03816283e-01, -6.08242300e-01,\n",
       "        1.01075911e+00, -1.16985166e-01, -1.31195307e+00,  1.33898259e+00,\n",
       "        6.05347211e-01, -1.18093587e+00,  4.22127264e-01,  1.81023387e-01,\n",
       "       -2.28624051e+00,  1.04836825e-01, -1.77654236e+00,  5.23706572e-01,\n",
       "       -1.12129588e+00, -8.25116815e-02, -6.50231376e-01, -7.61807985e-01,\n",
       "       -4.68042213e-03, -2.63217373e-01, -4.09615012e-02, -3.77977497e-01,\n",
       "        6.92017392e-01, -9.20938107e-01, -1.39140363e+00, -4.46586687e-01,\n",
       "        2.17658978e+00,  2.67165869e-01,  3.15668683e-02,  1.34841072e+00,\n",
       "       -1.96458391e+00, -9.77668563e-02, -7.09528611e-01,  1.04098957e+00,\n",
       "        4.25073582e-01,  3.93758927e-01,  3.61062219e-01,  1.76984186e-01,\n",
       "       -1.47773324e+00, -5.15203428e-01,  3.55828544e-01, -7.06208981e-01,\n",
       "        7.03775790e-01,  6.14524260e-01, -1.29493820e+00, -1.05524848e+00,\n",
       "       -2.14193365e+00,  7.20635924e-01, -1.01308144e+00,  1.05879262e+00,\n",
       "        5.87448809e-01, -1.74157475e+00,  1.21243886e+00, -5.56086378e-01,\n",
       "        2.59052681e-02, -8.70888458e-01, -6.66830971e-01, -6.52375885e-01,\n",
       "       -5.06409798e-01,  1.28293926e+00, -4.30843124e-02, -1.40654275e+00,\n",
       "        1.44004636e-01,  1.35406151e+00,  6.93095805e-01, -6.17119366e-01,\n",
       "        5.33917407e-01,  3.14957023e-01,  3.71172526e-01,  2.38233888e-01,\n",
       "       -5.08998285e-01, -1.64623977e-01,  1.03411475e+00,  1.12314240e+00,\n",
       "       -1.21573585e+00,  2.43641386e-01, -5.11266220e-02,  1.79551452e-01,\n",
       "       -1.44828806e+00, -5.32714379e-01, -2.62830749e-01,  1.09534205e+00,\n",
       "        8.18684856e-01, -4.57339992e-01,  2.39333561e-01,  5.96459647e-01,\n",
       "       -5.50531713e-01,  1.13356877e+00,  1.31273605e+00,  5.85352963e-01,\n",
       "       -1.01359087e+00, -1.14923501e+00,  4.57649510e-01,  2.19790321e+00])"
      ]
     },
     "execution_count": 66,
     "metadata": {},
     "output_type": "execute_result"
    }
   ],
   "source": [
    "np.random.normal(0,1,1000)"
   ]
  },
  {
   "cell_type": "markdown",
   "metadata": {},
   "source": [
    "## Question 11\n",
    "\n",
    "Generate binomial distribution data for fair coin flipping of size 100. Assume `0` for head and `1` for tail.\n",
    "\n",
    "[ **Hint:** For fair coin flip `p=0.5` ]"
   ]
  },
  {
   "cell_type": "markdown",
   "metadata": {},
   "source": [
    "#### Binomial Distribution"
   ]
  },
  {
   "cell_type": "markdown",
   "metadata": {},
   "source": [
    "It is defined by 2 parameters: the probability of success and the number of trails. It tells about how likely it is possible to get a given number of successes in n trails."
   ]
  },
  {
   "cell_type": "code",
   "execution_count": 67,
   "metadata": {},
   "outputs": [
    {
     "data": {
      "text/plain": [
       "array([39, 49, 52, 51, 45, 47, 54, 48, 46, 51, 49, 54, 53, 51, 50, 46, 47,\n",
       "       44, 49, 57, 48, 60, 48, 51, 47, 50, 51, 52, 53, 50, 57, 49, 49, 56,\n",
       "       52, 52, 51, 51, 56, 49, 54, 51, 53, 50, 55, 54, 43, 54, 51, 52, 56,\n",
       "       49, 58, 51, 46, 51, 50, 54, 57, 50, 52, 33, 52, 52, 52, 55, 43, 59,\n",
       "       52, 55, 58, 46, 48, 64, 54, 47, 51, 45, 54, 50, 42, 43, 51, 49, 48,\n",
       "       45, 50, 55, 53, 50, 51, 55, 56, 51, 51, 46, 48, 49, 44, 50, 49, 60,\n",
       "       40, 61, 41, 53, 52, 48, 52, 50, 61, 47, 48, 54, 49, 49, 50, 52, 59,\n",
       "       56, 45, 52, 54, 50, 52, 48, 44, 49, 47, 51, 55, 43, 45, 51, 47, 53,\n",
       "       49, 48, 58, 53, 50, 47, 51, 52, 49, 49, 44, 55, 57, 45, 51, 44, 57,\n",
       "       41, 50, 47, 48, 41, 46, 44, 50, 55, 49, 45, 49, 47, 48, 56, 55, 49,\n",
       "       52, 52, 42, 47, 48, 44, 50, 48, 45, 45, 57, 43, 50, 49, 53, 49, 50,\n",
       "       44, 46, 57, 55, 48, 54, 57, 50, 47, 49, 52, 40, 56, 52, 44, 57, 51,\n",
       "       53, 43, 51, 54, 49, 49, 42, 48, 44, 47, 52, 50, 49, 50, 57, 48, 51,\n",
       "       48, 51, 52, 47, 46, 47, 56, 44, 46, 46, 44, 51, 47, 46, 46, 51, 52,\n",
       "       47, 60, 55, 51, 52, 42, 55, 42, 54, 53, 53, 49, 47, 44, 53, 49, 54,\n",
       "       50, 54, 49, 56, 49, 44, 50, 50, 43, 46, 49, 54, 50, 53, 57, 45, 51,\n",
       "       45, 45, 56, 44, 56, 55, 48, 50, 48, 46, 49, 47, 51, 53, 53, 45, 51,\n",
       "       51, 66, 50, 54, 43, 44, 46, 54, 53, 62, 44, 44, 57, 46, 48, 41, 48,\n",
       "       39, 54, 53, 49, 50, 39, 54, 47, 52, 53, 43, 45, 48, 55, 50, 51, 48,\n",
       "       56, 43, 51, 55, 50, 53, 57, 39, 48, 46, 54, 61, 44, 46, 52, 52, 48,\n",
       "       51, 51, 54, 44, 53, 55, 39, 58, 47, 48, 50, 49, 49, 48, 53, 50, 44,\n",
       "       37, 53, 54, 47, 57, 40, 52, 53, 50, 54, 55, 51, 51, 51, 54, 59, 49,\n",
       "       56, 50, 50, 44, 52, 54, 50, 56, 60, 44, 54, 54, 53, 55, 53, 49, 44,\n",
       "       49, 48, 54, 45, 47, 47, 49, 48, 41, 46, 50, 58, 49, 51, 51, 49, 55,\n",
       "       54, 49, 47, 59, 45, 56, 45, 45, 57, 51, 51, 42, 49, 39, 53, 48, 47,\n",
       "       56, 53, 54, 46, 50, 47, 50, 48, 46, 49, 59, 44, 57, 48, 48, 50, 51,\n",
       "       42, 49, 44, 43, 45, 57, 57, 52, 45, 53, 48, 55, 48, 50, 52, 52, 47,\n",
       "       48, 50, 50, 33, 39, 54, 44, 52, 57, 54, 48, 45, 51, 54, 57, 50, 62,\n",
       "       52, 51, 49, 58, 50, 54, 47, 50, 57, 50, 47, 51, 52, 56, 57, 52, 49,\n",
       "       54, 50, 59, 51, 50, 49, 55, 43, 52, 54, 51, 56, 49, 42, 55, 54, 48,\n",
       "       51, 49, 51, 54, 51, 59, 57, 52, 44, 46, 49, 52, 57, 53, 47, 54, 41,\n",
       "       51, 50, 49, 47, 46, 50, 48, 47, 51, 43, 49, 49, 48, 51, 52, 46, 55,\n",
       "       54, 52, 41, 52, 45, 51, 53, 61, 51, 53, 46, 46, 49, 44, 54, 38, 50,\n",
       "       47, 60, 51, 54, 50, 55, 55, 50, 53, 50, 58, 50, 44, 49, 49, 49, 52,\n",
       "       39, 58, 64, 51, 54, 57, 53, 58, 43, 51, 50, 57, 42, 46, 45, 54, 45,\n",
       "       47, 49, 57, 64, 50, 52, 43, 54, 53, 63, 47, 50, 53, 54, 46, 46, 50,\n",
       "       48, 47, 58, 58, 52, 51, 49, 46, 37, 47, 46, 47, 52, 48, 48, 50, 50,\n",
       "       59, 53, 42, 52, 50, 52, 47, 51, 42, 46, 60, 53, 50, 55, 47, 47, 46,\n",
       "       47, 56, 47, 49, 49, 44, 44, 48, 54, 46, 48, 40, 46, 45, 48, 46, 53,\n",
       "       51, 60, 50, 57, 42, 53, 49, 51, 48, 52, 54, 51, 52, 45, 52, 46, 47,\n",
       "       63, 46, 53, 55, 44, 52, 47, 53, 48, 50, 51, 57, 51, 49, 52, 52, 49,\n",
       "       47, 52, 50, 43, 52, 53, 46, 56, 50, 50, 54, 43, 56, 51, 46, 55, 48,\n",
       "       56, 44, 56, 53, 56, 46, 50, 52, 45, 50, 59, 51, 46, 52, 49, 57, 45,\n",
       "       53, 51, 52, 51, 51, 48, 52, 51, 46, 51, 46, 51, 50, 46, 49, 39, 56,\n",
       "       51, 56, 47, 48, 49, 56, 48, 49, 48, 44, 47, 48, 50, 50, 51, 50, 51,\n",
       "       42, 55, 51, 54, 52, 60, 49, 57, 55, 52, 52, 55, 50, 55, 50, 58, 54,\n",
       "       40, 48, 59, 56, 49, 57, 55, 52, 48, 54, 57, 49, 43, 50, 49, 49, 43,\n",
       "       45, 50, 49, 44, 52, 45, 51, 54, 55, 41, 42, 47, 45, 58, 42, 53, 55,\n",
       "       54, 45, 51, 44, 46, 60, 52, 54, 58, 54, 57, 55, 47, 52, 54, 49, 53,\n",
       "       53, 53, 40, 42, 56, 45, 50, 63, 50, 56, 46, 52, 55, 54, 55, 48, 37,\n",
       "       54, 53, 47, 52, 50, 54, 52, 37, 50, 54, 55, 50, 54, 54, 44, 46, 58,\n",
       "       57, 51, 50, 53, 49, 49, 44, 42, 48, 50, 58, 56, 53, 46, 46, 49, 45,\n",
       "       47, 50, 43, 52, 43, 52, 49, 45, 44, 54, 52, 43, 45, 48, 50, 51, 49,\n",
       "       57, 51, 49, 55, 48, 50, 48, 45, 43, 52, 49, 49, 42, 46, 45, 58, 51,\n",
       "       53, 58, 45, 49, 58, 50, 41, 46, 51, 55, 51, 53, 49, 46, 56, 48, 49,\n",
       "       47, 52, 52, 50, 52, 48, 45, 56, 47, 50, 45, 47, 58, 49, 49, 51, 45,\n",
       "       51, 53, 58, 57, 53, 47, 43, 43, 35, 55, 53, 54, 58, 45, 49, 55, 50,\n",
       "       43, 50, 55, 52, 53, 45, 48, 53, 52, 56, 51, 43, 53, 50, 54, 45, 52,\n",
       "       54, 37, 43, 57, 53, 51, 48, 46, 59, 50, 56, 45, 42, 60])"
      ]
     },
     "execution_count": 67,
     "metadata": {},
     "output_type": "execute_result"
    }
   ],
   "source": [
    "np.random.binomial(100,0.5,1000)"
   ]
  },
  {
   "cell_type": "markdown",
   "metadata": {},
   "source": [
    "#### Visualizing Poisson Distribution"
   ]
  },
  {
   "cell_type": "markdown",
   "metadata": {},
   "source": [
    "It models the probability of seeing certain number of successes within a time interval."
   ]
  },
  {
   "cell_type": "code",
   "execution_count": 65,
   "metadata": {},
   "outputs": [
    {
     "data": {
      "image/png": "[encoded data removed]",
      "text/plain": [
       "<Figure size 432x288 with 1 Axes>"
      ]
     },
     "metadata": {
      "needs_background": "light"
     },
     "output_type": "display_data"
    }
   ],
   "source": [
    "poisson_data = stats.poisson.rvs(size=100,mu=10)\n",
    "\n",
    "pd.DataFrame(poisson_data).hist()\n",
    "\n",
    "plt.show()"
   ]
  },
  {
   "cell_type": "code",
   "execution_count": null,
   "metadata": {},
   "outputs": [],
   "source": []
  }
 ],
 "metadata": {
  "kernelspec": {
   "display_name": "Python 3",
   "language": "python",
   "name": "python3"
  },
  "language_info": {
   "codemirror_mode": {
    "name": "ipython",
    "version": 3
   },
   "file_extension": ".py",
   "mimetype": "text/x-python",
   "name": "python",
   "nbconvert_exporter": "python",
   "pygments_lexer": "ipython3",
   "version": "3.7.0"
  }
 },
 "nbformat": 4,
 "nbformat_minor": 2
}
