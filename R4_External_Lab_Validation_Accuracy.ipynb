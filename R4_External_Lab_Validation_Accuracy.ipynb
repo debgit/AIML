{
 "cells": [
  {
   "cell_type": "code",
   "execution_count": 85,
   "metadata": {
    "colab": {},
    "colab_type": "code",
    "id": "Y3vvEXP1_0og"
   },
   "outputs": [],
   "source": [
    "# Import important library\n",
    "import numpy as np\n",
    "import pandas as pd\n",
    "import matplotlib.pyplot as plt\n",
    "import seaborn as sns\n",
    "%matplotlib inline\n",
    "import warnings\n",
    "warnings.filterwarnings('ignore')\n",
    "from sklearn.tree import DecisionTreeClassifier\n",
    "from sklearn.ensemble import RandomForestClassifier\n",
    "from sklearn.preprocessing import StandardScaler\n",
    "from sklearn import model_selection\n",
    "from sklearn import metrics\n",
    "#from sklearn.decomposition import PCA\n",
    "from scipy.stats import zscore\n",
    "import matplotlib.pyplot as plt"
   ]
  },
  {
   "cell_type": "markdown",
   "metadata": {
    "colab_type": "text",
    "id": "7O83uMqA_0ol"
   },
   "source": [
    "### Read the input file and check the data dimension"
   ]
  },
  {
   "cell_type": "code",
   "execution_count": 58,
   "metadata": {
    "colab": {},
    "colab_type": "code",
    "id": "1brbOfG_Enzy"
   },
   "outputs": [],
   "source": [
    "credit_df = pd.read_csv(\"german_credit.csv\") "
   ]
  },
  {
   "cell_type": "code",
   "execution_count": 59,
   "metadata": {},
   "outputs": [
    {
     "data": {
      "text/plain": [
       "(1000, 21)"
      ]
     },
     "execution_count": 59,
     "metadata": {},
     "output_type": "execute_result"
    }
   ],
   "source": [
    "credit_df.shape"
   ]
  },
  {
   "cell_type": "code",
   "execution_count": 60,
   "metadata": {},
   "outputs": [
    {
     "data": {
      "text/html": [
       "<div>\n",
       "<style scoped>\n",
       "    .dataframe tbody tr th:only-of-type {\n",
       "        vertical-align: middle;\n",
       "    }\n",
       "\n",
       "    .dataframe tbody tr th {\n",
       "        vertical-align: top;\n",
       "    }\n",
       "\n",
       "    .dataframe thead th {\n",
       "        text-align: right;\n",
       "    }\n",
       "</style>\n",
       "<table border=\"1\" class=\"dataframe\">\n",
       "  <thead>\n",
       "    <tr style=\"text-align: right;\">\n",
       "      <th></th>\n",
       "      <th>account_check_status</th>\n",
       "      <th>duration_in_month</th>\n",
       "      <th>credit_history</th>\n",
       "      <th>purpose</th>\n",
       "      <th>credit_amount</th>\n",
       "      <th>savings</th>\n",
       "      <th>present_emp_since</th>\n",
       "      <th>installment_as_income_perc</th>\n",
       "      <th>personal_status_sex</th>\n",
       "      <th>other_debtors</th>\n",
       "      <th>present_res_since</th>\n",
       "      <th>property</th>\n",
       "      <th>age</th>\n",
       "      <th>other_installment_plans</th>\n",
       "      <th>housing</th>\n",
       "      <th>credits_this_bank</th>\n",
       "      <th>job</th>\n",
       "      <th>people_under_maintenance</th>\n",
       "      <th>telephone</th>\n",
       "      <th>foreign_worker</th>\n",
       "    </tr>\n",
       "    <tr>\n",
       "      <th>default</th>\n",
       "      <th></th>\n",
       "      <th></th>\n",
       "      <th></th>\n",
       "      <th></th>\n",
       "      <th></th>\n",
       "      <th></th>\n",
       "      <th></th>\n",
       "      <th></th>\n",
       "      <th></th>\n",
       "      <th></th>\n",
       "      <th></th>\n",
       "      <th></th>\n",
       "      <th></th>\n",
       "      <th></th>\n",
       "      <th></th>\n",
       "      <th></th>\n",
       "      <th></th>\n",
       "      <th></th>\n",
       "      <th></th>\n",
       "      <th></th>\n",
       "    </tr>\n",
       "  </thead>\n",
       "  <tbody>\n",
       "    <tr>\n",
       "      <th>0</th>\n",
       "      <td>700</td>\n",
       "      <td>700</td>\n",
       "      <td>700</td>\n",
       "      <td>700</td>\n",
       "      <td>700</td>\n",
       "      <td>700</td>\n",
       "      <td>700</td>\n",
       "      <td>700</td>\n",
       "      <td>700</td>\n",
       "      <td>700</td>\n",
       "      <td>700</td>\n",
       "      <td>700</td>\n",
       "      <td>700</td>\n",
       "      <td>700</td>\n",
       "      <td>700</td>\n",
       "      <td>700</td>\n",
       "      <td>700</td>\n",
       "      <td>700</td>\n",
       "      <td>700</td>\n",
       "      <td>700</td>\n",
       "    </tr>\n",
       "    <tr>\n",
       "      <th>1</th>\n",
       "      <td>300</td>\n",
       "      <td>300</td>\n",
       "      <td>300</td>\n",
       "      <td>300</td>\n",
       "      <td>300</td>\n",
       "      <td>300</td>\n",
       "      <td>300</td>\n",
       "      <td>300</td>\n",
       "      <td>300</td>\n",
       "      <td>300</td>\n",
       "      <td>300</td>\n",
       "      <td>300</td>\n",
       "      <td>300</td>\n",
       "      <td>300</td>\n",
       "      <td>300</td>\n",
       "      <td>300</td>\n",
       "      <td>300</td>\n",
       "      <td>300</td>\n",
       "      <td>300</td>\n",
       "      <td>300</td>\n",
       "    </tr>\n",
       "  </tbody>\n",
       "</table>\n",
       "</div>"
      ],
      "text/plain": [
       "         account_check_status  duration_in_month  credit_history  purpose  \\\n",
       "default                                                                     \n",
       "0                         700                700             700      700   \n",
       "1                         300                300             300      300   \n",
       "\n",
       "         credit_amount  savings  present_emp_since  \\\n",
       "default                                              \n",
       "0                  700      700                700   \n",
       "1                  300      300                300   \n",
       "\n",
       "         installment_as_income_perc  personal_status_sex  other_debtors  \\\n",
       "default                                                                   \n",
       "0                               700                  700            700   \n",
       "1                               300                  300            300   \n",
       "\n",
       "         present_res_since  property  age  other_installment_plans  housing  \\\n",
       "default                                                                       \n",
       "0                      700       700  700                      700      700   \n",
       "1                      300       300  300                      300      300   \n",
       "\n",
       "         credits_this_bank  job  people_under_maintenance  telephone  \\\n",
       "default                                                                \n",
       "0                      700  700                       700        700   \n",
       "1                      300  300                       300        300   \n",
       "\n",
       "         foreign_worker  \n",
       "default                  \n",
       "0                   700  \n",
       "1                   300  "
      ]
     },
     "execution_count": 60,
     "metadata": {},
     "output_type": "execute_result"
    }
   ],
   "source": [
    "credit_df.groupby('default').count()"
   ]
  },
  {
   "cell_type": "code",
   "execution_count": 61,
   "metadata": {},
   "outputs": [
    {
     "data": {
      "text/html": [
       "<div>\n",
       "<style scoped>\n",
       "    .dataframe tbody tr th:only-of-type {\n",
       "        vertical-align: middle;\n",
       "    }\n",
       "\n",
       "    .dataframe tbody tr th {\n",
       "        vertical-align: top;\n",
       "    }\n",
       "\n",
       "    .dataframe thead th {\n",
       "        text-align: right;\n",
       "    }\n",
       "</style>\n",
       "<table border=\"1\" class=\"dataframe\">\n",
       "  <thead>\n",
       "    <tr style=\"text-align: right;\">\n",
       "      <th></th>\n",
       "      <th>default</th>\n",
       "      <th>account_check_status</th>\n",
       "      <th>duration_in_month</th>\n",
       "      <th>purpose</th>\n",
       "      <th>credit_amount</th>\n",
       "      <th>savings</th>\n",
       "      <th>present_emp_since</th>\n",
       "      <th>installment_as_income_perc</th>\n",
       "      <th>personal_status_sex</th>\n",
       "      <th>other_debtors</th>\n",
       "      <th>present_res_since</th>\n",
       "      <th>property</th>\n",
       "      <th>age</th>\n",
       "      <th>other_installment_plans</th>\n",
       "      <th>housing</th>\n",
       "      <th>credits_this_bank</th>\n",
       "      <th>job</th>\n",
       "      <th>people_under_maintenance</th>\n",
       "      <th>telephone</th>\n",
       "      <th>foreign_worker</th>\n",
       "    </tr>\n",
       "    <tr>\n",
       "      <th>credit_history</th>\n",
       "      <th></th>\n",
       "      <th></th>\n",
       "      <th></th>\n",
       "      <th></th>\n",
       "      <th></th>\n",
       "      <th></th>\n",
       "      <th></th>\n",
       "      <th></th>\n",
       "      <th></th>\n",
       "      <th></th>\n",
       "      <th></th>\n",
       "      <th></th>\n",
       "      <th></th>\n",
       "      <th></th>\n",
       "      <th></th>\n",
       "      <th></th>\n",
       "      <th></th>\n",
       "      <th></th>\n",
       "      <th></th>\n",
       "      <th></th>\n",
       "    </tr>\n",
       "  </thead>\n",
       "  <tbody>\n",
       "    <tr>\n",
       "      <th>all credits at this bank paid back duly</th>\n",
       "      <td>49</td>\n",
       "      <td>49</td>\n",
       "      <td>49</td>\n",
       "      <td>49</td>\n",
       "      <td>49</td>\n",
       "      <td>49</td>\n",
       "      <td>49</td>\n",
       "      <td>49</td>\n",
       "      <td>49</td>\n",
       "      <td>49</td>\n",
       "      <td>49</td>\n",
       "      <td>49</td>\n",
       "      <td>49</td>\n",
       "      <td>49</td>\n",
       "      <td>49</td>\n",
       "      <td>49</td>\n",
       "      <td>49</td>\n",
       "      <td>49</td>\n",
       "      <td>49</td>\n",
       "      <td>49</td>\n",
       "    </tr>\n",
       "    <tr>\n",
       "      <th>critical account/ other credits existing (not at this bank)</th>\n",
       "      <td>293</td>\n",
       "      <td>293</td>\n",
       "      <td>293</td>\n",
       "      <td>293</td>\n",
       "      <td>293</td>\n",
       "      <td>293</td>\n",
       "      <td>293</td>\n",
       "      <td>293</td>\n",
       "      <td>293</td>\n",
       "      <td>293</td>\n",
       "      <td>293</td>\n",
       "      <td>293</td>\n",
       "      <td>293</td>\n",
       "      <td>293</td>\n",
       "      <td>293</td>\n",
       "      <td>293</td>\n",
       "      <td>293</td>\n",
       "      <td>293</td>\n",
       "      <td>293</td>\n",
       "      <td>293</td>\n",
       "    </tr>\n",
       "    <tr>\n",
       "      <th>delay in paying off in the past</th>\n",
       "      <td>88</td>\n",
       "      <td>88</td>\n",
       "      <td>88</td>\n",
       "      <td>88</td>\n",
       "      <td>88</td>\n",
       "      <td>88</td>\n",
       "      <td>88</td>\n",
       "      <td>88</td>\n",
       "      <td>88</td>\n",
       "      <td>88</td>\n",
       "      <td>88</td>\n",
       "      <td>88</td>\n",
       "      <td>88</td>\n",
       "      <td>88</td>\n",
       "      <td>88</td>\n",
       "      <td>88</td>\n",
       "      <td>88</td>\n",
       "      <td>88</td>\n",
       "      <td>88</td>\n",
       "      <td>88</td>\n",
       "    </tr>\n",
       "    <tr>\n",
       "      <th>existing credits paid back duly till now</th>\n",
       "      <td>530</td>\n",
       "      <td>530</td>\n",
       "      <td>530</td>\n",
       "      <td>530</td>\n",
       "      <td>530</td>\n",
       "      <td>530</td>\n",
       "      <td>530</td>\n",
       "      <td>530</td>\n",
       "      <td>530</td>\n",
       "      <td>530</td>\n",
       "      <td>530</td>\n",
       "      <td>530</td>\n",
       "      <td>530</td>\n",
       "      <td>530</td>\n",
       "      <td>530</td>\n",
       "      <td>530</td>\n",
       "      <td>530</td>\n",
       "      <td>530</td>\n",
       "      <td>530</td>\n",
       "      <td>530</td>\n",
       "    </tr>\n",
       "    <tr>\n",
       "      <th>no credits taken/ all credits paid back duly</th>\n",
       "      <td>40</td>\n",
       "      <td>40</td>\n",
       "      <td>40</td>\n",
       "      <td>40</td>\n",
       "      <td>40</td>\n",
       "      <td>40</td>\n",
       "      <td>40</td>\n",
       "      <td>40</td>\n",
       "      <td>40</td>\n",
       "      <td>40</td>\n",
       "      <td>40</td>\n",
       "      <td>40</td>\n",
       "      <td>40</td>\n",
       "      <td>40</td>\n",
       "      <td>40</td>\n",
       "      <td>40</td>\n",
       "      <td>40</td>\n",
       "      <td>40</td>\n",
       "      <td>40</td>\n",
       "      <td>40</td>\n",
       "    </tr>\n",
       "  </tbody>\n",
       "</table>\n",
       "</div>"
      ],
      "text/plain": [
       "                                                    default  \\\n",
       "credit_history                                                \n",
       "all credits at this bank paid back duly                  49   \n",
       "critical account/ other credits existing (not a...      293   \n",
       "delay in paying off in the past                          88   \n",
       "existing credits paid back duly till now                530   \n",
       "no credits taken/ all credits paid back duly             40   \n",
       "\n",
       "                                                    account_check_status  \\\n",
       "credit_history                                                             \n",
       "all credits at this bank paid back duly                               49   \n",
       "critical account/ other credits existing (not a...                   293   \n",
       "delay in paying off in the past                                       88   \n",
       "existing credits paid back duly till now                             530   \n",
       "no credits taken/ all credits paid back duly                          40   \n",
       "\n",
       "                                                    duration_in_month  \\\n",
       "credit_history                                                          \n",
       "all credits at this bank paid back duly                            49   \n",
       "critical account/ other credits existing (not a...                293   \n",
       "delay in paying off in the past                                    88   \n",
       "existing credits paid back duly till now                          530   \n",
       "no credits taken/ all credits paid back duly                       40   \n",
       "\n",
       "                                                    purpose  credit_amount  \\\n",
       "credit_history                                                               \n",
       "all credits at this bank paid back duly                  49             49   \n",
       "critical account/ other credits existing (not a...      293            293   \n",
       "delay in paying off in the past                          88             88   \n",
       "existing credits paid back duly till now                530            530   \n",
       "no credits taken/ all credits paid back duly             40             40   \n",
       "\n",
       "                                                    savings  \\\n",
       "credit_history                                                \n",
       "all credits at this bank paid back duly                  49   \n",
       "critical account/ other credits existing (not a...      293   \n",
       "delay in paying off in the past                          88   \n",
       "existing credits paid back duly till now                530   \n",
       "no credits taken/ all credits paid back duly             40   \n",
       "\n",
       "                                                    present_emp_since  \\\n",
       "credit_history                                                          \n",
       "all credits at this bank paid back duly                            49   \n",
       "critical account/ other credits existing (not a...                293   \n",
       "delay in paying off in the past                                    88   \n",
       "existing credits paid back duly till now                          530   \n",
       "no credits taken/ all credits paid back duly                       40   \n",
       "\n",
       "                                                    installment_as_income_perc  \\\n",
       "credit_history                                                                   \n",
       "all credits at this bank paid back duly                                     49   \n",
       "critical account/ other credits existing (not a...                         293   \n",
       "delay in paying off in the past                                             88   \n",
       "existing credits paid back duly till now                                   530   \n",
       "no credits taken/ all credits paid back duly                                40   \n",
       "\n",
       "                                                    personal_status_sex  \\\n",
       "credit_history                                                            \n",
       "all credits at this bank paid back duly                              49   \n",
       "critical account/ other credits existing (not a...                  293   \n",
       "delay in paying off in the past                                      88   \n",
       "existing credits paid back duly till now                            530   \n",
       "no credits taken/ all credits paid back duly                         40   \n",
       "\n",
       "                                                    other_debtors  \\\n",
       "credit_history                                                      \n",
       "all credits at this bank paid back duly                        49   \n",
       "critical account/ other credits existing (not a...            293   \n",
       "delay in paying off in the past                                88   \n",
       "existing credits paid back duly till now                      530   \n",
       "no credits taken/ all credits paid back duly                   40   \n",
       "\n",
       "                                                    present_res_since  \\\n",
       "credit_history                                                          \n",
       "all credits at this bank paid back duly                            49   \n",
       "critical account/ other credits existing (not a...                293   \n",
       "delay in paying off in the past                                    88   \n",
       "existing credits paid back duly till now                          530   \n",
       "no credits taken/ all credits paid back duly                       40   \n",
       "\n",
       "                                                    property  age  \\\n",
       "credit_history                                                      \n",
       "all credits at this bank paid back duly                   49   49   \n",
       "critical account/ other credits existing (not a...       293  293   \n",
       "delay in paying off in the past                           88   88   \n",
       "existing credits paid back duly till now                 530  530   \n",
       "no credits taken/ all credits paid back duly              40   40   \n",
       "\n",
       "                                                    other_installment_plans  \\\n",
       "credit_history                                                                \n",
       "all credits at this bank paid back duly                                  49   \n",
       "critical account/ other credits existing (not a...                      293   \n",
       "delay in paying off in the past                                          88   \n",
       "existing credits paid back duly till now                                530   \n",
       "no credits taken/ all credits paid back duly                             40   \n",
       "\n",
       "                                                    housing  \\\n",
       "credit_history                                                \n",
       "all credits at this bank paid back duly                  49   \n",
       "critical account/ other credits existing (not a...      293   \n",
       "delay in paying off in the past                          88   \n",
       "existing credits paid back duly till now                530   \n",
       "no credits taken/ all credits paid back duly             40   \n",
       "\n",
       "                                                    credits_this_bank  job  \\\n",
       "credit_history                                                               \n",
       "all credits at this bank paid back duly                            49   49   \n",
       "critical account/ other credits existing (not a...                293  293   \n",
       "delay in paying off in the past                                    88   88   \n",
       "existing credits paid back duly till now                          530  530   \n",
       "no credits taken/ all credits paid back duly                       40   40   \n",
       "\n",
       "                                                    people_under_maintenance  \\\n",
       "credit_history                                                                 \n",
       "all credits at this bank paid back duly                                   49   \n",
       "critical account/ other credits existing (not a...                       293   \n",
       "delay in paying off in the past                                           88   \n",
       "existing credits paid back duly till now                                 530   \n",
       "no credits taken/ all credits paid back duly                              40   \n",
       "\n",
       "                                                    telephone  foreign_worker  \n",
       "credit_history                                                                 \n",
       "all credits at this bank paid back duly                    49              49  \n",
       "critical account/ other credits existing (not a...        293             293  \n",
       "delay in paying off in the past                            88              88  \n",
       "existing credits paid back duly till now                  530             530  \n",
       "no credits taken/ all credits paid back duly               40              40  "
      ]
     },
     "execution_count": 61,
     "metadata": {},
     "output_type": "execute_result"
    }
   ],
   "source": [
    "credit_df.groupby('credit_history').count()"
   ]
  },
  {
   "cell_type": "code",
   "execution_count": 62,
   "metadata": {
    "colab": {},
    "colab_type": "code",
    "id": "EC9Oup3w_0on",
    "outputId": "08aa9a88-57df-4c19-ee40-7335b11c8b0d"
   },
   "outputs": [
    {
     "data": {
      "text/html": [
       "<div>\n",
       "<style scoped>\n",
       "    .dataframe tbody tr th:only-of-type {\n",
       "        vertical-align: middle;\n",
       "    }\n",
       "\n",
       "    .dataframe tbody tr th {\n",
       "        vertical-align: top;\n",
       "    }\n",
       "\n",
       "    .dataframe thead th {\n",
       "        text-align: right;\n",
       "    }\n",
       "</style>\n",
       "<table border=\"1\" class=\"dataframe\">\n",
       "  <thead>\n",
       "    <tr style=\"text-align: right;\">\n",
       "      <th></th>\n",
       "      <th>default</th>\n",
       "      <th>account_check_status</th>\n",
       "      <th>duration_in_month</th>\n",
       "      <th>credit_history</th>\n",
       "      <th>purpose</th>\n",
       "      <th>credit_amount</th>\n",
       "      <th>savings</th>\n",
       "      <th>present_emp_since</th>\n",
       "      <th>installment_as_income_perc</th>\n",
       "      <th>personal_status_sex</th>\n",
       "      <th>...</th>\n",
       "      <th>present_res_since</th>\n",
       "      <th>property</th>\n",
       "      <th>age</th>\n",
       "      <th>other_installment_plans</th>\n",
       "      <th>housing</th>\n",
       "      <th>credits_this_bank</th>\n",
       "      <th>job</th>\n",
       "      <th>people_under_maintenance</th>\n",
       "      <th>telephone</th>\n",
       "      <th>foreign_worker</th>\n",
       "    </tr>\n",
       "  </thead>\n",
       "  <tbody>\n",
       "    <tr>\n",
       "      <th>0</th>\n",
       "      <td>0</td>\n",
       "      <td>&lt; 0 DM</td>\n",
       "      <td>6</td>\n",
       "      <td>critical account/ other credits existing (not ...</td>\n",
       "      <td>domestic appliances</td>\n",
       "      <td>1169</td>\n",
       "      <td>unknown/ no savings account</td>\n",
       "      <td>.. &gt;= 7 years</td>\n",
       "      <td>4</td>\n",
       "      <td>male : single</td>\n",
       "      <td>...</td>\n",
       "      <td>4</td>\n",
       "      <td>real estate</td>\n",
       "      <td>67</td>\n",
       "      <td>none</td>\n",
       "      <td>own</td>\n",
       "      <td>2</td>\n",
       "      <td>skilled employee / official</td>\n",
       "      <td>1</td>\n",
       "      <td>yes, registered under the customers name</td>\n",
       "      <td>yes</td>\n",
       "    </tr>\n",
       "    <tr>\n",
       "      <th>1</th>\n",
       "      <td>1</td>\n",
       "      <td>0 &lt;= ... &lt; 200 DM</td>\n",
       "      <td>48</td>\n",
       "      <td>existing credits paid back duly till now</td>\n",
       "      <td>domestic appliances</td>\n",
       "      <td>5951</td>\n",
       "      <td>... &lt; 100 DM</td>\n",
       "      <td>1 &lt;= ... &lt; 4 years</td>\n",
       "      <td>2</td>\n",
       "      <td>female : divorced/separated/married</td>\n",
       "      <td>...</td>\n",
       "      <td>2</td>\n",
       "      <td>real estate</td>\n",
       "      <td>22</td>\n",
       "      <td>none</td>\n",
       "      <td>own</td>\n",
       "      <td>1</td>\n",
       "      <td>skilled employee / official</td>\n",
       "      <td>1</td>\n",
       "      <td>none</td>\n",
       "      <td>yes</td>\n",
       "    </tr>\n",
       "    <tr>\n",
       "      <th>2</th>\n",
       "      <td>0</td>\n",
       "      <td>no checking account</td>\n",
       "      <td>12</td>\n",
       "      <td>critical account/ other credits existing (not ...</td>\n",
       "      <td>(vacation - does not exist?)</td>\n",
       "      <td>2096</td>\n",
       "      <td>... &lt; 100 DM</td>\n",
       "      <td>4 &lt;= ... &lt; 7 years</td>\n",
       "      <td>2</td>\n",
       "      <td>male : single</td>\n",
       "      <td>...</td>\n",
       "      <td>3</td>\n",
       "      <td>real estate</td>\n",
       "      <td>49</td>\n",
       "      <td>none</td>\n",
       "      <td>own</td>\n",
       "      <td>1</td>\n",
       "      <td>unskilled - resident</td>\n",
       "      <td>2</td>\n",
       "      <td>none</td>\n",
       "      <td>yes</td>\n",
       "    </tr>\n",
       "    <tr>\n",
       "      <th>3</th>\n",
       "      <td>0</td>\n",
       "      <td>&lt; 0 DM</td>\n",
       "      <td>42</td>\n",
       "      <td>existing credits paid back duly till now</td>\n",
       "      <td>radio/television</td>\n",
       "      <td>7882</td>\n",
       "      <td>... &lt; 100 DM</td>\n",
       "      <td>4 &lt;= ... &lt; 7 years</td>\n",
       "      <td>2</td>\n",
       "      <td>male : single</td>\n",
       "      <td>...</td>\n",
       "      <td>4</td>\n",
       "      <td>if not A121 : building society savings agreeme...</td>\n",
       "      <td>45</td>\n",
       "      <td>none</td>\n",
       "      <td>for free</td>\n",
       "      <td>1</td>\n",
       "      <td>skilled employee / official</td>\n",
       "      <td>2</td>\n",
       "      <td>none</td>\n",
       "      <td>yes</td>\n",
       "    </tr>\n",
       "    <tr>\n",
       "      <th>4</th>\n",
       "      <td>1</td>\n",
       "      <td>&lt; 0 DM</td>\n",
       "      <td>24</td>\n",
       "      <td>delay in paying off in the past</td>\n",
       "      <td>car (new)</td>\n",
       "      <td>4870</td>\n",
       "      <td>... &lt; 100 DM</td>\n",
       "      <td>1 &lt;= ... &lt; 4 years</td>\n",
       "      <td>3</td>\n",
       "      <td>male : single</td>\n",
       "      <td>...</td>\n",
       "      <td>4</td>\n",
       "      <td>unknown / no property</td>\n",
       "      <td>53</td>\n",
       "      <td>none</td>\n",
       "      <td>for free</td>\n",
       "      <td>2</td>\n",
       "      <td>skilled employee / official</td>\n",
       "      <td>2</td>\n",
       "      <td>none</td>\n",
       "      <td>yes</td>\n",
       "    </tr>\n",
       "  </tbody>\n",
       "</table>\n",
       "<p>5 rows × 21 columns</p>\n",
       "</div>"
      ],
      "text/plain": [
       "   default account_check_status  duration_in_month  \\\n",
       "0        0               < 0 DM                  6   \n",
       "1        1    0 <= ... < 200 DM                 48   \n",
       "2        0  no checking account                 12   \n",
       "3        0               < 0 DM                 42   \n",
       "4        1               < 0 DM                 24   \n",
       "\n",
       "                                      credit_history  \\\n",
       "0  critical account/ other credits existing (not ...   \n",
       "1           existing credits paid back duly till now   \n",
       "2  critical account/ other credits existing (not ...   \n",
       "3           existing credits paid back duly till now   \n",
       "4                    delay in paying off in the past   \n",
       "\n",
       "                        purpose  credit_amount                      savings  \\\n",
       "0           domestic appliances           1169  unknown/ no savings account   \n",
       "1           domestic appliances           5951                 ... < 100 DM   \n",
       "2  (vacation - does not exist?)           2096                 ... < 100 DM   \n",
       "3              radio/television           7882                 ... < 100 DM   \n",
       "4                     car (new)           4870                 ... < 100 DM   \n",
       "\n",
       "    present_emp_since  installment_as_income_perc  \\\n",
       "0       .. >= 7 years                           4   \n",
       "1  1 <= ... < 4 years                           2   \n",
       "2  4 <= ... < 7 years                           2   \n",
       "3  4 <= ... < 7 years                           2   \n",
       "4  1 <= ... < 4 years                           3   \n",
       "\n",
       "                   personal_status_sex      ...       present_res_since  \\\n",
       "0                        male : single      ...                       4   \n",
       "1  female : divorced/separated/married      ...                       2   \n",
       "2                        male : single      ...                       3   \n",
       "3                        male : single      ...                       4   \n",
       "4                        male : single      ...                       4   \n",
       "\n",
       "                                            property age  \\\n",
       "0                                        real estate  67   \n",
       "1                                        real estate  22   \n",
       "2                                        real estate  49   \n",
       "3  if not A121 : building society savings agreeme...  45   \n",
       "4                              unknown / no property  53   \n",
       "\n",
       "   other_installment_plans   housing credits_this_bank  \\\n",
       "0                     none       own                 2   \n",
       "1                     none       own                 1   \n",
       "2                     none       own                 1   \n",
       "3                     none  for free                 1   \n",
       "4                     none  for free                 2   \n",
       "\n",
       "                           job people_under_maintenance  \\\n",
       "0  skilled employee / official                        1   \n",
       "1  skilled employee / official                        1   \n",
       "2         unskilled - resident                        2   \n",
       "3  skilled employee / official                        2   \n",
       "4  skilled employee / official                        2   \n",
       "\n",
       "                                   telephone foreign_worker  \n",
       "0  yes, registered under the customers name             yes  \n",
       "1                                       none            yes  \n",
       "2                                       none            yes  \n",
       "3                                       none            yes  \n",
       "4                                       none            yes  \n",
       "\n",
       "[5 rows x 21 columns]"
      ]
     },
     "execution_count": 62,
     "metadata": {},
     "output_type": "execute_result"
    }
   ],
   "source": [
    "credit_df.head(5)"
   ]
  },
  {
   "cell_type": "code",
   "execution_count": 63,
   "metadata": {},
   "outputs": [
    {
     "data": {
      "text/plain": [
       "default                        int64\n",
       "account_check_status          object\n",
       "duration_in_month              int64\n",
       "credit_history                object\n",
       "purpose                       object\n",
       "credit_amount                  int64\n",
       "savings                       object\n",
       "present_emp_since             object\n",
       "installment_as_income_perc     int64\n",
       "personal_status_sex           object\n",
       "other_debtors                 object\n",
       "present_res_since              int64\n",
       "property                      object\n",
       "age                            int64\n",
       "other_installment_plans       object\n",
       "housing                       object\n",
       "credits_this_bank              int64\n",
       "job                           object\n",
       "people_under_maintenance       int64\n",
       "telephone                     object\n",
       "foreign_worker                object\n",
       "dtype: object"
      ]
     },
     "execution_count": 63,
     "metadata": {},
     "output_type": "execute_result"
    }
   ],
   "source": [
    "credit_df.dtypes"
   ]
  },
  {
   "cell_type": "markdown",
   "metadata": {
    "colab_type": "text",
    "id": "ASgoNlMB_0ov"
   },
   "source": [
    "### Q1 Randomly select 50% data for this use case( 1 Marks)\n",
    "###### Hint: Use train_test_split"
   ]
  },
  {
   "cell_type": "code",
   "execution_count": 64,
   "metadata": {},
   "outputs": [],
   "source": [
    "from sklearn.model_selection import train_test_split\n",
    "from sklearn.linear_model import LinearRegression\n",
    "regression_model = LinearRegression()\n",
    "from mlxtend.feature_selection import SequentialFeatureSelector as sfs"
   ]
  },
  {
   "cell_type": "code",
   "execution_count": 65,
   "metadata": {
    "colab": {},
    "colab_type": "code",
    "id": "_LGo1xnK_0ow"
   },
   "outputs": [],
   "source": [
    "X = credit_df.drop('default', axis=1)\n",
    "y = credit_df[['default']]\n",
    "X_train, X_test, y_train, y_test = train_test_split(X, y, test_size=0.50, random_state=1)"
   ]
  },
  {
   "cell_type": "markdown",
   "metadata": {
    "colab_type": "text",
    "id": "utYEGBER_0o4"
   },
   "source": [
    "### Q2.Prepare the model data by converting non-numeric to dummy ( 1 Marks)\n",
    "##### Hint: Use get_dummies"
   ]
  },
  {
   "cell_type": "code",
   "execution_count": 66,
   "metadata": {},
   "outputs": [],
   "source": [
    "X_train = pd.get_dummies(X_train, drop_first=True)"
   ]
  },
  {
   "cell_type": "code",
   "execution_count": 67,
   "metadata": {},
   "outputs": [],
   "source": [
    "X_test = pd.get_dummies(X_test, drop_first=True)"
   ]
  },
  {
   "cell_type": "code",
   "execution_count": 68,
   "metadata": {},
   "outputs": [
    {
     "data": {
      "text/plain": [
       "(500, 48)"
      ]
     },
     "execution_count": 68,
     "metadata": {},
     "output_type": "execute_result"
    }
   ],
   "source": [
    "X_train.shape"
   ]
  },
  {
   "cell_type": "code",
   "execution_count": 69,
   "metadata": {},
   "outputs": [
    {
     "data": {
      "text/plain": [
       "(500, 48)"
      ]
     },
     "execution_count": 69,
     "metadata": {},
     "output_type": "execute_result"
    }
   ],
   "source": [
    "X_test.shape"
   ]
  },
  {
   "cell_type": "code",
   "execution_count": 70,
   "metadata": {},
   "outputs": [
    {
     "data": {
      "text/plain": [
       "duration_in_month                                                             int64\n",
       "credit_amount                                                                 int64\n",
       "installment_as_income_perc                                                    int64\n",
       "present_res_since                                                             int64\n",
       "age                                                                           int64\n",
       "credits_this_bank                                                             int64\n",
       "people_under_maintenance                                                      int64\n",
       "account_check_status_< 0 DM                                                   uint8\n",
       "account_check_status_>= 200 DM / salary assignments for at least 1 year       uint8\n",
       "account_check_status_no checking account                                      uint8\n",
       "credit_history_critical account/ other credits existing (not at this bank)    uint8\n",
       "credit_history_delay in paying off in the past                                uint8\n",
       "credit_history_existing credits paid back duly till now                       uint8\n",
       "credit_history_no credits taken/ all credits paid back duly                   uint8\n",
       "purpose_business                                                              uint8\n",
       "purpose_car (new)                                                             uint8\n",
       "purpose_car (used)                                                            uint8\n",
       "purpose_domestic appliances                                                   uint8\n",
       "purpose_education                                                             uint8\n",
       "purpose_furniture/equipment                                                   uint8\n",
       "purpose_radio/television                                                      uint8\n",
       "purpose_repairs                                                               uint8\n",
       "purpose_retraining                                                            uint8\n",
       "savings_... < 100 DM                                                          uint8\n",
       "savings_100 <= ... < 500 DM                                                   uint8\n",
       "savings_500 <= ... < 1000 DM                                                  uint8\n",
       "savings_unknown/ no savings account                                           uint8\n",
       "present_emp_since_... < 1 year                                                uint8\n",
       "present_emp_since_1 <= ... < 4 years                                          uint8\n",
       "present_emp_since_4 <= ... < 7 years                                          uint8\n",
       "present_emp_since_unemployed                                                  uint8\n",
       "personal_status_sex_male : divorced/separated                                 uint8\n",
       "personal_status_sex_male : married/widowed                                    uint8\n",
       "personal_status_sex_male : single                                             uint8\n",
       "other_debtors_guarantor                                                       uint8\n",
       "other_debtors_none                                                            uint8\n",
       "property_if not A121/A122 : car or other, not in attribute 6                  uint8\n",
       "property_real estate                                                          uint8\n",
       "property_unknown / no property                                                uint8\n",
       "other_installment_plans_none                                                  uint8\n",
       "other_installment_plans_stores                                                uint8\n",
       "housing_own                                                                   uint8\n",
       "housing_rent                                                                  uint8\n",
       "job_skilled employee / official                                               uint8\n",
       "job_unemployed/ unskilled - non-resident                                      uint8\n",
       "job_unskilled - resident                                                      uint8\n",
       "telephone_yes, registered under the customers name                            uint8\n",
       "foreign_worker_yes                                                            uint8\n",
       "dtype: object"
      ]
     },
     "execution_count": 70,
     "metadata": {},
     "output_type": "execute_result"
    }
   ],
   "source": [
    "X_train.dtypes"
   ]
  },
  {
   "cell_type": "code",
   "execution_count": 71,
   "metadata": {},
   "outputs": [
    {
     "data": {
      "text/plain": [
       "duration_in_month                                                             int64\n",
       "credit_amount                                                                 int64\n",
       "installment_as_income_perc                                                    int64\n",
       "present_res_since                                                             int64\n",
       "age                                                                           int64\n",
       "credits_this_bank                                                             int64\n",
       "people_under_maintenance                                                      int64\n",
       "account_check_status_< 0 DM                                                   uint8\n",
       "account_check_status_>= 200 DM / salary assignments for at least 1 year       uint8\n",
       "account_check_status_no checking account                                      uint8\n",
       "credit_history_critical account/ other credits existing (not at this bank)    uint8\n",
       "credit_history_delay in paying off in the past                                uint8\n",
       "credit_history_existing credits paid back duly till now                       uint8\n",
       "credit_history_no credits taken/ all credits paid back duly                   uint8\n",
       "purpose_business                                                              uint8\n",
       "purpose_car (new)                                                             uint8\n",
       "purpose_car (used)                                                            uint8\n",
       "purpose_domestic appliances                                                   uint8\n",
       "purpose_education                                                             uint8\n",
       "purpose_furniture/equipment                                                   uint8\n",
       "purpose_radio/television                                                      uint8\n",
       "purpose_repairs                                                               uint8\n",
       "purpose_retraining                                                            uint8\n",
       "savings_... < 100 DM                                                          uint8\n",
       "savings_100 <= ... < 500 DM                                                   uint8\n",
       "savings_500 <= ... < 1000 DM                                                  uint8\n",
       "savings_unknown/ no savings account                                           uint8\n",
       "present_emp_since_... < 1 year                                                uint8\n",
       "present_emp_since_1 <= ... < 4 years                                          uint8\n",
       "present_emp_since_4 <= ... < 7 years                                          uint8\n",
       "present_emp_since_unemployed                                                  uint8\n",
       "personal_status_sex_male : divorced/separated                                 uint8\n",
       "personal_status_sex_male : married/widowed                                    uint8\n",
       "personal_status_sex_male : single                                             uint8\n",
       "other_debtors_guarantor                                                       uint8\n",
       "other_debtors_none                                                            uint8\n",
       "property_if not A121/A122 : car or other, not in attribute 6                  uint8\n",
       "property_real estate                                                          uint8\n",
       "property_unknown / no property                                                uint8\n",
       "other_installment_plans_none                                                  uint8\n",
       "other_installment_plans_stores                                                uint8\n",
       "housing_own                                                                   uint8\n",
       "housing_rent                                                                  uint8\n",
       "job_skilled employee / official                                               uint8\n",
       "job_unemployed/ unskilled - non-resident                                      uint8\n",
       "job_unskilled - resident                                                      uint8\n",
       "telephone_yes, registered under the customers name                            uint8\n",
       "foreign_worker_yes                                                            uint8\n",
       "dtype: object"
      ]
     },
     "execution_count": 71,
     "metadata": {},
     "output_type": "execute_result"
    }
   ],
   "source": [
    "X_test.dtypes"
   ]
  },
  {
   "cell_type": "code",
   "execution_count": 72,
   "metadata": {
    "colab": {},
    "colab_type": "code",
    "id": "wjyTJcA6_0o6",
    "outputId": "e6bf7e9d-5732-4836-c0bb-fe03ba34683e"
   },
   "outputs": [
    {
     "data": {
      "text/plain": [
       "(1000, 21)"
      ]
     },
     "execution_count": 72,
     "metadata": {},
     "output_type": "execute_result"
    }
   ],
   "source": [
    "# Print Shape of model data\n",
    "credit_df.shape"
   ]
  },
  {
   "cell_type": "markdown",
   "metadata": {
    "colab_type": "text",
    "id": "ytl4nlUW_0pA"
   },
   "source": [
    "### Check for highly correlated variables but don't required any treatment for this use case"
   ]
  },
  {
   "cell_type": "code",
   "execution_count": 73,
   "metadata": {
    "colab": {},
    "colab_type": "code",
    "id": "0W02DKRx_0pA"
   },
   "outputs": [],
   "source": [
    "linR = LinearRegression()\n",
    "# Build step forward feature selection\n",
    "sfs1 = sfs(linR, k_features=5, forward=True, scoring='r2', cv=5)"
   ]
  },
  {
   "cell_type": "code",
   "execution_count": 74,
   "metadata": {},
   "outputs": [],
   "source": [
    "# Perform SFFS\n",
    "sfs1 = sfs1.fit(X_train.values, y_train.values)"
   ]
  },
  {
   "cell_type": "code",
   "execution_count": 75,
   "metadata": {},
   "outputs": [
    {
     "data": {
      "text/plain": [
       "{1: {'feature_idx': (9,),\n",
       "  'cv_scores': array([0.08642071, 0.03962363, 0.09933915, 0.09960609, 0.12028534]),\n",
       "  'avg_score': 0.08905498541577539,\n",
       "  'feature_names': ('9',),\n",
       "  'ci_bound': 0.03469248949830252,\n",
       "  'std_dev': 0.026991935447571575,\n",
       "  'std_err': 0.013495967723785788},\n",
       " 2: {'feature_idx': (2, 9),\n",
       "  'cv_scores': array([0.10424683, 0.0563436 , 0.12346376, 0.11544053, 0.13477901]),\n",
       "  'avg_score': 0.10685474763573213,\n",
       "  'feature_names': ('2', '9'),\n",
       "  'ci_bound': 0.0349046588734468,\n",
       "  'std_dev': 0.027157010429524838,\n",
       "  'std_err': 0.013578505214762419},\n",
       " 3: {'feature_idx': (2, 4, 9),\n",
       "  'cv_scores': array([0.11584256, 0.0840147 , 0.14437274, 0.13517636, 0.14035642]),\n",
       "  'avg_score': 0.12395255635733304,\n",
       "  'feature_names': ('2', '4', '9'),\n",
       "  'ci_bound': 0.028583488953188324,\n",
       "  'std_dev': 0.02223892548064574,\n",
       "  'std_err': 0.011119462740322869},\n",
       " 4: {'feature_idx': (1, 2, 4, 9),\n",
       "  'cv_scores': array([0.1507706 , 0.11780607, 0.1434903 , 0.1355565 , 0.15872802]),\n",
       "  'avg_score': 0.1412702971026524,\n",
       "  'feature_names': ('1', '2', '4', '9'),\n",
       "  'ci_bound': 0.018023185098533685,\n",
       "  'std_dev': 0.014022650313493888,\n",
       "  'std_err': 0.007011325156746944},\n",
       " 5: {'feature_idx': (1, 2, 4, 9, 15),\n",
       "  'cv_scores': array([0.17667872, 0.10318885, 0.15814431, 0.14467688, 0.21384607]),\n",
       "  'avg_score': 0.15930696737803676,\n",
       "  'feature_names': ('1', '2', '4', '9', '15'),\n",
       "  'ci_bound': 0.046841494326160776,\n",
       "  'std_dev': 0.036444273945269494,\n",
       "  'std_err': 0.018222136972634747}}"
      ]
     },
     "execution_count": 75,
     "metadata": {},
     "output_type": "execute_result"
    }
   ],
   "source": [
    "sfs1.get_metric_dict()"
   ]
  },
  {
   "cell_type": "code",
   "execution_count": 76,
   "metadata": {},
   "outputs": [
    {
     "name": "stdout",
     "output_type": "stream",
     "text": [
      "[1, 2, 4, 9, 15]\n"
     ]
    }
   ],
   "source": [
    "# Which features?\n",
    "columnList = list(X_train.columns)\n",
    "feat_cols = list(sfs1.k_feature_idx_)\n",
    "print(feat_cols)"
   ]
  },
  {
   "cell_type": "code",
   "execution_count": 77,
   "metadata": {},
   "outputs": [
    {
     "data": {
      "text/plain": [
       "duration_in_month                                                             int64\n",
       "credit_amount                                                                 int64\n",
       "installment_as_income_perc                                                    int64\n",
       "present_res_since                                                             int64\n",
       "age                                                                           int64\n",
       "credits_this_bank                                                             int64\n",
       "people_under_maintenance                                                      int64\n",
       "account_check_status_< 0 DM                                                   uint8\n",
       "account_check_status_>= 200 DM / salary assignments for at least 1 year       uint8\n",
       "account_check_status_no checking account                                      uint8\n",
       "credit_history_critical account/ other credits existing (not at this bank)    uint8\n",
       "credit_history_delay in paying off in the past                                uint8\n",
       "credit_history_existing credits paid back duly till now                       uint8\n",
       "credit_history_no credits taken/ all credits paid back duly                   uint8\n",
       "purpose_business                                                              uint8\n",
       "purpose_car (new)                                                             uint8\n",
       "purpose_car (used)                                                            uint8\n",
       "purpose_domestic appliances                                                   uint8\n",
       "purpose_education                                                             uint8\n",
       "purpose_furniture/equipment                                                   uint8\n",
       "purpose_radio/television                                                      uint8\n",
       "purpose_repairs                                                               uint8\n",
       "purpose_retraining                                                            uint8\n",
       "savings_... < 100 DM                                                          uint8\n",
       "savings_100 <= ... < 500 DM                                                   uint8\n",
       "savings_500 <= ... < 1000 DM                                                  uint8\n",
       "savings_unknown/ no savings account                                           uint8\n",
       "present_emp_since_... < 1 year                                                uint8\n",
       "present_emp_since_1 <= ... < 4 years                                          uint8\n",
       "present_emp_since_4 <= ... < 7 years                                          uint8\n",
       "present_emp_since_unemployed                                                  uint8\n",
       "personal_status_sex_male : divorced/separated                                 uint8\n",
       "personal_status_sex_male : married/widowed                                    uint8\n",
       "personal_status_sex_male : single                                             uint8\n",
       "other_debtors_guarantor                                                       uint8\n",
       "other_debtors_none                                                            uint8\n",
       "property_if not A121/A122 : car or other, not in attribute 6                  uint8\n",
       "property_real estate                                                          uint8\n",
       "property_unknown / no property                                                uint8\n",
       "other_installment_plans_none                                                  uint8\n",
       "other_installment_plans_stores                                                uint8\n",
       "housing_own                                                                   uint8\n",
       "housing_rent                                                                  uint8\n",
       "job_skilled employee / official                                               uint8\n",
       "job_unemployed/ unskilled - non-resident                                      uint8\n",
       "job_unskilled - resident                                                      uint8\n",
       "telephone_yes, registered under the customers name                            uint8\n",
       "foreign_worker_yes                                                            uint8\n",
       "dtype: object"
      ]
     },
     "execution_count": 77,
     "metadata": {},
     "output_type": "execute_result"
    }
   ],
   "source": [
    "X_train.dtypes"
   ]
  },
  {
   "cell_type": "code",
   "execution_count": 78,
   "metadata": {},
   "outputs": [
    {
     "name": "stdout",
     "output_type": "stream",
     "text": [
      "['credit_amount', 'installment_as_income_perc', 'age', 'account_check_status_no checking account', 'purpose_car (new)']\n"
     ]
    }
   ],
   "source": [
    "subsetColumnList = [columnList[i] for i in feat_cols] \n",
    "print(subsetColumnList)"
   ]
  },
  {
   "cell_type": "markdown",
   "metadata": {
    "colab_type": "text",
    "id": "jeI1_7is_0pG"
   },
   "source": [
    "### Drop the original variables which are converted to dummy"
   ]
  },
  {
   "cell_type": "code",
   "execution_count": 79,
   "metadata": {},
   "outputs": [],
   "source": [
    "credit_df= credit_df.drop('duration_in_month', axis=1)\n",
    "credit_df= credit_df.drop('credit_history', axis=1)\n",
    "credit_df= credit_df.drop('savings', axis=1)\n",
    "credit_df= credit_df.drop('present_emp_since', axis=1)\n",
    "credit_df= credit_df.drop('personal_status_sex', axis=1)\n",
    "credit_df= credit_df.drop('other_debtors', axis=1)\n",
    "credit_df= credit_df.drop('present_res_since', axis=1)\n",
    "credit_df= credit_df.drop('property', axis=1)\n",
    "credit_df= credit_df.drop('other_installment_plans', axis=1)\n",
    "credit_df= credit_df.drop('housing', axis=1)\n",
    "credit_df= credit_df.drop('credits_this_bank', axis=1)\n",
    "credit_df= credit_df.drop('job', axis=1)\n",
    "credit_df= credit_df.drop('people_under_maintenance', axis=1)\n",
    "credit_df= credit_df.drop('telephone', axis=1)\n",
    "credit_df= credit_df.drop('foreign_worker', axis=1)"
   ]
  },
  {
   "cell_type": "code",
   "execution_count": 80,
   "metadata": {
    "colab": {},
    "colab_type": "code",
    "id": "LYeShbCO_0pI"
   },
   "outputs": [
    {
     "data": {
      "text/plain": [
       "default                        int64\n",
       "account_check_status          object\n",
       "purpose                       object\n",
       "credit_amount                  int64\n",
       "installment_as_income_perc     int64\n",
       "age                            int64\n",
       "dtype: object"
      ]
     },
     "execution_count": 80,
     "metadata": {},
     "output_type": "execute_result"
    }
   ],
   "source": [
    "credit_df.dtypes"
   ]
  },
  {
   "cell_type": "code",
   "execution_count": 81,
   "metadata": {},
   "outputs": [],
   "source": [
    "credit_df = pd.get_dummies(credit_df, drop_first=True)"
   ]
  },
  {
   "cell_type": "code",
   "execution_count": 82,
   "metadata": {},
   "outputs": [
    {
     "data": {
      "text/plain": [
       "default                                                                    int64\n",
       "credit_amount                                                              int64\n",
       "installment_as_income_perc                                                 int64\n",
       "age                                                                        int64\n",
       "account_check_status_< 0 DM                                                uint8\n",
       "account_check_status_>= 200 DM / salary assignments for at least 1 year    uint8\n",
       "account_check_status_no checking account                                   uint8\n",
       "purpose_business                                                           uint8\n",
       "purpose_car (new)                                                          uint8\n",
       "purpose_car (used)                                                         uint8\n",
       "purpose_domestic appliances                                                uint8\n",
       "purpose_education                                                          uint8\n",
       "purpose_furniture/equipment                                                uint8\n",
       "purpose_radio/television                                                   uint8\n",
       "purpose_repairs                                                            uint8\n",
       "purpose_retraining                                                         uint8\n",
       "dtype: object"
      ]
     },
     "execution_count": 82,
     "metadata": {},
     "output_type": "execute_result"
    }
   ],
   "source": [
    "credit_df.dtypes"
   ]
  },
  {
   "cell_type": "code",
   "execution_count": 83,
   "metadata": {},
   "outputs": [],
   "source": [
    "credit_df= credit_df.drop('account_check_status_< 0 DM', axis=1)\n",
    "credit_df= credit_df.drop('account_check_status_>= 200 DM / salary assignments for at least 1 year', axis=1)\n",
    "credit_df= credit_df.drop('purpose_business', axis=1)\n",
    "credit_df= credit_df.drop('purpose_car (used)', axis=1)\n",
    "credit_df= credit_df.drop('purpose_domestic appliances', axis=1)\n",
    "credit_df= credit_df.drop('purpose_education', axis=1)\n",
    "credit_df= credit_df.drop('purpose_furniture/equipment', axis=1)\n",
    "credit_df= credit_df.drop('purpose_radio/television', axis=1)\n",
    "credit_df= credit_df.drop('purpose_repairs', axis=1)\n",
    "credit_df= credit_df.drop('purpose_retraining', axis=1)"
   ]
  },
  {
   "cell_type": "markdown",
   "metadata": {
    "colab_type": "text",
    "id": "XLtFcI1m_0pQ"
   },
   "source": [
    "### Q3 Split Train/Test data 70:30 ratio( 1 Marks)\n",
    "##### Hint:from sklearn.model_selection import train_test_split"
   ]
  },
  {
   "cell_type": "code",
   "execution_count": 84,
   "metadata": {
    "colab": {},
    "colab_type": "code",
    "id": "pHxXKL92_0pS"
   },
   "outputs": [],
   "source": [
    "X = credit_df.drop('default', axis=1)\n",
    "y = credit_df[['default']]\n",
    "X_train, X_test, y_train, y_test = train_test_split(X, y, test_size=0.30, random_state=1)"
   ]
  },
  {
   "cell_type": "markdown",
   "metadata": {
    "colab_type": "text",
    "id": "wWTpd4Ng_0pW"
   },
   "source": [
    "### Q4 Build Random Forest Model( 1 Marks)\n",
    "#### Hint:from sklearn.ensemble import RandomForestClassifier using n_jobs=2,n_estimators=500,criterion=\"entropy\",random_state=9999"
   ]
  },
  {
   "cell_type": "code",
   "execution_count": 89,
   "metadata": {
    "colab": {},
    "colab_type": "code",
    "id": "AHX5tgQm_0pY"
   },
   "outputs": [],
   "source": [
    "Rf_model = RandomForestClassifier(n_jobs=2, n_estimators=500,criterion='entropy',max_depth=5,random_state=9999 )"
   ]
  },
  {
   "cell_type": "code",
   "execution_count": 90,
   "metadata": {},
   "outputs": [
    {
     "data": {
      "text/plain": [
       "RandomForestClassifier(bootstrap=True, class_weight=None, criterion='entropy',\n",
       "            max_depth=5, max_features='auto', max_leaf_nodes=None,\n",
       "            min_impurity_decrease=0.0, min_impurity_split=None,\n",
       "            min_samples_leaf=1, min_samples_split=2,\n",
       "            min_weight_fraction_leaf=0.0, n_estimators=500, n_jobs=2,\n",
       "            oob_score=False, random_state=9999, verbose=0,\n",
       "            warm_start=False)"
      ]
     },
     "execution_count": 90,
     "metadata": {},
     "output_type": "execute_result"
    }
   ],
   "source": [
    "Rf_model.fit(X_train, y_train)"
   ]
  },
  {
   "cell_type": "code",
   "execution_count": 91,
   "metadata": {},
   "outputs": [],
   "source": [
    "y_predict_Rf=Rf_model.predict(X_test)"
   ]
  },
  {
   "cell_type": "markdown",
   "metadata": {
    "colab_type": "text",
    "id": "LuQwgG7T_0pa"
   },
   "source": [
    "### Q5 Calculate Confusion Matrix and Accuracy score (1 Marks)\n",
    "##### Hint: Use confusion_matrix and accuracy_score"
   ]
  },
  {
   "cell_type": "code",
   "execution_count": 92,
   "metadata": {},
   "outputs": [
    {
     "name": "stdout",
     "output_type": "stream",
     "text": [
      "             precision    recall  f1-score   support\n",
      "\n",
      "          0       0.75      0.94      0.83       214\n",
      "          1       0.59      0.22      0.32        86\n",
      "\n",
      "avg / total       0.71      0.73      0.69       300\n",
      "\n"
     ]
    }
   ],
   "source": [
    "Rf_cr=metrics.classification_report(y_test,y_predict_Rf)\n",
    "print(Rf_cr)"
   ]
  },
  {
   "cell_type": "code",
   "execution_count": 93,
   "metadata": {},
   "outputs": [
    {
     "name": "stdout",
     "output_type": "stream",
     "text": [
      "0.7333333333333333\n"
     ]
    }
   ],
   "source": [
    "Rf_acc=metrics.accuracy_score(y_test,y_predict_Rf)\n",
    "print(Rf_acc)"
   ]
  },
  {
   "cell_type": "code",
   "execution_count": 95,
   "metadata": {},
   "outputs": [
    {
     "name": "stdout",
     "output_type": "stream",
     "text": [
      "[[201  13]\n",
      " [ 67  19]]\n"
     ]
    }
   ],
   "source": [
    "from sklearn.metrics import confusion_matrix\n",
    "\n",
    "conf_mat = confusion_matrix(y_test,y_predict_Rf)\n",
    "print(conf_mat)"
   ]
  },
  {
   "cell_type": "markdown",
   "metadata": {
    "colab_type": "text",
    "id": "x2wDGYcC_0pf"
   },
   "source": [
    "### Q6 Show the list of the features importance( 1 Marks)"
   ]
  },
  {
   "cell_type": "code",
   "execution_count": 96,
   "metadata": {
    "colab": {},
    "colab_type": "code",
    "id": "bEWKBXX8_0ph"
   },
   "outputs": [
    {
     "name": "stdout",
     "output_type": "stream",
     "text": [
      "credit_amount                               0.344556\n",
      "account_check_status_no checking account    0.290352\n",
      "age                                         0.213374\n",
      "installment_as_income_perc                  0.105237\n",
      "purpose_car (new)                           0.046480\n",
      "dtype: float64\n"
     ]
    }
   ],
   "source": [
    "print (pd.Series(Rf_model.feature_importances_,index = list(X)).sort_values(ascending=False))"
   ]
  },
  {
   "cell_type": "markdown",
   "metadata": {
    "colab_type": "text",
    "id": "U7VnUE71_0pk"
   },
   "source": [
    "### Q7 K-fold cross-validation( 2 Marks)\n",
    "##### k-fold cross validation( without stratification)\n",
    "##### Usually k is set as 10-20 in practical settings, depends on data set size"
   ]
  },
  {
   "cell_type": "code",
   "execution_count": 98,
   "metadata": {
    "colab": {},
    "colab_type": "code",
    "id": "Pf6rIo-c_0pm"
   },
   "outputs": [],
   "source": [
    "from sklearn.model_selection import KFold\n",
    "from sklearn.model_selection import cross_val_score"
   ]
  },
  {
   "cell_type": "code",
   "execution_count": 99,
   "metadata": {
    "colab": {},
    "colab_type": "code",
    "id": "SLIiX3BP_0pp"
   },
   "outputs": [],
   "source": [
    "# Use below values\n",
    "num_folds = 10\n",
    "seed = 77"
   ]
  },
  {
   "cell_type": "code",
   "execution_count": 7,
   "metadata": {
    "colab": {},
    "colab_type": "code",
    "id": "lDyCh_OG_0pt"
   },
   "outputs": [],
   "source": [
    "#Validate the Random Forest model build above using k fold"
   ]
  },
  {
   "cell_type": "code",
   "execution_count": 97,
   "metadata": {
    "colab": {},
    "colab_type": "code",
    "id": "fvxAgXik_0p0"
   },
   "outputs": [],
   "source": [
    "X_std = StandardScaler().fit_transform(X)"
   ]
  },
  {
   "cell_type": "code",
   "execution_count": 100,
   "metadata": {},
   "outputs": [
    {
     "name": "stdout",
     "output_type": "stream",
     "text": [
      "1: 0.725000 (0.047592)\n",
      "2: 0.725000 (0.047592)\n",
      "3: 0.725000 (0.047592)\n",
      "4: 0.725000 (0.047592)\n",
      "5: 0.725000 (0.047592)\n",
      "6: 0.725000 (0.047592)\n",
      "7: 0.725000 (0.047592)\n",
      "8: 0.725000 (0.047592)\n",
      "9: 0.725000 (0.047592)\n",
      "10: 0.725000 (0.047592)\n",
      "11: 0.725000 (0.047592)\n",
      "12: 0.725000 (0.047592)\n",
      "13: 0.725000 (0.047592)\n",
      "14: 0.725000 (0.047592)\n",
      "15: 0.725000 (0.047592)\n",
      "16: 0.725000 (0.047592)\n",
      "17: 0.725000 (0.047592)\n",
      "18: 0.725000 (0.047592)\n",
      "19: 0.725000 (0.047592)\n",
      "20: 0.725000 (0.047592)\n",
      "21: 0.725000 (0.047592)\n",
      "22: 0.725000 (0.047592)\n",
      "23: 0.725000 (0.047592)\n",
      "24: 0.725000 (0.047592)\n",
      "25: 0.725000 (0.047592)\n",
      "26: 0.725000 (0.047592)\n",
      "27: 0.725000 (0.047592)\n",
      "28: 0.725000 (0.047592)\n",
      "29: 0.725000 (0.047592)\n",
      "30: 0.725000 (0.047592)\n",
      "31: 0.725000 (0.047592)\n",
      "32: 0.725000 (0.047592)\n",
      "33: 0.725000 (0.047592)\n",
      "34: 0.725000 (0.047592)\n",
      "35: 0.725000 (0.047592)\n",
      "36: 0.725000 (0.047592)\n",
      "37: 0.725000 (0.047592)\n",
      "38: 0.725000 (0.047592)\n",
      "39: 0.725000 (0.047592)\n",
      "40: 0.725000 (0.047592)\n",
      "41: 0.725000 (0.047592)\n",
      "42: 0.725000 (0.047592)\n",
      "43: 0.725000 (0.047592)\n",
      "44: 0.725000 (0.047592)\n",
      "45: 0.725000 (0.047592)\n",
      "46: 0.725000 (0.047592)\n",
      "47: 0.725000 (0.047592)\n",
      "48: 0.725000 (0.047592)\n",
      "49: 0.725000 (0.047592)\n",
      "50: 0.725000 (0.047592)\n",
      "51: 0.725000 (0.047592)\n",
      "52: 0.725000 (0.047592)\n",
      "53: 0.725000 (0.047592)\n",
      "54: 0.725000 (0.047592)\n",
      "55: 0.725000 (0.047592)\n",
      "56: 0.725000 (0.047592)\n",
      "57: 0.725000 (0.047592)\n",
      "58: 0.725000 (0.047592)\n",
      "59: 0.725000 (0.047592)\n",
      "60: 0.725000 (0.047592)\n",
      "61: 0.725000 (0.047592)\n",
      "62: 0.725000 (0.047592)\n",
      "63: 0.725000 (0.047592)\n",
      "64: 0.725000 (0.047592)\n",
      "65: 0.725000 (0.047592)\n",
      "66: 0.725000 (0.047592)\n",
      "67: 0.725000 (0.047592)\n",
      "68: 0.725000 (0.047592)\n",
      "69: 0.725000 (0.047592)\n",
      "70: 0.725000 (0.047592)\n",
      "71: 0.725000 (0.047592)\n",
      "72: 0.725000 (0.047592)\n",
      "73: 0.725000 (0.047592)\n",
      "74: 0.725000 (0.047592)\n",
      "75: 0.725000 (0.047592)\n",
      "76: 0.725000 (0.047592)\n"
     ]
    }
   ],
   "source": [
    "n_estimators = range(1, seed)\n",
    "results = []\n",
    "scoring = 'accuracy'\n",
    "for estimator in n_estimators:\n",
    "    kfold = model_selection.KFold(n_splits=num_folds,random_state=2)\n",
    "    cv_results = model_selection.cross_val_score(Rf_model, X_std, y, cv=kfold, scoring=scoring)\n",
    "    results.append(cv_results)\n",
    "    msg = \"%s: %f (%f)\" % (estimator, cv_results.mean(), cv_results.std())\n",
    "    print(msg)"
   ]
  },
  {
   "cell_type": "markdown",
   "metadata": {
    "colab_type": "text",
    "id": "kB0x5yLs_0qM"
   },
   "source": [
    "# Q8 Print the confusion matrix( 1 Marks)"
   ]
  },
  {
   "cell_type": "code",
   "execution_count": 101,
   "metadata": {
    "colab": {},
    "colab_type": "code",
    "id": "WiS5l8Cn_0qO"
   },
   "outputs": [
    {
     "name": "stdout",
     "output_type": "stream",
     "text": [
      "[[201  13]\n",
      " [ 67  19]]\n"
     ]
    }
   ],
   "source": [
    "conf_mat = confusion_matrix(y_test,y_predict_Rf)\n",
    "print(conf_mat)"
   ]
  },
  {
   "cell_type": "markdown",
   "metadata": {
    "colab_type": "text",
    "id": "uMLxrkNg_0qR"
   },
   "source": [
    "# Q9.Classification accuracy: \n",
    "percentage of correct predictions and Calculate sensitivity (or True Positive Rate or Recall) and Precision.\n",
    "( 1 Marks)"
   ]
  },
  {
   "cell_type": "code",
   "execution_count": 102,
   "metadata": {
    "colab": {},
    "colab_type": "code",
    "id": "QUG5Y_li_0qT"
   },
   "outputs": [
    {
     "name": "stdout",
     "output_type": "stream",
     "text": [
      "             precision    recall  f1-score   support\n",
      "\n",
      "          0       0.75      0.94      0.83       214\n",
      "          1       0.59      0.22      0.32        86\n",
      "\n",
      "avg / total       0.71      0.73      0.69       300\n",
      "\n"
     ]
    }
   ],
   "source": [
    "Rf_cr=metrics.classification_report(y_test,y_predict_Rf)\n",
    "print(Rf_cr)"
   ]
  },
  {
   "cell_type": "code",
   "execution_count": null,
   "metadata": {
    "colab": {},
    "colab_type": "code",
    "id": "IS9CZaZr_0qX"
   },
   "outputs": [],
   "source": []
  },
  {
   "cell_type": "markdown",
   "metadata": {
    "colab_type": "text",
    "id": "IlPEO3pO_0qa"
   },
   "source": [
    "# Q10.Plot Receiver Operating Characteristic (ROC) Curves( 1 Marks)"
   ]
  },
  {
   "cell_type": "code",
   "execution_count": 103,
   "metadata": {
    "colab": {},
    "colab_type": "code",
    "id": "YGyM8Uh4_0qb"
   },
   "outputs": [],
   "source": [
    "#Hint: Use roc_curve"
   ]
  },
  {
   "cell_type": "code",
   "execution_count": 105,
   "metadata": {
    "colab": {},
    "colab_type": "code",
    "id": "ZCJ-wYLX_0qo"
   },
   "outputs": [
    {
     "data": {
      "text/plain": [
       "0.5800912845033689"
      ]
     },
     "execution_count": 105,
     "metadata": {},
     "output_type": "execute_result"
    }
   ],
   "source": [
    "from sklearn.metrics import roc_curve, auc\n",
    "false_positive_rate, true_positive_rate, thresholds = roc_curve(y_test,y_predict_Rf)\n",
    "roc_auc = auc(false_positive_rate, true_positive_rate)\n",
    "roc_auc"
   ]
  },
  {
   "cell_type": "markdown",
   "metadata": {
    "colab_type": "text",
    "id": "annGF0Bh_0qr"
   },
   "source": [
    "ROC curve can help you to choose a threshold that balances sensitivity and specificity in a way that makes sense for your particular context"
   ]
  },
  {
   "cell_type": "markdown",
   "metadata": {
    "colab_type": "text",
    "id": "rE4Qbbh5_0qt"
   },
   "source": [
    "# Q11. Calculate AUC(the percentage of the ROC plot that is underneath the curve) - optional"
   ]
  },
  {
   "cell_type": "code",
   "execution_count": 106,
   "metadata": {
    "colab": {},
    "colab_type": "code",
    "id": "8nwRSPz4_0qu"
   },
   "outputs": [
    {
     "data": {
      "text/plain": [
       "0.5800912845033689"
      ]
     },
     "execution_count": 106,
     "metadata": {},
     "output_type": "execute_result"
    }
   ],
   "source": [
    "roc_auc = auc(false_positive_rate, true_positive_rate)\n",
    "roc_auc"
   ]
  },
  {
   "cell_type": "code",
   "execution_count": 107,
   "metadata": {
    "colab": {},
    "colab_type": "code",
    "id": "fsjK0GSg_0qx"
   },
   "outputs": [
    {
     "name": "stdout",
     "output_type": "stream",
     "text": [
      "Area Under the curve [0.         0.22093023 1.        ]\n"
     ]
    },
    {
     "data": {
      "image/png": "[encoded data removed]",
      "text/plain": [
       "<Figure size 432x288 with 1 Axes>"
      ]
     },
     "metadata": {
      "needs_background": "light"
     },
     "output_type": "display_data"
    }
   ],
   "source": [
    "print('Area Under the curve',true_positive_rate)\n",
    "plt.figure()\n",
    "plt.plot(false_positive_rate, true_positive_rate)\n",
    "plt.xlim([0.0, 1.0])\n",
    "plt.ylim([0.0, 1.0])\n",
    "plt.xlabel('False Positive Rate')\n",
    "plt.ylabel('True Positive Rate')\n",
    "plt.title('Receiver operating characteristic')\n",
    "plt.show()"
   ]
  },
  {
   "cell_type": "markdown",
   "metadata": {
    "colab_type": "text",
    "id": "BZ43LYtQ_0q9"
   },
   "source": [
    "### Bootstrapping ( Bonus)\n",
    "##### Given a dataset of size n, a bootstrap sample is created by sampling n instances uniformly from the data (with/without replacement)\n",
    "##### Create a model with each bootstrap sample and validate it with the test set\n",
    "##### Final result is calculated by averaging the accuracy of models"
   ]
  },
  {
   "cell_type": "code",
   "execution_count": 108,
   "metadata": {
    "colab": {},
    "colab_type": "code",
    "id": "8KwXPTNE_0q9"
   },
   "outputs": [],
   "source": [
    "# Number of iterations for bootstrapping\n",
    "bootstrap_iteration = 10\n",
    "accuracy = []"
   ]
  },
  {
   "cell_type": "code",
   "execution_count": null,
   "metadata": {
    "colab": {},
    "colab_type": "code",
    "id": "rVQTCij9_0rA"
   },
   "outputs": [
    {
     "name": "stdout",
     "output_type": "stream",
     "text": [
      "1: 0.725000 (0.047592)\n",
      "2: 0.725000 (0.047592)\n",
      "3: 0.725000 (0.047592)\n",
      "4: 0.725000 (0.047592)\n",
      "5: 0.725000 (0.047592)\n",
      "6: 0.725000 (0.047592)\n"
     ]
    }
   ],
   "source": [
    "n_estimators = range(1, bootstrap_iteration)\n",
    "scoring = 'accuracy'\n",
    "for estimator in n_estimators:\n",
    "    kfold = model_selection.KFold(n_splits=num_folds,random_state=2)\n",
    "    cv_results = model_selection.cross_val_score(Rf_model, X_std, y, cv=kfold, scoring=scoring)\n",
    "    accuracy.append(cv_results)\n",
    "    msg = \"%s: %f (%f)\" % (estimator, cv_results.mean(), cv_results.std())\n",
    "    print(msg)"
   ]
  }
 ],
 "metadata": {
  "colab": {
   "name": "R4_External_Lab_Validation_Accuracy.ipynb",
   "provenance": [],
   "version": "0.3.2"
  },
  "kernelspec": {
   "display_name": "Python 3",
   "language": "python",
   "name": "python3"
  },
  "language_info": {
   "codemirror_mode": {
    "name": "ipython",
    "version": 3
   },
   "file_extension": ".py",
   "mimetype": "text/x-python",
   "name": "python",
   "nbconvert_exporter": "python",
   "pygments_lexer": "ipython3",
   "version": "3.7.0"
  }
 },
 "nbformat": 4,
 "nbformat_minor": 1
}
