{
 "cells": [
  {
   "cell_type": "code",
   "execution_count": 20,
   "metadata": {},
   "outputs": [
    {
     "data": {
      "text/html": [
       "<div>\n",
       "<style scoped>\n",
       "    .dataframe tbody tr th:only-of-type {\n",
       "        vertical-align: middle;\n",
       "    }\n",
       "\n",
       "    .dataframe tbody tr th {\n",
       "        vertical-align: top;\n",
       "    }\n",
       "\n",
       "    .dataframe thead th {\n",
       "        text-align: right;\n",
       "    }\n",
       "</style>\n",
       "<table border=\"1\" class=\"dataframe\">\n",
       "  <thead>\n",
       "    <tr style=\"text-align: right;\">\n",
       "      <th></th>\n",
       "      <th>SALESPERSON</th>\n",
       "      <th>Old_Scheme</th>\n",
       "      <th>New_Scheme</th>\n",
       "    </tr>\n",
       "  </thead>\n",
       "  <tbody>\n",
       "    <tr>\n",
       "      <th>0</th>\n",
       "      <td>1</td>\n",
       "      <td>57</td>\n",
       "      <td>62</td>\n",
       "    </tr>\n",
       "    <tr>\n",
       "      <th>1</th>\n",
       "      <td>2</td>\n",
       "      <td>103</td>\n",
       "      <td>122</td>\n",
       "    </tr>\n",
       "    <tr>\n",
       "      <th>2</th>\n",
       "      <td>3</td>\n",
       "      <td>59</td>\n",
       "      <td>54</td>\n",
       "    </tr>\n",
       "  </tbody>\n",
       "</table>\n",
       "</div>"
      ],
      "text/plain": [
       "   SALESPERSON  Old_Scheme  New_Scheme\n",
       "0            1          57          62\n",
       "1            2         103         122\n",
       "2            3          59          54"
      ]
     },
     "execution_count": 20,
     "metadata": {},
     "output_type": "execute_result"
    }
   ],
   "source": [
    "import pandas as pd\n",
    "import numpy as np\n",
    "Sales_df = pd.read_csv(\"InsuranceSalesData.csv\")\n",
    "Sales_df.head(3)"
   ]
  },
  {
   "cell_type": "code",
   "execution_count": 21,
   "metadata": {},
   "outputs": [
    {
     "data": {
      "text/plain": [
       "68.03333333333333"
      ]
     },
     "execution_count": 21,
     "metadata": {},
     "output_type": "execute_result"
    }
   ],
   "source": [
    "## What is the MEAN Monthly Household Expense?\n",
    "Sales_df.Old_Scheme.mean()"
   ]
  },
  {
   "cell_type": "code",
   "execution_count": 22,
   "metadata": {},
   "outputs": [
    {
     "data": {
      "text/plain": [
       "72.03333333333333"
      ]
     },
     "execution_count": 22,
     "metadata": {},
     "output_type": "execute_result"
    }
   ],
   "source": [
    "## What is the MEDIAN Monthly Household Expense?\n",
    "Sales_df.New_Scheme.mean()"
   ]
  },
  {
   "cell_type": "code",
   "execution_count": 23,
   "metadata": {},
   "outputs": [
    {
     "data": {
      "text/html": [
       "<div>\n",
       "<style scoped>\n",
       "    .dataframe tbody tr th:only-of-type {\n",
       "        vertical-align: middle;\n",
       "    }\n",
       "\n",
       "    .dataframe tbody tr th {\n",
       "        vertical-align: top;\n",
       "    }\n",
       "\n",
       "    .dataframe thead th {\n",
       "        text-align: right;\n",
       "    }\n",
       "</style>\n",
       "<table border=\"1\" class=\"dataframe\">\n",
       "  <thead>\n",
       "    <tr style=\"text-align: right;\">\n",
       "      <th></th>\n",
       "      <th>SALESPERSON</th>\n",
       "      <th>Old_Scheme</th>\n",
       "      <th>New_Scheme</th>\n",
       "    </tr>\n",
       "  </thead>\n",
       "  <tbody>\n",
       "    <tr>\n",
       "      <th>count</th>\n",
       "      <td>30.000000</td>\n",
       "      <td>30.000000</td>\n",
       "      <td>30.000000</td>\n",
       "    </tr>\n",
       "    <tr>\n",
       "      <th>mean</th>\n",
       "      <td>15.500000</td>\n",
       "      <td>68.033333</td>\n",
       "      <td>72.033333</td>\n",
       "    </tr>\n",
       "    <tr>\n",
       "      <th>std</th>\n",
       "      <td>8.803408</td>\n",
       "      <td>20.455980</td>\n",
       "      <td>24.062395</td>\n",
       "    </tr>\n",
       "    <tr>\n",
       "      <th>min</th>\n",
       "      <td>1.000000</td>\n",
       "      <td>28.000000</td>\n",
       "      <td>32.000000</td>\n",
       "    </tr>\n",
       "    <tr>\n",
       "      <th>25%</th>\n",
       "      <td>8.250000</td>\n",
       "      <td>54.000000</td>\n",
       "      <td>55.000000</td>\n",
       "    </tr>\n",
       "    <tr>\n",
       "      <th>50%</th>\n",
       "      <td>15.500000</td>\n",
       "      <td>67.000000</td>\n",
       "      <td>74.000000</td>\n",
       "    </tr>\n",
       "    <tr>\n",
       "      <th>75%</th>\n",
       "      <td>22.750000</td>\n",
       "      <td>81.500000</td>\n",
       "      <td>85.750000</td>\n",
       "    </tr>\n",
       "    <tr>\n",
       "      <th>max</th>\n",
       "      <td>30.000000</td>\n",
       "      <td>110.000000</td>\n",
       "      <td>122.000000</td>\n",
       "    </tr>\n",
       "  </tbody>\n",
       "</table>\n",
       "</div>"
      ],
      "text/plain": [
       "       SALESPERSON  Old_Scheme  New_Scheme\n",
       "count    30.000000   30.000000   30.000000\n",
       "mean     15.500000   68.033333   72.033333\n",
       "std       8.803408   20.455980   24.062395\n",
       "min       1.000000   28.000000   32.000000\n",
       "25%       8.250000   54.000000   55.000000\n",
       "50%      15.500000   67.000000   74.000000\n",
       "75%      22.750000   81.500000   85.750000\n",
       "max      30.000000  110.000000  122.000000"
      ]
     },
     "execution_count": 23,
     "metadata": {},
     "output_type": "execute_result"
    }
   ],
   "source": [
    "## Describe to get Descriptive Stats for all variables\n",
    "Sales_df.describe(include = 'all')"
   ]
  },
  {
   "cell_type": "code",
   "execution_count": 28,
   "metadata": {},
   "outputs": [
    {
     "name": "stdout",
     "output_type": "stream",
     "text": [
      "Statistics=0.989, p=0.981\n"
     ]
    }
   ],
   "source": [
    "## normality test\n",
    "## p <= alpha: reject H0, not normal.\n",
    "## p > alpha: fail to reject H0, normal.\n",
    "\n",
    "from scipy.stats import shapiro\n",
    "stat, p = shapiro(Sales_df.Old_Scheme)\n",
    "print('Statistics=%.3f, p=%.3f' % (stat, p))"
   ]
  },
  {
   "cell_type": "code",
   "execution_count": 32,
   "metadata": {},
   "outputs": [
    {
     "name": "stdout",
     "output_type": "stream",
     "text": [
      "Statistics=0.969, p=0.506\n"
     ]
    }
   ],
   "source": [
    "from scipy.stats import shapiro\n",
    "stat, p = shapiro(Sales_df.New_Scheme)\n",
    "print('Statistics=%.3f, p=%.3f' % (stat, p))"
   ]
  },
  {
   "cell_type": "code",
   "execution_count": 42,
   "metadata": {},
   "outputs": [
    {
     "name": "stdout",
     "output_type": "stream",
     "text": [
      "Statistics=0.940, p=0.089\n"
     ]
    }
   ],
   "source": [
    "Sales_df.diff=Sales_df.New_Scheme-Sales_df.Old_Scheme\n",
    "stat,p=shapiro(Sales_df.diff)\n",
    "print('Statistics=%.3f, p=%.3f' % (stat, p))"
   ]
  },
  {
   "cell_type": "code",
   "execution_count": null,
   "metadata": {},
   "outputs": [],
   "source": [
    "print(\"Pvalue> alpha, which means normal\")"
   ]
  },
  {
   "cell_type": "code",
   "execution_count": 44,
   "metadata": {},
   "outputs": [
    {
     "data": {
      "text/plain": [
       "Ttest_relResult(statistic=1.5559143823544377, pvalue=0.13057553961337662)"
      ]
     },
     "execution_count": 44,
     "metadata": {},
     "output_type": "execute_result"
    }
   ],
   "source": [
    "from scipy.stats import ttest_rel\n",
    "two_sample= ttest_rel(Sales_df.New_Scheme,Sales_df.Old_Scheme)\n",
    "two_sample"
   ]
  },
  {
   "cell_type": "code",
   "execution_count": 51,
   "metadata": {},
   "outputs": [
    {
     "name": "stdout",
     "output_type": "stream",
     "text": [
      "Pvalue> alpha, which means one cannot reject Null Hypothesis. So new scheme has not significantly raised outputs\n"
     ]
    }
   ],
   "source": [
    "print(\"Pvalue> alpha, which means one cannot reject Null Hypothesis. So new scheme has not significantly raised outputs\")"
   ]
  },
  {
   "cell_type": "code",
   "execution_count": 69,
   "metadata": {},
   "outputs": [
    {
     "name": "stdout",
     "output_type": "stream",
     "text": [
      "5\n",
      "4.077266194015083\n",
      "1.2263118869548852\n"
     ]
    },
    {
     "data": {
      "text/plain": [
       "0.8850270585625692"
      ]
     },
     "execution_count": 69,
     "metadata": {},
     "output_type": "execute_result"
    }
   ],
   "source": [
    "#Suppose it has been calculated that in order for Titan to break even, the average output must increase by £5000\n",
    "#in the scheme compared to the old scheme. If this figure is alternative hypothesis, what is:\n",
    "\n",
    "from math import sqrt\n",
    "import scipy.stats as stats\n",
    "n = 30\n",
    "diff_mean=5\n",
    "print(diff_mean)\n",
    "N1= len(Sales_df.New_Scheme)\n",
    "N2= len(Sales_df.Old_Scheme)\n",
    "df=(N1 + N2 -  2)\n",
    "std1=Sales_df.New_Scheme.std() \n",
    "std2=Sales_df.Old_Scheme.std()\n",
    "stdN1N2=sqrt(((N1-1)*(std1)**2 + (N2-1)*(std2)**2) / df )\n",
    "se = stdN1N2/sqrt(n)\n",
    "print(se)\n",
    "tstat = diff_mean/se\n",
    "print(tstat)\n",
    "df = n-1\n",
    "p = (stats.t.cdf(tstat,df=df))\n",
    "p"
   ]
  },
  {
   "cell_type": "code",
   "execution_count": 70,
   "metadata": {},
   "outputs": [
    {
     "name": "stdout",
     "output_type": "stream",
     "text": [
      "3.9\n",
      "4.077266194015083\n",
      "0.9565232718248106\n"
     ]
    },
    {
     "data": {
      "text/plain": [
       "0.8267734508898927"
      ]
     },
     "execution_count": 70,
     "metadata": {},
     "output_type": "execute_result"
    }
   ],
   "source": [
    "# b) What is the p- value of the hypothesis test if we test for a difference of $5000? \n",
    "\n",
    "# We need to convert from $ to Pound, which is 3.9 thousand increase in Pound. I have used 7.8 conversion rate to pound\n",
    "\n",
    "diff_mean_inpound=(5000* 0.78)/1000\n",
    "print(diff_mean_inpound)\n",
    "N1= len(Sales_df.New_Scheme)\n",
    "N2= len(Sales_df.Old_Scheme)\n",
    "df=(N1 + N2 -  2)\n",
    "std1=Sales_df.New_Scheme.std() \n",
    "std2=Sales_df.Old_Scheme.std()\n",
    "stdN1N2=sqrt(((N1-1)*(std1)**2 + (N2-1)*(std2)**2) / df )\n",
    "se = stdN1N2/sqrt(n)\n",
    "print(se)\n",
    "tstat = diff_mean_inpound/se\n",
    "print(tstat)\n",
    "df = n-1\n",
    "p = (stats.t.cdf(tstat,df=df))\n",
    "p"
   ]
  },
  {
   "cell_type": "code",
   "execution_count": 72,
   "metadata": {},
   "outputs": [
    {
     "name": "stdout",
     "output_type": "stream",
     "text": [
      "The type II error rate is often denoted as Bita.\n",
      "The power of a test is defined as '1 - Bita' and is the probability of rejecting the null hypothesis when it is false.\n",
      "The most common reason for type II errors is that the study is too small.\n"
     ]
    }
   ],
   "source": [
    "# c) Power of the test (5 points)\n",
    "print(\"The type II error rate is often denoted as Bita.\")\n",
    "print(\"The power of a test is defined as '1 - Bita' and is the probability of rejecting the null hypothesis when it is false.\") \n",
    "print(\"The most common reason for type II errors is that the study is too small.\")"
   ]
  },
  {
   "cell_type": "code",
   "execution_count": 45,
   "metadata": {},
   "outputs": [
    {
     "data": {
      "text/plain": [
       "Ttest_indResult(statistic=0.6937067608923764, pvalue=0.49063515686248105)"
      ]
     },
     "execution_count": 45,
     "metadata": {},
     "output_type": "execute_result"
    }
   ],
   "source": [
    "from scipy.stats import ttest_ind\n",
    "ttest = ttest_ind( Sales_df.New_Scheme,Sales_df.Old_Scheme, equal_var=True)\n",
    "ttest"
   ]
  },
  {
   "cell_type": "code",
   "execution_count": 74,
   "metadata": {},
   "outputs": [
    {
     "name": "stdout",
     "output_type": "stream",
     "text": [
      "\n",
      " The difference between groups is \n",
      "    9.000 [-2.542 to 20.542] (mean [95% CI])\n"
     ]
    }
   ],
   "source": [
    "from math import sqrt\n",
    "from scipy.stats import t\n",
    "N1= len(Sales_df.New_Scheme)\n",
    "N2= len(Sales_df.Old_Scheme)\n",
    "df=(N1 + N2 -  2)\n",
    "std1=Sales_df.New_Scheme.std() \n",
    "std2=Sales_df.Old_Scheme.std()\n",
    "stdN1N2=sqrt(((N1-1)*(std1)**2 + (N2-1)*(std2)**2) / df )\n",
    "\n",
    "diff_mean = Sales_df.New_Scheme.mean() + 5 - Sales_df.Old_Scheme.mean()\n",
    "MoE= t.ppf(0.975,df) * stdN1N2 * sqrt(1/N1 + 1/N2)\n",
    "\n",
    "print(\"\\n The difference between groups is \\n\\\n",
    "    {:3.3f} [{:3.3f} to {:3.3f}] (mean [95% CI])\".format(diff_mean, diff_mean- MoE, diff_mean+ MoE))\n"
   ]
  },
  {
   "cell_type": "code",
   "execution_count": 48,
   "metadata": {},
   "outputs": [
    {
     "name": "stdout",
     "output_type": "stream",
     "text": [
      "As there is not much difference in sales data, so we may accept NUll Hypothesis\n",
      "Hence new scheme has not significantly raised outputs\n"
     ]
    }
   ],
   "source": [
    "print(\"As there is not much difference in sales data, so we may accept NUll Hypothesis\")\n",
    "print(\"Hence new scheme has not significantly raised outputs\")"
   ]
  },
  {
   "cell_type": "code",
   "execution_count": null,
   "metadata": {},
   "outputs": [],
   "source": []
  }
 ],
 "metadata": {
  "anaconda-cloud": {},
  "kernelspec": {
   "display_name": "Python 3",
   "language": "python",
   "name": "python3"
  },
  "language_info": {
   "codemirror_mode": {
    "name": "ipython",
    "version": 3
   },
   "file_extension": ".py",
   "mimetype": "text/x-python",
   "name": "python",
   "nbconvert_exporter": "python",
   "pygments_lexer": "ipython3",
   "version": "3.7.0"
  }
 },
 "nbformat": 4,
 "nbformat_minor": 1
}
